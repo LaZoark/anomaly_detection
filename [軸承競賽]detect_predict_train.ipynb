{
  "cells": [
    {
      "cell_type": "markdown",
      "metadata": {
        "id": "view-in-github",
        "colab_type": "text"
      },
      "source": [
        "<a href=\"https://colab.research.google.com/github/LaZoark/anomaly_detection/blob/main/%5B%E8%BB%B8%E6%89%BF%E7%AB%B6%E8%B3%BD%5Ddetect_predict_train.ipynb\" target=\"_parent\"><img src=\"https://colab.research.google.com/assets/colab-badge.svg\" alt=\"Open In Colab\"/></a>"
      ]
    },
    {
      "cell_type": "code",
      "execution_count": 201,
      "metadata": {
        "id": "pMGey1CVm2-i"
      },
      "outputs": [],
      "source": [
        "import os\n",
        "import pandas as pd\n",
        "import numpy as np\n",
        "import random\n",
        "import datetime\n",
        "\n",
        "import tensorflow as tf\n",
        "import keras\n",
        "from keras.layers import Dense\n",
        "from keras import regularizers\n",
        "\n",
        "from sklearn import preprocessing\n",
        "from sklearn.model_selection import train_test_split\n",
        "from sklearn.preprocessing import StandardScaler,MinMaxScaler\n",
        "from sklearn.metrics import mean_squared_error\n",
        "from sklearn.metrics import confusion_matrix, precision_recall_curve\n",
        "from sklearn.metrics import recall_score, classification_report, auc, roc_curve\n",
        "from sklearn.metrics import precision_recall_fscore_support, f1_score\n",
        "import joblib\n",
        "\n",
        "# import pymongo\n",
        "# from pymongo import MongoClient\n",
        "# import psycopg2\n",
        "# from psycopg2.extras import execute_values\n",
        "\n",
        "from matplotlib import pyplot as plt\n",
        "\n",
        "# For reproducible results\n",
        "# tf.random.set_seed(123456)\n",
        "np.random.seed(123456)\n",
        "random.seed(123456)"
      ]
    },
    {
      "cell_type": "markdown",
      "metadata": {
        "id": "YInoURtsm2-j"
      },
      "source": [
        "# Envs setting"
      ]
    },
    {
      "cell_type": "code",
      "execution_count": 202,
      "metadata": {
        "id": "_YHHqU5Sm2-k"
      },
      "outputs": [],
      "source": [
        "# # deviceID\n",
        "# deviceID = 'FF556D31'\n",
        "\n",
        "# model saving path\n",
        "save_path = 'training_model/'\n",
        "\n",
        "# create model saving folder\n",
        "if not os.path.exists('./training_model'):\n",
        "    os.makedirs('./training_model')"
      ]
    },
    {
      "cell_type": "code",
      "execution_count": 203,
      "metadata": {
        "id": "UQ11EKP2m2-k"
      },
      "outputs": [],
      "source": [
        "config = {}\n",
        "envs = {\n",
        "    # \"deviceID\": 'FF548D29',\n",
        "    \"deviceID\": 'bearing_comp',\n",
        "    # \"deviceID\": 'JNU_bearing',\n",
        "}"
      ]
    },
    {
      "cell_type": "code",
      "execution_count": 204,
      "metadata": {
        "colab": {
          "base_uri": "https://localhost:8080/"
        },
        "id": "WjdIuQZrm2-k",
        "outputId": "37117b5f-6408-4158-a8d4-5eef537c99b8"
      },
      "outputs": [
        {
          "output_type": "stream",
          "name": "stdout",
          "text": [
            "{'deviceID': 'bearing_comp'}\n"
          ]
        }
      ],
      "source": [
        "for env, default in envs.items():\n",
        "    config.update({\n",
        "        env: os.getenv(env, default)\n",
        "    })\n",
        "print(config)"
      ]
    },
    {
      "cell_type": "code",
      "execution_count": 205,
      "metadata": {
        "id": "D6rujHiXBCpB"
      },
      "outputs": [],
      "source": [
        "E_model_name = config['deviceID'] +\"_pretrain_encoder.h5\"\n",
        "D_model_name = config['deviceID'] +\"_pretrain_decoder.h5\"\n",
        "\n",
        "M_model_name = config['deviceID'] +\"_metatrain_encoder.h5\"\n",
        "MF_model_name = config['deviceID'] +\"_metatrain_decoder.h5\"\n",
        "\n",
        "PF_model_name = config['deviceID'] +\"_ft_decoder.h5\"\n",
        "MFR_model_name = config['deviceID'] +\"_meta_reft_decoder.h5\"\n",
        "\n",
        "scalers = config['deviceID'] +\"_scaler.h5\"\n",
        "train_dataset = config['deviceID'] +\"_Train.csv\"\n",
        "inference_dataset = config['deviceID'] +\"_Test.csv\"\n",
        "Inference_result_name = config['deviceID'] +\"_inference_result\""
      ]
    },
    {
      "cell_type": "code",
      "execution_count": 206,
      "metadata": {
        "id": "0uI0Lhrim2-l"
      },
      "outputs": [],
      "source": [
        "metatrain_encoder_model = save_path + M_model_name\n",
        "metatrain_refinetune_decoder_model = save_path + MFR_model_name\n",
        "\n",
        "pretrain_encoder_model = save_path + E_model_name\n",
        "pretrain_decoder_model = save_path + D_model_name\n",
        "\n",
        "metatrain_finetune_decoder_model = save_path + MF_model_name\n",
        "pretrain_finetune_decoder_model = save_path + PF_model_name\n",
        "\n",
        "pretrain_scaler_name = save_path + scalers\n",
        "Train_dataset = train_dataset"
      ]
    },
    {
      "cell_type": "markdown",
      "metadata": {
        "id": "X2Q9DHJcm2-l"
      },
      "source": [
        "# Load 7 days Data from datahub"
      ]
    },
    {
      "cell_type": "code",
      "source": [
        "if envs['deviceID'] == 'FF548D29':\n",
        "    # data = download_from_datahub(config['deviceID'])\n",
        "    from google.colab import drive\n",
        "    drive.mount('/content/drive')\n",
        "elif envs['deviceID'] == 'bearing_comp':\n",
        "    # 軸承競賽 train.csv\n",
        "    !wget https://github.com/dreamingfish2011/ml_dl/raw/master/com/self/ml/classify/bearing/train.csv\n",
        "elif envs['deviceID'] == 'JNU_bearing':\n",
        "    # 江南大學 bearing datasets\n",
        "    ! wget https://github.com/LaZoark/anomaly_detection/raw/main/Jiangnan_bearing/B600.csv\n",
        "    ! wget https://github.com/LaZoark/anomaly_detection/raw/main/Jiangnan_bearing/B800.csv\n",
        "    ! wget https://github.com/LaZoark/anomaly_detection/raw/main/Jiangnan_bearing/B1000.csv\n",
        "    ! wget https://github.com/LaZoark/anomaly_detection/raw/main/Jiangnan_bearing/IR600.csv\n",
        "    ! wget https://github.com/LaZoark/anomaly_detection/raw/main/Jiangnan_bearing/IR800.csv\n",
        "    ! wget https://github.com/LaZoark/anomaly_detection/raw/main/Jiangnan_bearing/IR1000.csv\n",
        "    ! wget https://github.com/LaZoark/anomaly_detection/raw/main/Jiangnan_bearing/OR600.csv\n",
        "    ! wget https://github.com/LaZoark/anomaly_detection/raw/main/Jiangnan_bearing/OR800.csv\n",
        "    ! wget https://github.com/LaZoark/anomaly_detection/raw/main/Jiangnan_bearing/OR1000.csv\n",
        "    ! wget https://github.com/LaZoark/anomaly_detection/raw/main/Jiangnan_bearing/N600.csv\n",
        "    ! wget https://github.com/LaZoark/anomaly_detection/raw/main/Jiangnan_bearing/N800.csv\n",
        "    ! wget https://github.com/LaZoark/anomaly_detection/raw/main/Jiangnan_bearing/N1000.csv"
      ],
      "metadata": {
        "id": "MMnV31kigQgb",
        "colab": {
          "base_uri": "https://localhost:8080/"
        },
        "outputId": "1c7305fd-a5dc-48f6-c013-29d77f7d70a4"
      },
      "execution_count": 207,
      "outputs": [
        {
          "output_type": "stream",
          "name": "stdout",
          "text": [
            "--2022-05-23 15:00:02--  https://github.com/dreamingfish2011/ml_dl/raw/master/com/self/ml/classify/bearing/train.csv\n",
            "Resolving github.com (github.com)... 140.82.113.3\n",
            "Connecting to github.com (github.com)|140.82.113.3|:443... connected.\n",
            "HTTP request sent, awaiting response... 302 Found\n",
            "Location: https://raw.githubusercontent.com/dreamingfish2011/ml_dl/master/com/self/ml/classify/bearing/train.csv [following]\n",
            "--2022-05-23 15:00:02--  https://raw.githubusercontent.com/dreamingfish2011/ml_dl/master/com/self/ml/classify/bearing/train.csv\n",
            "Resolving raw.githubusercontent.com (raw.githubusercontent.com)... 185.199.108.133, 185.199.109.133, 185.199.110.133, ...\n",
            "Connecting to raw.githubusercontent.com (raw.githubusercontent.com)|185.199.108.133|:443... connected.\n",
            "HTTP request sent, awaiting response... 200 OK\n",
            "Length: 96539633 (92M) [text/plain]\n",
            "Saving to: ‘train.csv.2’\n",
            "\n",
            "train.csv.2         100%[===================>]  92.07M   203MB/s    in 0.5s    \n",
            "\n",
            "2022-05-23 15:00:03 (203 MB/s) - ‘train.csv.2’ saved [96539633/96539633]\n",
            "\n"
          ]
        }
      ]
    },
    {
      "cell_type": "code",
      "source": [
        "_path = ['/content/drive/MyDrive/[研華科技]水泵聯軸器與馬達raw data/fine_水泵聯軸器_20211116.csv',\n",
        "         '/content/drive/MyDrive/[研華科技]水泵聯軸器與馬達raw data/水泵馬達_20211116.csv',\n",
        "         '/content/train.csv',\n",
        "         '/content/N600.csv',\n",
        "]\n",
        "\n",
        "if envs['deviceID'] == 'FF548D29':\n",
        "    # data = pd.read_csv(_path[0], encoding='utf-8')\n",
        "    data = pd.read_csv(_path[1], encoding='utf-8')\n",
        "elif envs['deviceID'] == 'JNU_bearing':\n",
        "    data = pd.read_csv(_path[3], encoding='utf-8')\n",
        "elif envs['deviceID'] == 'bearing_comp':\n",
        "    data = pd.read_csv(_path[2], encoding='utf-8', index_col='id')"
      ],
      "metadata": {
        "id": "AkC3ydQyFwsJ"
      },
      "execution_count": 208,
      "outputs": []
    },
    {
      "cell_type": "code",
      "execution_count": 209,
      "metadata": {
        "id": "iEl7eoheBCpE"
      },
      "outputs": [],
      "source": [
        "def delete_outlier(df, name):    \n",
        "    df_value = df[name]\n",
        "    s = df_value.copy()\n",
        "    zscore = s - s.mean()\n",
        "    sigma = s.std()\n",
        "    df['isOutlier'] = zscore.abs() > 6 * sigma\n",
        "    #找出在3 sigma內的正常值\n",
        "    df_in = df[df['isOutlier'] == False]\n",
        "    df_in2 = df_in.drop(['isOutlier'],axis=1)\n",
        "\n",
        "    return df_in2"
      ]
    },
    {
      "cell_type": "code",
      "source": [
        "#drop \"id\"\n",
        "# data.drop(data.columns[0], axis=1, inplace=True)\n",
        "data"
      ],
      "metadata": {
        "colab": {
          "base_uri": "https://localhost:8080/",
          "height": 519
        },
        "id": "8HWchIMsjFhD",
        "outputId": "e057a35e-ceed-45a5-dc68-80063638a026"
      },
      "execution_count": 210,
      "outputs": [
        {
          "output_type": "execute_result",
          "data": {
            "text/plain": [
              "            1         2         3         4         5         6         7  \\\n",
              "id                                                                          \n",
              "1    0.563650  1.069229 -0.837759 -1.122021  0.433296  0.770755 -0.477153   \n",
              "2    0.061333  0.058830  0.056952  0.068634  0.073433  0.072390  0.042975   \n",
              "3    0.035736  0.010964 -0.164872 -0.167714 -0.125075 -0.104771 -0.016650   \n",
              "4   -0.046700  0.060913  0.009340 -0.093400 -0.067817  0.022335  0.006091   \n",
              "5    0.162922 -0.377662  0.014457  0.565437 -0.203369 -0.511508  0.410961   \n",
              "..        ...       ...       ...       ...       ...       ...       ...   \n",
              "788 -0.106811 -0.113487 -0.098884 -0.070929 -0.054031 -0.011265  0.031710   \n",
              "789  1.775416  2.268407 -0.783750 -2.423126 -0.356139  2.712261  1.358364   \n",
              "790 -0.320809  0.141319  0.962022 -0.022335 -0.903139  0.454412  1.038773   \n",
              "791  0.055878  0.104933 -0.030863 -0.087390  0.028589 -0.037360 -0.046294   \n",
              "792  0.091613  0.037847  0.063025  0.067248 -0.081055 -0.048893  0.137095   \n",
              "\n",
              "            8         9        10  ...      5992      5993      5994  \\\n",
              "id                                 ...                                 \n",
              "1   -0.588421  0.455224  0.555122  ... -0.050761  0.220506  0.036548   \n",
              "2   -0.007302 -0.026286 -0.006050  ...  0.061333  0.107437  0.104516   \n",
              "3    0.151471  0.137258  0.045076  ...  4.272044 -1.991455 -2.922208   \n",
              "4   -0.076751 -0.032893  0.023553  ...  0.095025 -0.000406  0.091776   \n",
              "5    0.228546 -0.515244  0.013157  ... -0.093563 -0.263632  0.114517   \n",
              "..        ...       ...       ...  ...       ...       ...       ...   \n",
              "788  0.051111  0.051111  0.015646  ...  0.003964 -0.002712 -0.011891   \n",
              "789 -2.023942 -1.642625  1.703538  ... -0.179897  0.879586  0.576645   \n",
              "790 -0.651365 -0.790653  0.815830  ...  0.071471  0.077563  0.168933   \n",
              "791 -0.062375 -0.006660  0.004061  ... -0.145542 -0.085116  0.097948   \n",
              "792  0.081705 -0.268343 -0.192973  ... -0.000975 -0.079431  0.045319   \n",
              "\n",
              "         5995      5996      5997      5998      5999      6000  label  \n",
              "id                                                                      \n",
              "1   -0.097461 -0.084060 -0.007716 -0.049949 -0.018274  0.021523      7  \n",
              "2    0.063419 -0.014394 -0.048607 -0.009388  0.058830  0.129342      0  \n",
              "3    1.937039  0.704156 -2.085667  0.203044  0.739892 -2.149829      9  \n",
              "4    0.074314 -0.082842 -0.110050 -0.028020  0.025990 -0.050355      9  \n",
              "5    0.209541 -0.184851 -0.075370  0.286211  0.005685 -0.223348      7  \n",
              "..        ...       ...       ...       ...       ...       ...    ...  \n",
              "788 -0.003338  0.030458  0.051319  0.042349  0.010639 -0.031918      0  \n",
              "789 -0.486899 -0.652583  0.233094  0.760196 -0.030050 -0.861312      7  \n",
              "790  0.131572  0.032487  0.071878  0.000406 -0.067817  0.006091      9  \n",
              "791 -0.007797 -0.085766  0.108507  0.074558 -0.053766  0.053604      3  \n",
              "792  0.023066 -0.163572 -0.097624  0.118090 -0.008609 -0.198821      3  \n",
              "\n",
              "[792 rows x 6001 columns]"
            ],
            "text/html": [
              "\n",
              "  <div id=\"df-1c0f3e7f-437f-4d95-a247-9057c0089fe0\">\n",
              "    <div class=\"colab-df-container\">\n",
              "      <div>\n",
              "<style scoped>\n",
              "    .dataframe tbody tr th:only-of-type {\n",
              "        vertical-align: middle;\n",
              "    }\n",
              "\n",
              "    .dataframe tbody tr th {\n",
              "        vertical-align: top;\n",
              "    }\n",
              "\n",
              "    .dataframe thead th {\n",
              "        text-align: right;\n",
              "    }\n",
              "</style>\n",
              "<table border=\"1\" class=\"dataframe\">\n",
              "  <thead>\n",
              "    <tr style=\"text-align: right;\">\n",
              "      <th></th>\n",
              "      <th>1</th>\n",
              "      <th>2</th>\n",
              "      <th>3</th>\n",
              "      <th>4</th>\n",
              "      <th>5</th>\n",
              "      <th>6</th>\n",
              "      <th>7</th>\n",
              "      <th>8</th>\n",
              "      <th>9</th>\n",
              "      <th>10</th>\n",
              "      <th>...</th>\n",
              "      <th>5992</th>\n",
              "      <th>5993</th>\n",
              "      <th>5994</th>\n",
              "      <th>5995</th>\n",
              "      <th>5996</th>\n",
              "      <th>5997</th>\n",
              "      <th>5998</th>\n",
              "      <th>5999</th>\n",
              "      <th>6000</th>\n",
              "      <th>label</th>\n",
              "    </tr>\n",
              "    <tr>\n",
              "      <th>id</th>\n",
              "      <th></th>\n",
              "      <th></th>\n",
              "      <th></th>\n",
              "      <th></th>\n",
              "      <th></th>\n",
              "      <th></th>\n",
              "      <th></th>\n",
              "      <th></th>\n",
              "      <th></th>\n",
              "      <th></th>\n",
              "      <th></th>\n",
              "      <th></th>\n",
              "      <th></th>\n",
              "      <th></th>\n",
              "      <th></th>\n",
              "      <th></th>\n",
              "      <th></th>\n",
              "      <th></th>\n",
              "      <th></th>\n",
              "      <th></th>\n",
              "      <th></th>\n",
              "    </tr>\n",
              "  </thead>\n",
              "  <tbody>\n",
              "    <tr>\n",
              "      <th>1</th>\n",
              "      <td>0.563650</td>\n",
              "      <td>1.069229</td>\n",
              "      <td>-0.837759</td>\n",
              "      <td>-1.122021</td>\n",
              "      <td>0.433296</td>\n",
              "      <td>0.770755</td>\n",
              "      <td>-0.477153</td>\n",
              "      <td>-0.588421</td>\n",
              "      <td>0.455224</td>\n",
              "      <td>0.555122</td>\n",
              "      <td>...</td>\n",
              "      <td>-0.050761</td>\n",
              "      <td>0.220506</td>\n",
              "      <td>0.036548</td>\n",
              "      <td>-0.097461</td>\n",
              "      <td>-0.084060</td>\n",
              "      <td>-0.007716</td>\n",
              "      <td>-0.049949</td>\n",
              "      <td>-0.018274</td>\n",
              "      <td>0.021523</td>\n",
              "      <td>7</td>\n",
              "    </tr>\n",
              "    <tr>\n",
              "      <th>2</th>\n",
              "      <td>0.061333</td>\n",
              "      <td>0.058830</td>\n",
              "      <td>0.056952</td>\n",
              "      <td>0.068634</td>\n",
              "      <td>0.073433</td>\n",
              "      <td>0.072390</td>\n",
              "      <td>0.042975</td>\n",
              "      <td>-0.007302</td>\n",
              "      <td>-0.026286</td>\n",
              "      <td>-0.006050</td>\n",
              "      <td>...</td>\n",
              "      <td>0.061333</td>\n",
              "      <td>0.107437</td>\n",
              "      <td>0.104516</td>\n",
              "      <td>0.063419</td>\n",
              "      <td>-0.014394</td>\n",
              "      <td>-0.048607</td>\n",
              "      <td>-0.009388</td>\n",
              "      <td>0.058830</td>\n",
              "      <td>0.129342</td>\n",
              "      <td>0</td>\n",
              "    </tr>\n",
              "    <tr>\n",
              "      <th>3</th>\n",
              "      <td>0.035736</td>\n",
              "      <td>0.010964</td>\n",
              "      <td>-0.164872</td>\n",
              "      <td>-0.167714</td>\n",
              "      <td>-0.125075</td>\n",
              "      <td>-0.104771</td>\n",
              "      <td>-0.016650</td>\n",
              "      <td>0.151471</td>\n",
              "      <td>0.137258</td>\n",
              "      <td>0.045076</td>\n",
              "      <td>...</td>\n",
              "      <td>4.272044</td>\n",
              "      <td>-1.991455</td>\n",
              "      <td>-2.922208</td>\n",
              "      <td>1.937039</td>\n",
              "      <td>0.704156</td>\n",
              "      <td>-2.085667</td>\n",
              "      <td>0.203044</td>\n",
              "      <td>0.739892</td>\n",
              "      <td>-2.149829</td>\n",
              "      <td>9</td>\n",
              "    </tr>\n",
              "    <tr>\n",
              "      <th>4</th>\n",
              "      <td>-0.046700</td>\n",
              "      <td>0.060913</td>\n",
              "      <td>0.009340</td>\n",
              "      <td>-0.093400</td>\n",
              "      <td>-0.067817</td>\n",
              "      <td>0.022335</td>\n",
              "      <td>0.006091</td>\n",
              "      <td>-0.076751</td>\n",
              "      <td>-0.032893</td>\n",
              "      <td>0.023553</td>\n",
              "      <td>...</td>\n",
              "      <td>0.095025</td>\n",
              "      <td>-0.000406</td>\n",
              "      <td>0.091776</td>\n",
              "      <td>0.074314</td>\n",
              "      <td>-0.082842</td>\n",
              "      <td>-0.110050</td>\n",
              "      <td>-0.028020</td>\n",
              "      <td>0.025990</td>\n",
              "      <td>-0.050355</td>\n",
              "      <td>9</td>\n",
              "    </tr>\n",
              "    <tr>\n",
              "      <th>5</th>\n",
              "      <td>0.162922</td>\n",
              "      <td>-0.377662</td>\n",
              "      <td>0.014457</td>\n",
              "      <td>0.565437</td>\n",
              "      <td>-0.203369</td>\n",
              "      <td>-0.511508</td>\n",
              "      <td>0.410961</td>\n",
              "      <td>0.228546</td>\n",
              "      <td>-0.515244</td>\n",
              "      <td>0.013157</td>\n",
              "      <td>...</td>\n",
              "      <td>-0.093563</td>\n",
              "      <td>-0.263632</td>\n",
              "      <td>0.114517</td>\n",
              "      <td>0.209541</td>\n",
              "      <td>-0.184851</td>\n",
              "      <td>-0.075370</td>\n",
              "      <td>0.286211</td>\n",
              "      <td>0.005685</td>\n",
              "      <td>-0.223348</td>\n",
              "      <td>7</td>\n",
              "    </tr>\n",
              "    <tr>\n",
              "      <th>...</th>\n",
              "      <td>...</td>\n",
              "      <td>...</td>\n",
              "      <td>...</td>\n",
              "      <td>...</td>\n",
              "      <td>...</td>\n",
              "      <td>...</td>\n",
              "      <td>...</td>\n",
              "      <td>...</td>\n",
              "      <td>...</td>\n",
              "      <td>...</td>\n",
              "      <td>...</td>\n",
              "      <td>...</td>\n",
              "      <td>...</td>\n",
              "      <td>...</td>\n",
              "      <td>...</td>\n",
              "      <td>...</td>\n",
              "      <td>...</td>\n",
              "      <td>...</td>\n",
              "      <td>...</td>\n",
              "      <td>...</td>\n",
              "      <td>...</td>\n",
              "    </tr>\n",
              "    <tr>\n",
              "      <th>788</th>\n",
              "      <td>-0.106811</td>\n",
              "      <td>-0.113487</td>\n",
              "      <td>-0.098884</td>\n",
              "      <td>-0.070929</td>\n",
              "      <td>-0.054031</td>\n",
              "      <td>-0.011265</td>\n",
              "      <td>0.031710</td>\n",
              "      <td>0.051111</td>\n",
              "      <td>0.051111</td>\n",
              "      <td>0.015646</td>\n",
              "      <td>...</td>\n",
              "      <td>0.003964</td>\n",
              "      <td>-0.002712</td>\n",
              "      <td>-0.011891</td>\n",
              "      <td>-0.003338</td>\n",
              "      <td>0.030458</td>\n",
              "      <td>0.051319</td>\n",
              "      <td>0.042349</td>\n",
              "      <td>0.010639</td>\n",
              "      <td>-0.031918</td>\n",
              "      <td>0</td>\n",
              "    </tr>\n",
              "    <tr>\n",
              "      <th>789</th>\n",
              "      <td>1.775416</td>\n",
              "      <td>2.268407</td>\n",
              "      <td>-0.783750</td>\n",
              "      <td>-2.423126</td>\n",
              "      <td>-0.356139</td>\n",
              "      <td>2.712261</td>\n",
              "      <td>1.358364</td>\n",
              "      <td>-2.023942</td>\n",
              "      <td>-1.642625</td>\n",
              "      <td>1.703538</td>\n",
              "      <td>...</td>\n",
              "      <td>-0.179897</td>\n",
              "      <td>0.879586</td>\n",
              "      <td>0.576645</td>\n",
              "      <td>-0.486899</td>\n",
              "      <td>-0.652583</td>\n",
              "      <td>0.233094</td>\n",
              "      <td>0.760196</td>\n",
              "      <td>-0.030050</td>\n",
              "      <td>-0.861312</td>\n",
              "      <td>7</td>\n",
              "    </tr>\n",
              "    <tr>\n",
              "      <th>790</th>\n",
              "      <td>-0.320809</td>\n",
              "      <td>0.141319</td>\n",
              "      <td>0.962022</td>\n",
              "      <td>-0.022335</td>\n",
              "      <td>-0.903139</td>\n",
              "      <td>0.454412</td>\n",
              "      <td>1.038773</td>\n",
              "      <td>-0.651365</td>\n",
              "      <td>-0.790653</td>\n",
              "      <td>0.815830</td>\n",
              "      <td>...</td>\n",
              "      <td>0.071471</td>\n",
              "      <td>0.077563</td>\n",
              "      <td>0.168933</td>\n",
              "      <td>0.131572</td>\n",
              "      <td>0.032487</td>\n",
              "      <td>0.071878</td>\n",
              "      <td>0.000406</td>\n",
              "      <td>-0.067817</td>\n",
              "      <td>0.006091</td>\n",
              "      <td>9</td>\n",
              "    </tr>\n",
              "    <tr>\n",
              "      <th>791</th>\n",
              "      <td>0.055878</td>\n",
              "      <td>0.104933</td>\n",
              "      <td>-0.030863</td>\n",
              "      <td>-0.087390</td>\n",
              "      <td>0.028589</td>\n",
              "      <td>-0.037360</td>\n",
              "      <td>-0.046294</td>\n",
              "      <td>-0.062375</td>\n",
              "      <td>-0.006660</td>\n",
              "      <td>0.004061</td>\n",
              "      <td>...</td>\n",
              "      <td>-0.145542</td>\n",
              "      <td>-0.085116</td>\n",
              "      <td>0.097948</td>\n",
              "      <td>-0.007797</td>\n",
              "      <td>-0.085766</td>\n",
              "      <td>0.108507</td>\n",
              "      <td>0.074558</td>\n",
              "      <td>-0.053766</td>\n",
              "      <td>0.053604</td>\n",
              "      <td>3</td>\n",
              "    </tr>\n",
              "    <tr>\n",
              "      <th>792</th>\n",
              "      <td>0.091613</td>\n",
              "      <td>0.037847</td>\n",
              "      <td>0.063025</td>\n",
              "      <td>0.067248</td>\n",
              "      <td>-0.081055</td>\n",
              "      <td>-0.048893</td>\n",
              "      <td>0.137095</td>\n",
              "      <td>0.081705</td>\n",
              "      <td>-0.268343</td>\n",
              "      <td>-0.192973</td>\n",
              "      <td>...</td>\n",
              "      <td>-0.000975</td>\n",
              "      <td>-0.079431</td>\n",
              "      <td>0.045319</td>\n",
              "      <td>0.023066</td>\n",
              "      <td>-0.163572</td>\n",
              "      <td>-0.097624</td>\n",
              "      <td>0.118090</td>\n",
              "      <td>-0.008609</td>\n",
              "      <td>-0.198821</td>\n",
              "      <td>3</td>\n",
              "    </tr>\n",
              "  </tbody>\n",
              "</table>\n",
              "<p>792 rows × 6001 columns</p>\n",
              "</div>\n",
              "      <button class=\"colab-df-convert\" onclick=\"convertToInteractive('df-1c0f3e7f-437f-4d95-a247-9057c0089fe0')\"\n",
              "              title=\"Convert this dataframe to an interactive table.\"\n",
              "              style=\"display:none;\">\n",
              "        \n",
              "  <svg xmlns=\"http://www.w3.org/2000/svg\" height=\"24px\"viewBox=\"0 0 24 24\"\n",
              "       width=\"24px\">\n",
              "    <path d=\"M0 0h24v24H0V0z\" fill=\"none\"/>\n",
              "    <path d=\"M18.56 5.44l.94 2.06.94-2.06 2.06-.94-2.06-.94-.94-2.06-.94 2.06-2.06.94zm-11 1L8.5 8.5l.94-2.06 2.06-.94-2.06-.94L8.5 2.5l-.94 2.06-2.06.94zm10 10l.94 2.06.94-2.06 2.06-.94-2.06-.94-.94-2.06-.94 2.06-2.06.94z\"/><path d=\"M17.41 7.96l-1.37-1.37c-.4-.4-.92-.59-1.43-.59-.52 0-1.04.2-1.43.59L10.3 9.45l-7.72 7.72c-.78.78-.78 2.05 0 2.83L4 21.41c.39.39.9.59 1.41.59.51 0 1.02-.2 1.41-.59l7.78-7.78 2.81-2.81c.8-.78.8-2.07 0-2.86zM5.41 20L4 18.59l7.72-7.72 1.47 1.35L5.41 20z\"/>\n",
              "  </svg>\n",
              "      </button>\n",
              "      \n",
              "  <style>\n",
              "    .colab-df-container {\n",
              "      display:flex;\n",
              "      flex-wrap:wrap;\n",
              "      gap: 12px;\n",
              "    }\n",
              "\n",
              "    .colab-df-convert {\n",
              "      background-color: #E8F0FE;\n",
              "      border: none;\n",
              "      border-radius: 50%;\n",
              "      cursor: pointer;\n",
              "      display: none;\n",
              "      fill: #1967D2;\n",
              "      height: 32px;\n",
              "      padding: 0 0 0 0;\n",
              "      width: 32px;\n",
              "    }\n",
              "\n",
              "    .colab-df-convert:hover {\n",
              "      background-color: #E2EBFA;\n",
              "      box-shadow: 0px 1px 2px rgba(60, 64, 67, 0.3), 0px 1px 3px 1px rgba(60, 64, 67, 0.15);\n",
              "      fill: #174EA6;\n",
              "    }\n",
              "\n",
              "    [theme=dark] .colab-df-convert {\n",
              "      background-color: #3B4455;\n",
              "      fill: #D2E3FC;\n",
              "    }\n",
              "\n",
              "    [theme=dark] .colab-df-convert:hover {\n",
              "      background-color: #434B5C;\n",
              "      box-shadow: 0px 1px 3px 1px rgba(0, 0, 0, 0.15);\n",
              "      filter: drop-shadow(0px 1px 2px rgba(0, 0, 0, 0.3));\n",
              "      fill: #FFFFFF;\n",
              "    }\n",
              "  </style>\n",
              "\n",
              "      <script>\n",
              "        const buttonEl =\n",
              "          document.querySelector('#df-1c0f3e7f-437f-4d95-a247-9057c0089fe0 button.colab-df-convert');\n",
              "        buttonEl.style.display =\n",
              "          google.colab.kernel.accessAllowed ? 'block' : 'none';\n",
              "\n",
              "        async function convertToInteractive(key) {\n",
              "          const element = document.querySelector('#df-1c0f3e7f-437f-4d95-a247-9057c0089fe0');\n",
              "          const dataTable =\n",
              "            await google.colab.kernel.invokeFunction('convertToInteractive',\n",
              "                                                     [key], {});\n",
              "          if (!dataTable) return;\n",
              "\n",
              "          const docLinkHtml = 'Like what you see? Visit the ' +\n",
              "            '<a target=\"_blank\" href=https://colab.research.google.com/notebooks/data_table.ipynb>data table notebook</a>'\n",
              "            + ' to learn more about interactive tables.';\n",
              "          element.innerHTML = '';\n",
              "          dataTable['output_type'] = 'display_data';\n",
              "          await google.colab.output.renderOutput(dataTable, element);\n",
              "          const docLink = document.createElement('div');\n",
              "          docLink.innerHTML = docLinkHtml;\n",
              "          element.appendChild(docLink);\n",
              "        }\n",
              "      </script>\n",
              "    </div>\n",
              "  </div>\n",
              "  "
            ]
          },
          "metadata": {},
          "execution_count": 210
        }
      ]
    },
    {
      "cell_type": "code",
      "source": [
        "print(data.columns)\n",
        "if envs['deviceID'] == 'FF548D29':\n",
        "    try:\n",
        "        data['INV.HZ'].plot()\n",
        "        data['INV.KW'].plot()\n",
        "    except:\n",
        "        data[' INV.HZ'].plot()\n",
        "        data[' INV.KW'].plot()\n",
        "    plt.legend()\n",
        "elif envs['deviceID'] == 'JNU_bearing':\n",
        "    data.plot()"
      ],
      "metadata": {
        "colab": {
          "base_uri": "https://localhost:8080/"
        },
        "id": "51lwi5daL8FT",
        "outputId": "c9590d70-c009-4dea-9d72-b0ad40044acc"
      },
      "execution_count": 211,
      "outputs": [
        {
          "output_type": "stream",
          "name": "stdout",
          "text": [
            "Index(['1', '2', '3', '4', '5', '6', '7', '8', '9', '10',\n",
            "       ...\n",
            "       '5992', '5993', '5994', '5995', '5996', '5997', '5998', '5999', '6000',\n",
            "       'label'],\n",
            "      dtype='object', length=6001)\n"
          ]
        }
      ]
    },
    {
      "cell_type": "code",
      "execution_count": 212,
      "metadata": {
        "id": "3zwFC-0ZBCpF"
      },
      "outputs": [],
      "source": [
        "if envs['deviceID'] == 'FF548D29':\n",
        "    feature24=['X_OAVelocity', 'Y_OAVelocity', 'Z_OAVelocity',\n",
        "                'X_Peakmg', 'Y_Peakmg', 'Z_Peakmg', \n",
        "                'X_RMSmg', 'Y_RMSmg', 'Z_RMSmg',\n",
        "                'X_Kurtosis', 'Y_Kurtosis', 'Z_Kurtosis', \n",
        "                'X_CrestFactor', 'Y_CrestFactor', 'Z_CrestFactor', \n",
        "                'X_Skewness', 'Y_Skewness','Z_Skewness',\n",
        "                'X_Deviation', 'Y_Deviation', 'Z_Deviation',\n",
        "                'X_Displacement', 'Y_Displacement', 'Z_Displacement']\n",
        "\n",
        "\n",
        "    # show NA rows in the dataframe\n",
        "    df_NA = data[data.isnull().values==True]   #显示存在缺失值的行列\n",
        "\n",
        "    data = data.dropna() #剔除缺失行\n",
        "    data = data.drop_duplicates() #剔除重复行\n",
        "\n",
        "    # delete outlier rows 剔除异常行\n",
        "    \n",
        "    for i in range(len(feature24)):\n",
        "        data = delete_outlier(data, feature24[i])\n",
        "\n",
        "# 備份初步清理過後的原始資料\n",
        "rawdata = data.copy()"
      ]
    },
    {
      "cell_type": "code",
      "source": [
        "def plot_data(_data):\n",
        "    data_columns = list(_data.columns)\n",
        "    for i in data_columns:\n",
        "        try:\n",
        "            fig, ax = plt.subplots()\n",
        "            plt.title(i)\n",
        "            _data[i].plot(ax=ax)\n",
        "            plt.show()\n",
        "        except:\n",
        "            print(i)\n",
        "\n",
        "# plot_data(rawdata[:][0])"
      ],
      "metadata": {
        "id": "kqbsj4CDmScG"
      },
      "execution_count": 213,
      "outputs": []
    },
    {
      "cell_type": "code",
      "source": [
        "# data[0:5000].plot()"
      ],
      "metadata": {
        "id": "Vphpa0VqZ7vS"
      },
      "execution_count": 214,
      "outputs": []
    },
    {
      "cell_type": "code",
      "source": [
        "rawdata.iloc[1]\n",
        "if envs['deviceID'] == 'bearing_comp':\n",
        "    raw_label = rawdata['label']\n",
        "    print(raw_label)"
      ],
      "metadata": {
        "colab": {
          "base_uri": "https://localhost:8080/"
        },
        "id": "8A89n7HtlAt4",
        "outputId": "7b3fb1b6-bd41-4d2c-925a-e6a0eacaabdc"
      },
      "execution_count": 215,
      "outputs": [
        {
          "output_type": "stream",
          "name": "stdout",
          "text": [
            "id\n",
            "1      7\n",
            "2      0\n",
            "3      9\n",
            "4      9\n",
            "5      7\n",
            "      ..\n",
            "788    0\n",
            "789    7\n",
            "790    9\n",
            "791    3\n",
            "792    3\n",
            "Name: label, Length: 792, dtype: int64\n"
          ]
        }
      ]
    },
    {
      "cell_type": "code",
      "execution_count": 216,
      "metadata": {
        "id": "1FZRdQC7BCpG",
        "colab": {
          "base_uri": "https://localhost:8080/"
        },
        "outputId": "1b1623af-52d3-4f30-d00d-4b905ff8d039"
      },
      "outputs": [
        {
          "output_type": "stream",
          "name": "stdout",
          "text": [
            "normal data:  (177, 6000)\n"
          ]
        },
        {
          "output_type": "stream",
          "name": "stderr",
          "text": [
            "/usr/local/lib/python3.7/dist-packages/pandas/core/frame.py:4913: SettingWithCopyWarning: \n",
            "A value is trying to be set on a copy of a slice from a DataFrame\n",
            "\n",
            "See the caveats in the documentation: https://pandas.pydata.org/pandas-docs/stable/user_guide/indexing.html#returning-a-view-versus-a-copy\n",
            "  errors=errors,\n"
          ]
        }
      ],
      "source": [
        "if envs['deviceID'] == 'FF548D29':\n",
        "    data_24_no_abnormal = data.reindex(columns=feature24)\n",
        "    print('data_24_no_abnormal: ', data_24_no_abnormal.shape)\n",
        "elif envs['deviceID'] == 'JNU_bearing':\n",
        "    data_normal = data.copy()\n",
        "elif envs['deviceID'] == 'bearing_comp':\n",
        "    data_normal = rawdata[rawdata['label']==0]\n",
        "    data_normal.drop('label', axis=1, inplace=True)\n",
        "    print('normal data: ', data_normal.shape)"
      ]
    },
    {
      "cell_type": "markdown",
      "metadata": {
        "id": "kGr6f1X5BCpG"
      },
      "source": [
        "# Normailize"
      ]
    },
    {
      "cell_type": "code",
      "execution_count": 217,
      "metadata": {
        "id": "8Yl5Qw5gBCpG"
      },
      "outputs": [],
      "source": [
        "if envs['deviceID'] == 'FF548D29':\n",
        "    Xy_drop = data_24_no_abnormal.copy()\n",
        "else:\n",
        "    Xy_drop = data_normal.copy()\n",
        "\n",
        "scaler = MinMaxScaler().fit(Xy_drop)\n",
        "norm_data = scaler.transform(Xy_drop)\n",
        "norm_data = pd.DataFrame(norm_data)"
      ]
    },
    {
      "cell_type": "code",
      "execution_count": 218,
      "metadata": {
        "id": "C0TWChfdm2-q",
        "colab": {
          "base_uri": "https://localhost:8080/"
        },
        "outputId": "316aaac5-ec5b-4b2b-83ce-93ca59251dd5"
      },
      "outputs": [
        {
          "output_type": "execute_result",
          "data": {
            "text/plain": [
              "['training_model/bearing_comp_scaler.h5']"
            ]
          },
          "metadata": {},
          "execution_count": 218
        }
      ],
      "source": [
        "# Normailze scaler save to assigned folder path\n",
        "joblib.dump(scaler, pretrain_scaler_name)"
      ]
    },
    {
      "cell_type": "markdown",
      "metadata": {
        "id": "bkK4oUq4BCpH"
      },
      "source": [
        "# Make dataset"
      ]
    },
    {
      "cell_type": "code",
      "execution_count": 219,
      "metadata": {
        "colab": {
          "base_uri": "https://localhost:8080/"
        },
        "id": "FfxT5L-MCg-4",
        "outputId": "b0bcac48-c29e-4305-e9f1-eafacb6cea63"
      },
      "outputs": [
        {
          "output_type": "stream",
          "name": "stdout",
          "text": [
            "t1 ok\n"
          ]
        }
      ],
      "source": [
        "pid=0\n",
        "# Normalize\n",
        "\n",
        "#P(Pretrain) M(Metatrain)\n",
        "P_M_data = int(norm_data.shape[0]*0.4)\n",
        "#F(Finetune) T(Test)\n",
        "F_T_data = int(norm_data.shape[0]*0.2)\n",
        "\n",
        "t1P = P_M_data\n",
        "t1M = t1P + P_M_data\n",
        "t1F = t1M + F_T_data\n",
        "# t1T = t1F + F_T_data\n",
        "# t2M = t1T + P_M_data\n",
        "# t2F = t2M + F_T_data\n",
        "# t2T = t2F + F_T_data\n",
        "# t3F = t2T + F_T_data\n",
        "# t3T = t3F + F_T_data\n",
        "\n",
        "######################### t1 data##############################################\n",
        "\n",
        "# Training data for pretrain stage\n",
        "norm_Xy_drop_df = norm_data.iloc[0:t1P]\n",
        "\n",
        "# 將資料分成Train與Test\n",
        "x_train, x_test = train_test_split(norm_Xy_drop_df, test_size=0.2, random_state=0)\n",
        "\n",
        "# save splited set\n",
        "if not os.path.exists('./norm_data/pretrain/%d'%(pid+1)):\n",
        "    os.makedirs('./norm_data/pretrain/%d'%(pid+1))\n",
        "x_train.to_csv('./norm_data/pretrain/%d/train.csv'%(pid+1), index=False)\n",
        "x_test.to_csv('./norm_data/pretrain/%d/test.csv'%(pid+1), index=False)\n",
        "\n",
        "\n",
        "# Training data for meta stage\n",
        "norm_Xy_drop_df = norm_data.iloc[t1P:t1M]\n",
        "\n",
        "# split train and test set\n",
        "x_train, x_test = train_test_split(norm_Xy_drop_df, test_size=0.2, random_state=0)\n",
        "\n",
        "# save splited set\n",
        "if not os.path.exists('./norm_data/meta/%d'%(pid+1)):\n",
        "    os.makedirs('./norm_data/meta/%d'%(pid+1))\n",
        "x_train.to_csv('./norm_data/meta/%d/train.csv'%(pid+1), index=False)\n",
        "x_test.to_csv('./norm_data/meta/%d/test.csv'%(pid+1), index=False)\n",
        "\n",
        "# Training data for ft stage\n",
        "norm_Xy_drop_df = norm_data.iloc[t1M:t1F] \n",
        "\n",
        "# split train and test set\n",
        "x_train, x_test = train_test_split(norm_Xy_drop_df, test_size=0.8, random_state=0)\n",
        "\n",
        "# save splited set\n",
        "if not os.path.exists('./norm_data/ft/%d'%(pid+1)):\n",
        "    os.makedirs('./norm_data/ft/%d'%(pid+1))\n",
        "x_train.to_csv('./norm_data/ft/%d/train.csv'%(pid+1), index=False)\n",
        "x_test.to_csv('./norm_data/ft/%d/test.csv'%(pid+1), index=False)\n",
        "\n",
        "\n",
        "# # Test data\n",
        "# x_test = norm_data.iloc[t1F:t1T]\n",
        "\n",
        "# # save splited set\n",
        "# if not os.path.exists('./norm_data/test/%d'%(pid+1)):\n",
        "#     os.makedirs('./norm_data/test/%d'%(pid+1))\n",
        "# x_test.to_csv('./norm_data/test/%d/test.csv'%(pid+1), index=False)\n",
        "\n",
        "print('t1 ok')"
      ]
    },
    {
      "cell_type": "code",
      "source": [
        "x_train"
      ],
      "metadata": {
        "colab": {
          "base_uri": "https://localhost:8080/",
          "height": 362
        },
        "id": "ztboixSrvzHQ",
        "outputId": "2ed5e9c6-df20-47f3-fed2-e01742c6d68c"
      },
      "execution_count": 220,
      "outputs": [
        {
          "output_type": "execute_result",
          "data": {
            "text/plain": [
              "         0         1         2         3         4         5         6     \\\n",
              "161  0.760000  0.980030  0.926812  0.653278  0.608592  0.691150  0.643305   \n",
              "159  0.697419  0.468935  0.325123  0.324867  0.507757  0.716436  0.639316   \n",
              "149  0.630323  0.682692  0.788177  0.754282  0.757757  0.685731  0.466667   \n",
              "147  0.470968  0.365385  0.289937  0.243946  0.360979  0.528597  0.437037   \n",
              "173  0.098065  0.159763  0.257565  0.367986  0.493437  0.659843  0.637607   \n",
              "143  0.280000  0.147929  0.096411  0.148848  0.298329  0.510536  0.485470   \n",
              "140  0.289677  0.240385  0.330049  0.379209  0.454057  0.463576  0.247293   \n",
              "\n",
              "         7         8         9     ...      5990      5991      5992  \\\n",
              "161  0.633851  0.509346  0.518496  ...  0.932649  0.864055  0.804909   \n",
              "159  0.610248  0.584780  0.662762  ...  0.744708  0.616359  0.604783   \n",
              "149  0.518710  0.610814  0.695438  ...  0.463759  0.509793  0.471366   \n",
              "147  0.442142  0.367156  0.446979  ...  0.407312  0.464862  0.538074   \n",
              "173  0.656304  0.594126  0.503083  ...  0.402822  0.531106  0.619887   \n",
              "143  0.577432  0.753672  0.925401  ...  0.359205  0.396313  0.408433   \n",
              "140  0.230858  0.281709  0.491369  ...  0.822963  0.850230  0.964128   \n",
              "\n",
              "         5993      5994      5995      5996      5997      5998      5999  \n",
              "161  0.736722  0.690985  0.684044  0.705472  0.714770  0.580974  0.568796  \n",
              "159  0.635637  0.548636  0.438125  0.459764  0.590108  0.750283  0.847052  \n",
              "149  0.316962  0.072361  0.104792  0.366416  0.668022  0.745187  0.699631  \n",
              "147  0.572244  0.495848  0.355450  0.292382  0.272358  0.406569  0.509214  \n",
              "173  0.727013  0.736062  0.717746  0.660944  0.448509  0.240657  0.010442  \n",
              "143  0.449457  0.336299  0.360190  0.532725  0.653794  0.657418  0.495086  \n",
              "140  0.886351  0.664294  0.447077  0.458691  0.606369  0.698754  0.737101  \n",
              "\n",
              "[7 rows x 6000 columns]"
            ],
            "text/html": [
              "\n",
              "  <div id=\"df-7e833105-feb9-4962-bd1c-20b7ace30ce8\">\n",
              "    <div class=\"colab-df-container\">\n",
              "      <div>\n",
              "<style scoped>\n",
              "    .dataframe tbody tr th:only-of-type {\n",
              "        vertical-align: middle;\n",
              "    }\n",
              "\n",
              "    .dataframe tbody tr th {\n",
              "        vertical-align: top;\n",
              "    }\n",
              "\n",
              "    .dataframe thead th {\n",
              "        text-align: right;\n",
              "    }\n",
              "</style>\n",
              "<table border=\"1\" class=\"dataframe\">\n",
              "  <thead>\n",
              "    <tr style=\"text-align: right;\">\n",
              "      <th></th>\n",
              "      <th>0</th>\n",
              "      <th>1</th>\n",
              "      <th>2</th>\n",
              "      <th>3</th>\n",
              "      <th>4</th>\n",
              "      <th>5</th>\n",
              "      <th>6</th>\n",
              "      <th>7</th>\n",
              "      <th>8</th>\n",
              "      <th>9</th>\n",
              "      <th>...</th>\n",
              "      <th>5990</th>\n",
              "      <th>5991</th>\n",
              "      <th>5992</th>\n",
              "      <th>5993</th>\n",
              "      <th>5994</th>\n",
              "      <th>5995</th>\n",
              "      <th>5996</th>\n",
              "      <th>5997</th>\n",
              "      <th>5998</th>\n",
              "      <th>5999</th>\n",
              "    </tr>\n",
              "  </thead>\n",
              "  <tbody>\n",
              "    <tr>\n",
              "      <th>161</th>\n",
              "      <td>0.760000</td>\n",
              "      <td>0.980030</td>\n",
              "      <td>0.926812</td>\n",
              "      <td>0.653278</td>\n",
              "      <td>0.608592</td>\n",
              "      <td>0.691150</td>\n",
              "      <td>0.643305</td>\n",
              "      <td>0.633851</td>\n",
              "      <td>0.509346</td>\n",
              "      <td>0.518496</td>\n",
              "      <td>...</td>\n",
              "      <td>0.932649</td>\n",
              "      <td>0.864055</td>\n",
              "      <td>0.804909</td>\n",
              "      <td>0.736722</td>\n",
              "      <td>0.690985</td>\n",
              "      <td>0.684044</td>\n",
              "      <td>0.705472</td>\n",
              "      <td>0.714770</td>\n",
              "      <td>0.580974</td>\n",
              "      <td>0.568796</td>\n",
              "    </tr>\n",
              "    <tr>\n",
              "      <th>159</th>\n",
              "      <td>0.697419</td>\n",
              "      <td>0.468935</td>\n",
              "      <td>0.325123</td>\n",
              "      <td>0.324867</td>\n",
              "      <td>0.507757</td>\n",
              "      <td>0.716436</td>\n",
              "      <td>0.639316</td>\n",
              "      <td>0.610248</td>\n",
              "      <td>0.584780</td>\n",
              "      <td>0.662762</td>\n",
              "      <td>...</td>\n",
              "      <td>0.744708</td>\n",
              "      <td>0.616359</td>\n",
              "      <td>0.604783</td>\n",
              "      <td>0.635637</td>\n",
              "      <td>0.548636</td>\n",
              "      <td>0.438125</td>\n",
              "      <td>0.459764</td>\n",
              "      <td>0.590108</td>\n",
              "      <td>0.750283</td>\n",
              "      <td>0.847052</td>\n",
              "    </tr>\n",
              "    <tr>\n",
              "      <th>149</th>\n",
              "      <td>0.630323</td>\n",
              "      <td>0.682692</td>\n",
              "      <td>0.788177</td>\n",
              "      <td>0.754282</td>\n",
              "      <td>0.757757</td>\n",
              "      <td>0.685731</td>\n",
              "      <td>0.466667</td>\n",
              "      <td>0.518710</td>\n",
              "      <td>0.610814</td>\n",
              "      <td>0.695438</td>\n",
              "      <td>...</td>\n",
              "      <td>0.463759</td>\n",
              "      <td>0.509793</td>\n",
              "      <td>0.471366</td>\n",
              "      <td>0.316962</td>\n",
              "      <td>0.072361</td>\n",
              "      <td>0.104792</td>\n",
              "      <td>0.366416</td>\n",
              "      <td>0.668022</td>\n",
              "      <td>0.745187</td>\n",
              "      <td>0.699631</td>\n",
              "    </tr>\n",
              "    <tr>\n",
              "      <th>147</th>\n",
              "      <td>0.470968</td>\n",
              "      <td>0.365385</td>\n",
              "      <td>0.289937</td>\n",
              "      <td>0.243946</td>\n",
              "      <td>0.360979</td>\n",
              "      <td>0.528597</td>\n",
              "      <td>0.437037</td>\n",
              "      <td>0.442142</td>\n",
              "      <td>0.367156</td>\n",
              "      <td>0.446979</td>\n",
              "      <td>...</td>\n",
              "      <td>0.407312</td>\n",
              "      <td>0.464862</td>\n",
              "      <td>0.538074</td>\n",
              "      <td>0.572244</td>\n",
              "      <td>0.495848</td>\n",
              "      <td>0.355450</td>\n",
              "      <td>0.292382</td>\n",
              "      <td>0.272358</td>\n",
              "      <td>0.406569</td>\n",
              "      <td>0.509214</td>\n",
              "    </tr>\n",
              "    <tr>\n",
              "      <th>173</th>\n",
              "      <td>0.098065</td>\n",
              "      <td>0.159763</td>\n",
              "      <td>0.257565</td>\n",
              "      <td>0.367986</td>\n",
              "      <td>0.493437</td>\n",
              "      <td>0.659843</td>\n",
              "      <td>0.637607</td>\n",
              "      <td>0.656304</td>\n",
              "      <td>0.594126</td>\n",
              "      <td>0.503083</td>\n",
              "      <td>...</td>\n",
              "      <td>0.402822</td>\n",
              "      <td>0.531106</td>\n",
              "      <td>0.619887</td>\n",
              "      <td>0.727013</td>\n",
              "      <td>0.736062</td>\n",
              "      <td>0.717746</td>\n",
              "      <td>0.660944</td>\n",
              "      <td>0.448509</td>\n",
              "      <td>0.240657</td>\n",
              "      <td>0.010442</td>\n",
              "    </tr>\n",
              "    <tr>\n",
              "      <th>143</th>\n",
              "      <td>0.280000</td>\n",
              "      <td>0.147929</td>\n",
              "      <td>0.096411</td>\n",
              "      <td>0.148848</td>\n",
              "      <td>0.298329</td>\n",
              "      <td>0.510536</td>\n",
              "      <td>0.485470</td>\n",
              "      <td>0.577432</td>\n",
              "      <td>0.753672</td>\n",
              "      <td>0.925401</td>\n",
              "      <td>...</td>\n",
              "      <td>0.359205</td>\n",
              "      <td>0.396313</td>\n",
              "      <td>0.408433</td>\n",
              "      <td>0.449457</td>\n",
              "      <td>0.336299</td>\n",
              "      <td>0.360190</td>\n",
              "      <td>0.532725</td>\n",
              "      <td>0.653794</td>\n",
              "      <td>0.657418</td>\n",
              "      <td>0.495086</td>\n",
              "    </tr>\n",
              "    <tr>\n",
              "      <th>140</th>\n",
              "      <td>0.289677</td>\n",
              "      <td>0.240385</td>\n",
              "      <td>0.330049</td>\n",
              "      <td>0.379209</td>\n",
              "      <td>0.454057</td>\n",
              "      <td>0.463576</td>\n",
              "      <td>0.247293</td>\n",
              "      <td>0.230858</td>\n",
              "      <td>0.281709</td>\n",
              "      <td>0.491369</td>\n",
              "      <td>...</td>\n",
              "      <td>0.822963</td>\n",
              "      <td>0.850230</td>\n",
              "      <td>0.964128</td>\n",
              "      <td>0.886351</td>\n",
              "      <td>0.664294</td>\n",
              "      <td>0.447077</td>\n",
              "      <td>0.458691</td>\n",
              "      <td>0.606369</td>\n",
              "      <td>0.698754</td>\n",
              "      <td>0.737101</td>\n",
              "    </tr>\n",
              "  </tbody>\n",
              "</table>\n",
              "<p>7 rows × 6000 columns</p>\n",
              "</div>\n",
              "      <button class=\"colab-df-convert\" onclick=\"convertToInteractive('df-7e833105-feb9-4962-bd1c-20b7ace30ce8')\"\n",
              "              title=\"Convert this dataframe to an interactive table.\"\n",
              "              style=\"display:none;\">\n",
              "        \n",
              "  <svg xmlns=\"http://www.w3.org/2000/svg\" height=\"24px\"viewBox=\"0 0 24 24\"\n",
              "       width=\"24px\">\n",
              "    <path d=\"M0 0h24v24H0V0z\" fill=\"none\"/>\n",
              "    <path d=\"M18.56 5.44l.94 2.06.94-2.06 2.06-.94-2.06-.94-.94-2.06-.94 2.06-2.06.94zm-11 1L8.5 8.5l.94-2.06 2.06-.94-2.06-.94L8.5 2.5l-.94 2.06-2.06.94zm10 10l.94 2.06.94-2.06 2.06-.94-2.06-.94-.94-2.06-.94 2.06-2.06.94z\"/><path d=\"M17.41 7.96l-1.37-1.37c-.4-.4-.92-.59-1.43-.59-.52 0-1.04.2-1.43.59L10.3 9.45l-7.72 7.72c-.78.78-.78 2.05 0 2.83L4 21.41c.39.39.9.59 1.41.59.51 0 1.02-.2 1.41-.59l7.78-7.78 2.81-2.81c.8-.78.8-2.07 0-2.86zM5.41 20L4 18.59l7.72-7.72 1.47 1.35L5.41 20z\"/>\n",
              "  </svg>\n",
              "      </button>\n",
              "      \n",
              "  <style>\n",
              "    .colab-df-container {\n",
              "      display:flex;\n",
              "      flex-wrap:wrap;\n",
              "      gap: 12px;\n",
              "    }\n",
              "\n",
              "    .colab-df-convert {\n",
              "      background-color: #E8F0FE;\n",
              "      border: none;\n",
              "      border-radius: 50%;\n",
              "      cursor: pointer;\n",
              "      display: none;\n",
              "      fill: #1967D2;\n",
              "      height: 32px;\n",
              "      padding: 0 0 0 0;\n",
              "      width: 32px;\n",
              "    }\n",
              "\n",
              "    .colab-df-convert:hover {\n",
              "      background-color: #E2EBFA;\n",
              "      box-shadow: 0px 1px 2px rgba(60, 64, 67, 0.3), 0px 1px 3px 1px rgba(60, 64, 67, 0.15);\n",
              "      fill: #174EA6;\n",
              "    }\n",
              "\n",
              "    [theme=dark] .colab-df-convert {\n",
              "      background-color: #3B4455;\n",
              "      fill: #D2E3FC;\n",
              "    }\n",
              "\n",
              "    [theme=dark] .colab-df-convert:hover {\n",
              "      background-color: #434B5C;\n",
              "      box-shadow: 0px 1px 3px 1px rgba(0, 0, 0, 0.15);\n",
              "      filter: drop-shadow(0px 1px 2px rgba(0, 0, 0, 0.3));\n",
              "      fill: #FFFFFF;\n",
              "    }\n",
              "  </style>\n",
              "\n",
              "      <script>\n",
              "        const buttonEl =\n",
              "          document.querySelector('#df-7e833105-feb9-4962-bd1c-20b7ace30ce8 button.colab-df-convert');\n",
              "        buttonEl.style.display =\n",
              "          google.colab.kernel.accessAllowed ? 'block' : 'none';\n",
              "\n",
              "        async function convertToInteractive(key) {\n",
              "          const element = document.querySelector('#df-7e833105-feb9-4962-bd1c-20b7ace30ce8');\n",
              "          const dataTable =\n",
              "            await google.colab.kernel.invokeFunction('convertToInteractive',\n",
              "                                                     [key], {});\n",
              "          if (!dataTable) return;\n",
              "\n",
              "          const docLinkHtml = 'Like what you see? Visit the ' +\n",
              "            '<a target=\"_blank\" href=https://colab.research.google.com/notebooks/data_table.ipynb>data table notebook</a>'\n",
              "            + ' to learn more about interactive tables.';\n",
              "          element.innerHTML = '';\n",
              "          dataTable['output_type'] = 'display_data';\n",
              "          await google.colab.output.renderOutput(dataTable, element);\n",
              "          const docLink = document.createElement('div');\n",
              "          docLink.innerHTML = docLinkHtml;\n",
              "          element.appendChild(docLink);\n",
              "        }\n",
              "      </script>\n",
              "    </div>\n",
              "  </div>\n",
              "  "
            ]
          },
          "metadata": {},
          "execution_count": 220
        }
      ]
    },
    {
      "cell_type": "markdown",
      "metadata": {
        "id": "uywvNbolm2-s"
      },
      "source": [
        "# Pretrain stage"
      ]
    },
    {
      "cell_type": "code",
      "execution_count": 221,
      "metadata": {
        "id": "vH_vbFh0m2-s"
      },
      "outputs": [],
      "source": [
        "pretrain_train_path = './norm_data/pretrain/1/train.csv'\n",
        "pretrain_val_path = './norm_data/pretrain/1/test.csv'\n",
        "x_train = pd.read_csv(pretrain_train_path, dtype=np.float32)\n",
        "x_test = pd.read_csv(pretrain_val_path, dtype=np.float32)"
      ]
    },
    {
      "cell_type": "code",
      "execution_count": 222,
      "metadata": {
        "id": "bK6RF8OQm2-s"
      },
      "outputs": [],
      "source": [
        "# nb_epoch_number = 300\n",
        "nb_epoch_number = 50"
      ]
    },
    {
      "cell_type": "code",
      "execution_count": 223,
      "metadata": {
        "id": "LSC7ifqAm2-s",
        "scrolled": true
      },
      "outputs": [],
      "source": [
        "nb_epoch = nb_epoch_number #50\n",
        "if envs['deviceID'] == 'FF548D29':\n",
        "    batch_size = 10\n",
        "elif envs['deviceID'] == 'JNU_bearing':\n",
        "    batch_size = 64\n",
        "else:\n",
        "    batch_size = 10\n",
        "input_dim = x_train.shape[1] #num of predictor variables,  (24)\n",
        "encoding_dim = 32\n",
        "hidden_dim = int(encoding_dim / 2)\n",
        "lr_regularizers = 1e-3\n",
        "\n",
        "input_layer = keras.layers.Input(shape=(input_dim, ))\n",
        "x = Dense(encoding_dim, activation=\"relu\", \n",
        "                       activity_regularizer=regularizers.l1(lr_regularizers), name=\"enc_layer1\")(input_layer)\n",
        "x = Dense(hidden_dim, activation=\"relu\", name=\"enc_layer2\")(x)\n",
        "x = Dense(int(hidden_dim/2), activation=\"relu\", name=\"enc_layer3\")(x)\n",
        "encoder_output = Dense(int(hidden_dim/4), activation=\"relu\", name=\"enc_layer4\")(x)\n",
        "\n",
        "encoder = keras.Model(input_layer, encoder_output, name=\"encoder\")\n",
        "\n",
        "decoder_input = keras.layers.Input(shape=(int(hidden_dim/4),))\n",
        "x = Dense(int(encoding_dim/4), activation=\"relu\", name=\"dec_layer1\")(decoder_input)\n",
        "x = Dense(int(encoding_dim/2), activation=\"relu\", name=\"dec_layer2\")(x)\n",
        "x = Dense(encoding_dim, activation=\"relu\", name=\"dec_layer3\")(x)\n",
        "decoder_output = Dense(input_dim, activation=\"linear\", name=\"dec_layer4\")(x)\n",
        "\n",
        "decoder = keras.Model(decoder_input, decoder_output, name=\"decoder\")\n",
        "\n",
        "autoencoder_input = keras.layers.Input(shape=(input_dim, ), name=\"input\")\n",
        "encoded_sig = encoder(autoencoder_input)\n",
        "decoded_sig = decoder(encoded_sig)\n",
        "autoencoder = keras.models.Model(autoencoder_input, decoded_sig, name=\"autoencoder\")"
      ]
    },
    {
      "cell_type": "code",
      "execution_count": 224,
      "metadata": {
        "colab": {
          "base_uri": "https://localhost:8080/",
          "height": 1000
        },
        "id": "eNfK70yvm2-t",
        "outputId": "fa255e0f-8082-4f0b-9041-6f4a08edbc82"
      },
      "outputs": [
        {
          "output_type": "stream",
          "name": "stdout",
          "text": [
            "Model: \"autoencoder\"\n",
            "_________________________________________________________________\n",
            " Layer (type)                Output Shape              Param #   \n",
            "=================================================================\n",
            " input (InputLayer)          [(None, 6000)]            0         \n",
            "                                                                 \n",
            " encoder (Functional)        (None, 4)                 192732    \n",
            "                                                                 \n",
            " decoder (Functional)        (None, 6000)              198728    \n",
            "                                                                 \n",
            "=================================================================\n",
            "Total params: 391,460\n",
            "Trainable params: 391,460\n",
            "Non-trainable params: 0\n",
            "_________________________________________________________________\n"
          ]
        },
        {
          "output_type": "execute_result",
          "data": {
            "text/plain": [
              "<IPython.core.display.Image object>"
            ],
            "image/png": "[encoded data removed]"
          },
          "metadata": {},
          "execution_count": 224
        }
      ],
      "source": [
        "autoencoder.summary()\n",
        "\n",
        "tf.keras.utils.plot_model(autoencoder, to_file='model_1.png', show_shapes=True,\n",
        "                        expand_nested=True,\n",
        "                        show_layer_activations=True,\n",
        "                        )"
      ]
    },
    {
      "cell_type": "code",
      "execution_count": 225,
      "metadata": {
        "id": "wcin2J-wm2-u"
      },
      "outputs": [],
      "source": [
        "learning_rate = 3e-4\n",
        "adam = tf.keras.optimizers.Adam(learning_rate=learning_rate)\n",
        "\n",
        "autoencoder.compile(loss='mean_squared_error', optimizer=adam)\n",
        "\n",
        "if envs['deviceID'] == 'FF548D29':\n",
        "    patience = 50\n",
        "elif envs['deviceID'] == 'JNU_bearing':\n",
        "    patience = 10\n",
        "else:\n",
        "    patience = 30\n",
        "es = keras.callbacks.EarlyStopping(monitor='val_loss', patience=patience, restore_best_weights=True)"
      ]
    },
    {
      "cell_type": "code",
      "execution_count": 226,
      "metadata": {
        "colab": {
          "base_uri": "https://localhost:8080/"
        },
        "id": "byxzRrNqm2-u",
        "outputId": "2c222ec3-d2d8-4333-c72f-6b60f1440170"
      },
      "outputs": [
        {
          "output_type": "stream",
          "name": "stdout",
          "text": [
            "Epoch 1/50\n",
            "6/6 [==============================] - 1s 41ms/step - loss: 0.3129 - val_loss: 0.3078\n",
            "Epoch 2/50\n",
            "6/6 [==============================] - 0s 11ms/step - loss: 0.3084 - val_loss: 0.3059\n",
            "Epoch 3/50\n",
            "6/6 [==============================] - 0s 10ms/step - loss: 0.3064 - val_loss: 0.3038\n",
            "Epoch 4/50\n",
            "6/6 [==============================] - 0s 10ms/step - loss: 0.3043 - val_loss: 0.3016\n",
            "Epoch 5/50\n",
            "6/6 [==============================] - 0s 10ms/step - loss: 0.3020 - val_loss: 0.2990\n",
            "Epoch 6/50\n",
            "6/6 [==============================] - 0s 10ms/step - loss: 0.2993 - val_loss: 0.2961\n",
            "Epoch 7/50\n",
            "6/6 [==============================] - 0s 10ms/step - loss: 0.2962 - val_loss: 0.2927\n",
            "Epoch 8/50\n",
            "6/6 [==============================] - 0s 11ms/step - loss: 0.2925 - val_loss: 0.2886\n",
            "Epoch 9/50\n",
            "6/6 [==============================] - 0s 11ms/step - loss: 0.2882 - val_loss: 0.2838\n",
            "Epoch 10/50\n",
            "6/6 [==============================] - 0s 11ms/step - loss: 0.2831 - val_loss: 0.2782\n",
            "Epoch 11/50\n",
            "6/6 [==============================] - 0s 13ms/step - loss: 0.2771 - val_loss: 0.2717\n",
            "Epoch 12/50\n",
            "6/6 [==============================] - 0s 13ms/step - loss: 0.2701 - val_loss: 0.2640\n",
            "Epoch 13/50\n",
            "6/6 [==============================] - 0s 11ms/step - loss: 0.2621 - val_loss: 0.2552\n",
            "Epoch 14/50\n",
            "6/6 [==============================] - 0s 12ms/step - loss: 0.2528 - val_loss: 0.2452\n",
            "Epoch 15/50\n",
            "6/6 [==============================] - 0s 12ms/step - loss: 0.2421 - val_loss: 0.2337\n",
            "Epoch 16/50\n",
            "6/6 [==============================] - 0s 11ms/step - loss: 0.2302 - val_loss: 0.2208\n",
            "Epoch 17/50\n",
            "6/6 [==============================] - 0s 11ms/step - loss: 0.2167 - val_loss: 0.2065\n",
            "Epoch 18/50\n",
            "6/6 [==============================] - 0s 10ms/step - loss: 0.2019 - val_loss: 0.1908\n",
            "Epoch 19/50\n",
            "6/6 [==============================] - 0s 13ms/step - loss: 0.1857 - val_loss: 0.1739\n",
            "Epoch 20/50\n",
            "6/6 [==============================] - 0s 10ms/step - loss: 0.1683 - val_loss: 0.1559\n",
            "Epoch 21/50\n",
            "6/6 [==============================] - 0s 10ms/step - loss: 0.1500 - val_loss: 0.1372\n",
            "Epoch 22/50\n",
            "6/6 [==============================] - 0s 10ms/step - loss: 0.1312 - val_loss: 0.1184\n",
            "Epoch 23/50\n",
            "6/6 [==============================] - 0s 10ms/step - loss: 0.1125 - val_loss: 0.1000\n",
            "Epoch 24/50\n",
            "6/6 [==============================] - 0s 10ms/step - loss: 0.0946 - val_loss: 0.0829\n",
            "Epoch 25/50\n",
            "6/6 [==============================] - 0s 17ms/step - loss: 0.0784 - val_loss: 0.0680\n",
            "Epoch 26/50\n",
            "6/6 [==============================] - 0s 10ms/step - loss: 0.0645 - val_loss: 0.0559\n",
            "Epoch 27/50\n",
            "6/6 [==============================] - 0s 10ms/step - loss: 0.0537 - val_loss: 0.0471\n",
            "Epoch 28/50\n",
            "6/6 [==============================] - 0s 10ms/step - loss: 0.0461 - val_loss: 0.0416\n",
            "Epoch 29/50\n",
            "6/6 [==============================] - 0s 10ms/step - loss: 0.0418 - val_loss: 0.0389\n",
            "Epoch 30/50\n",
            "6/6 [==============================] - 0s 10ms/step - loss: 0.0398 - val_loss: 0.0379\n",
            "Epoch 31/50\n",
            "6/6 [==============================] - 0s 10ms/step - loss: 0.0390 - val_loss: 0.0376\n",
            "Epoch 32/50\n",
            "6/6 [==============================] - 0s 11ms/step - loss: 0.0388 - val_loss: 0.0375\n",
            "Epoch 33/50\n",
            "6/6 [==============================] - 0s 11ms/step - loss: 0.0386 - val_loss: 0.0374\n",
            "Epoch 34/50\n",
            "6/6 [==============================] - 0s 11ms/step - loss: 0.0383 - val_loss: 0.0373\n",
            "Epoch 35/50\n",
            "6/6 [==============================] - 0s 10ms/step - loss: 0.0381 - val_loss: 0.0372\n",
            "Epoch 36/50\n",
            "6/6 [==============================] - 0s 11ms/step - loss: 0.0380 - val_loss: 0.0372\n",
            "Epoch 37/50\n",
            "6/6 [==============================] - 0s 11ms/step - loss: 0.0379 - val_loss: 0.0372\n",
            "Epoch 38/50\n",
            "6/6 [==============================] - 0s 10ms/step - loss: 0.0378 - val_loss: 0.0372\n",
            "Epoch 39/50\n",
            "6/6 [==============================] - 0s 10ms/step - loss: 0.0378 - val_loss: 0.0372\n",
            "Epoch 40/50\n",
            "6/6 [==============================] - 0s 12ms/step - loss: 0.0378 - val_loss: 0.0372\n",
            "Epoch 41/50\n",
            "6/6 [==============================] - 0s 11ms/step - loss: 0.0377 - val_loss: 0.0373\n",
            "Epoch 42/50\n",
            "6/6 [==============================] - 0s 10ms/step - loss: 0.0377 - val_loss: 0.0373\n",
            "Epoch 43/50\n",
            "6/6 [==============================] - 0s 10ms/step - loss: 0.0377 - val_loss: 0.0373\n",
            "Epoch 44/50\n",
            "6/6 [==============================] - 0s 10ms/step - loss: 0.0377 - val_loss: 0.0373\n",
            "Epoch 45/50\n",
            "6/6 [==============================] - 0s 10ms/step - loss: 0.0377 - val_loss: 0.0373\n",
            "Epoch 46/50\n",
            "6/6 [==============================] - 0s 9ms/step - loss: 0.0377 - val_loss: 0.0373\n",
            "Epoch 47/50\n",
            "6/6 [==============================] - 0s 10ms/step - loss: 0.0377 - val_loss: 0.0373\n",
            "Epoch 48/50\n",
            "6/6 [==============================] - 0s 11ms/step - loss: 0.0377 - val_loss: 0.0374\n",
            "Epoch 49/50\n",
            "6/6 [==============================] - 0s 10ms/step - loss: 0.0377 - val_loss: 0.0373\n",
            "Epoch 50/50\n",
            "6/6 [==============================] - 0s 9ms/step - loss: 0.0377 - val_loss: 0.0374\n"
          ]
        }
      ],
      "source": [
        "# 因為AE要重建input，希望透過重建誤差來找到異常\n",
        "AE_history = autoencoder.fit( x_train.to_numpy(), #input y=0的資料\n",
        "                              x_train.to_numpy(), #與decoder比對 y=0的資料\n",
        "                              epochs=nb_epoch,\n",
        "                              batch_size=batch_size,\n",
        "                              shuffle=True,\n",
        "                              validation_data=(x_test.to_numpy(), x_test.to_numpy()),\n",
        "                              verbose=1,\n",
        "                              callbacks=[es]).history"
      ]
    },
    {
      "cell_type": "code",
      "source": [
        "plt.plot(AE_history[\"loss\"], label=\"Training Loss\")\n",
        "plt.plot(AE_history[\"val_loss\"], label=\"Validation Loss\")\n",
        "plt.legend()\n",
        "plt.show()"
      ],
      "metadata": {
        "colab": {
          "base_uri": "https://localhost:8080/",
          "height": 265
        },
        "id": "PObQ3CWZyE6j",
        "outputId": "46c85b03-946c-4971-9b2b-2734c539c4c3"
      },
      "execution_count": 227,
      "outputs": [
        {
          "output_type": "display_data",
          "data": {
            "text/plain": [
              "<Figure size 432x288 with 1 Axes>"
            ],
            "image/png": "[encoded data removed]"
          },
          "metadata": {
            "needs_background": "light"
          }
        }
      ]
    },
    {
      "cell_type": "code",
      "execution_count": 228,
      "metadata": {
        "colab": {
          "base_uri": "https://localhost:8080/"
        },
        "id": "4lzbWgJ6m2-u",
        "outputId": "85b229e8-7b08-43a8-fc4f-637dec232d43"
      },
      "outputs": [
        {
          "output_type": "stream",
          "name": "stdout",
          "text": [
            "WARNING:tensorflow:Compiled the loaded model, but the compiled metrics have yet to be built. `model.compile_metrics` will be empty until you train or evaluate the model.\n",
            "WARNING:tensorflow:Compiled the loaded model, but the compiled metrics have yet to be built. `model.compile_metrics` will be empty until you train or evaluate the model.\n"
          ]
        }
      ],
      "source": [
        "encoder.save(pretrain_encoder_model) #save encoder weights\n",
        "decoder.save(pretrain_decoder_model) #save decoder weights"
      ]
    },
    {
      "cell_type": "code",
      "execution_count": 229,
      "metadata": {
        "id": "3Bu4BOy4m2-v"
      },
      "outputs": [],
      "source": [
        "# RMSE受異常值的影響更大\n",
        "def RMSE_cal(model,x,y):\n",
        "    ypred = model.predict(x)\n",
        "    MSE = mean_squared_error(y, ypred)\n",
        "    RMSE = np.sqrt(MSE)\n",
        "    return RMSE"
      ]
    },
    {
      "cell_type": "code",
      "execution_count": 230,
      "metadata": {
        "colab": {
          "base_uri": "https://localhost:8080/"
        },
        "id": "QmDsN9Orm2-v",
        "outputId": "4fa6f776-d4af-4e9c-d30b-f02671343c5c"
      },
      "outputs": [
        {
          "output_type": "stream",
          "name": "stdout",
          "text": [
            "trainRMSE:  0.19412765\n",
            "testRMSE:  0.19333944\n"
          ]
        }
      ],
      "source": [
        "trainRMSE = RMSE_cal(autoencoder,x_train.to_numpy(), x_train.to_numpy())\n",
        "print('trainRMSE: ', trainRMSE)\n",
        "\n",
        "testRMSE = RMSE_cal(autoencoder,x_test.to_numpy(), x_test.to_numpy())\n",
        "print('testRMSE: ', testRMSE)"
      ]
    },
    {
      "cell_type": "markdown",
      "metadata": {
        "id": "oQ-fZMaSm2-w"
      },
      "source": [
        "# Meta-learning Stage"
      ]
    },
    {
      "cell_type": "code",
      "execution_count": 231,
      "metadata": {
        "id": "sbbWg-uFBCpK"
      },
      "outputs": [],
      "source": [
        "meta_train_path = './norm_data/meta/1/train.csv'\n",
        "meta_val_path = './norm_data/meta/1/test.csv'\n",
        "x_train = pd.read_csv(pretrain_train_path, dtype=np.float32)\n",
        "x_test = pd.read_csv(pretrain_val_path, dtype=np.float32)\n",
        "\n",
        "x_train_list = [x_train, pd.read_csv(meta_train_path, dtype=np.float32)]\n",
        "x_test_list = [x_test, pd.read_csv(meta_val_path, dtype=np.float32)]\n",
        "\n",
        "num_file = 1\n",
        "# for i in range(num_file):\n",
        "#     meta_train_path = './norm_data/meta/%d/train.csv'%(i+1)\n",
        "#     meta_val_path = './norm_data/meta/%d/test.csv'%(i+1)\n",
        "#     x_train_list.append(pd.read_csv(meta_train_path, dtype=np.float32))\n",
        "#     x_test_list.append(pd.read_csv(meta_val_path, dtype=np.float32))"
      ]
    },
    {
      "cell_type": "code",
      "execution_count": 232,
      "metadata": {
        "id": "La4ag9BCm2-w"
      },
      "outputs": [],
      "source": [
        "nb_epoch = nb_epoch_number\n",
        "if envs['deviceID'] == 'FF548D29':\n",
        "    batch_size = 10\n",
        "elif envs['deviceID'] == 'JNU_bearing':\n",
        "    batch_size = 64\n",
        "else:\n",
        "    batch_size = 10\n",
        "input_dim = x_train_list[0].shape[1] #num of predictor variables, \n",
        "encoding_dim = 32\n",
        "hidden_dim = int(encoding_dim / 2)\n",
        "lr_regularizers = 1e-3"
      ]
    },
    {
      "cell_type": "code",
      "execution_count": 233,
      "metadata": {
        "id": "y5Ef-_nam2-x"
      },
      "outputs": [],
      "source": [
        "train_dataset = tf.data.Dataset.from_tensor_slices(tuple([data.to_numpy() for data in x_train_list])).shuffle(len(x_train_list[0])).batch(batch_size)\n",
        "val_dataset = tf.data.Dataset.from_tensor_slices(tuple([data.to_numpy() for data in x_test_list])).batch(1)"
      ]
    },
    {
      "cell_type": "code",
      "execution_count": 234,
      "metadata": {
        "colab": {
          "base_uri": "https://localhost:8080/"
        },
        "id": "t1Frp4p0m2-x",
        "outputId": "1bc8741d-30f9-4147-a271-d05f2871b889"
      },
      "outputs": [
        {
          "output_type": "stream",
          "name": "stdout",
          "text": [
            "Model: \"encoder\"\n",
            "_________________________________________________________________\n",
            " Layer (type)                Output Shape              Param #   \n",
            "=================================================================\n",
            " input_27 (InputLayer)       [(None, 6000)]            0         \n",
            "                                                                 \n",
            " enc_layer1 (Dense)          (None, 32)                192032    \n",
            "                                                                 \n",
            " enc_layer2 (Dense)          (None, 16)                528       \n",
            "                                                                 \n",
            " enc_layer3 (Dense)          (None, 8)                 136       \n",
            "                                                                 \n",
            " enc_layer4 (Dense)          (None, 4)                 36        \n",
            "                                                                 \n",
            "=================================================================\n",
            "Total params: 192,732\n",
            "Trainable params: 192,732\n",
            "Non-trainable params: 0\n",
            "_________________________________________________________________\n",
            "Model: \"decoder\"\n",
            "_________________________________________________________________\n",
            " Layer (type)                Output Shape              Param #   \n",
            "=================================================================\n",
            " input_28 (InputLayer)       [(None, 4)]               0         \n",
            "                                                                 \n",
            " dec_layer1 (Dense)          (None, 8)                 40        \n",
            "                                                                 \n",
            " dec_layer2 (Dense)          (None, 16)                144       \n",
            "                                                                 \n",
            " dec_layer3 (Dense)          (None, 32)                544       \n",
            "                                                                 \n",
            " dec_layer4 (Dense)          (None, 6000)              198000    \n",
            "                                                                 \n",
            "=================================================================\n",
            "Total params: 198,728\n",
            "Trainable params: 198,728\n",
            "Non-trainable params: 0\n",
            "_________________________________________________________________\n"
          ]
        }
      ],
      "source": [
        "input_layer = keras.layers.Input(shape=(input_dim, ))\n",
        "x = Dense(encoding_dim, activation=\"relu\", \n",
        "                activity_regularizer=regularizers.l1(lr_regularizers), name=\"enc_layer1\")(input_layer)\n",
        "x = Dense(hidden_dim, activation=\"relu\", name=\"enc_layer2\")(x)\n",
        "x = Dense(int(hidden_dim/2), activation=\"relu\", name=\"enc_layer3\")(x)\n",
        "encoder_output = Dense(int(hidden_dim/4), activation=\"relu\", name=\"enc_layer4\")(x)\n",
        "\n",
        "encoder = keras.Model(input_layer, encoder_output, name=\"encoder\")\n",
        "\n",
        "decoder_input = keras.layers.Input(shape=(int(hidden_dim/4),))\n",
        "x = Dense(int(encoding_dim/4), activation=\"relu\", name=\"dec_layer1\")(decoder_input)\n",
        "x = Dense(int(encoding_dim/2), activation=\"relu\", name=\"dec_layer2\")(x)\n",
        "x = Dense(encoding_dim, activation=\"relu\", name=\"dec_layer3\")(x)\n",
        "decoder_output = Dense(input_dim, activation=\"linear\", name=\"dec_layer4\")(x)\n",
        "\n",
        "decoder = keras.Model(decoder_input, decoder_output, name=\"decoder\")\n",
        "\n",
        "encoder.compile() # 避免報錯(warning)\n",
        "decoder.compile()\n",
        "encoder.summary()\n",
        "decoder.summary()"
      ]
    },
    {
      "cell_type": "code",
      "execution_count": 235,
      "metadata": {
        "id": "-ijlmSQAm2-x"
      },
      "outputs": [],
      "source": [
        "encoder.load_weights(pretrain_encoder_model, by_name=True)\n",
        "decoder_list = []\n",
        "for i in range(2):\n",
        "    decoder_list.append(keras.models.clone_model(decoder))\n",
        "    decoder_list[-1].load_weights(pretrain_decoder_model, by_name=True)"
      ]
    },
    {
      "cell_type": "code",
      "execution_count": 236,
      "metadata": {
        "id": "kCECsWc7m2-x"
      },
      "outputs": [],
      "source": [
        "learning_rate = 1e-5\n",
        "adam = tf.keras.optimizers.Adam(learning_rate=learning_rate)\n",
        "\n",
        "# loss_fn = tf.keras.losses.MeanSquaredError()\n",
        "loss_fn = keras.losses.MeanSquaredError()"
      ]
    },
    {
      "cell_type": "code",
      "execution_count": 237,
      "metadata": {
        "colab": {
          "base_uri": "https://localhost:8080/"
        },
        "id": "puaRBJC8m2-y",
        "outputId": "c20534bf-eb90-445c-ad37-5f30725df23e"
      },
      "outputs": [
        {
          "output_type": "stream",
          "name": "stdout",
          "text": [
            "\n",
            "Epoch: 1\tval_loss: 0.037379\tSave best model at ep 1\n",
            "Epoch: 2\tval_loss: 0.037374\tSave best model at ep 2\n",
            "Epoch: 3\tval_loss: 0.037363\tSave best model at ep 3\n",
            "Epoch: 4\tval_loss: 0.037351\tSave best model at ep 4\n",
            "Epoch: 5\tval_loss: 0.037347\tSave best model at ep 5\n",
            "Epoch: 6\tval_loss: 0.037344\tSave best model at ep 6\n",
            "Epoch: 7\tval_loss: 0.037342\tSave best model at ep 7\n",
            "Epoch: 8\tval_loss: 0.037337\tSave best model at ep 8\n",
            "Epoch: 9\tval_loss: 0.037346\t\n",
            "Epoch: 10\tval_loss: 0.037359\t\n",
            "Epoch: 11\tval_loss: 0.037372\t\n",
            "Epoch: 12\tval_loss: 0.037384\t\n",
            "Epoch: 13\tval_loss: 0.037394\t\n",
            "Epoch: 14\tval_loss: 0.037395\t\n",
            "Epoch: 15\tval_loss: 0.037383\t\n",
            "Epoch: 16\tval_loss: 0.037378\t\n",
            "Epoch: 17\tval_loss: 0.037374\t\n",
            "Epoch: 18\tval_loss: 0.037385\t\n",
            "Epoch: 19\tval_loss: 0.037401\t\n",
            "Epoch: 20\tval_loss: 0.037411\t\n",
            "Epoch: 21\tval_loss: 0.037414\t\n",
            "Epoch: 22\tval_loss: 0.037403\t\n",
            "Epoch: 23\tval_loss: 0.037392\t\n",
            "Epoch: 24\tval_loss: 0.037390\t\n",
            "Epoch: 25\tval_loss: 0.037393\t\n",
            "Epoch: 26\tval_loss: 0.037397\t\n",
            "Epoch: 27\tval_loss: 0.037403\t\n",
            "Epoch: 28\tval_loss: 0.037407\t\n",
            "Epoch: 29\tval_loss: 0.037408\t\n",
            "Epoch: 30\tval_loss: 0.037414\t\n",
            "Epoch: 31\tval_loss: 0.037418\t\n",
            "Epoch: 32\tval_loss: 0.037404\t\n",
            "Epoch: 33\tval_loss: 0.037395\t\n",
            "Epoch: 34\tval_loss: 0.037399\t\n",
            "Epoch: 35\tval_loss: 0.037402\t\n",
            "Epoch: 36\tval_loss: 0.037402\t\n",
            "Epoch: 37\tval_loss: 0.037405\t\n",
            "Epoch: 38\tval_loss: 0.037411\t\n",
            "Epoch: 39\tval_loss: 0.037427\t\n",
            "Epoch: 40\tval_loss: 0.037447\t\n",
            "Epoch: 41\tval_loss: 0.037466\t\n",
            "Epoch: 42\tval_loss: 0.037484\t\n",
            "Epoch: 43\tval_loss: 0.037507\t\n",
            "Epoch: 44\tval_loss: 0.037527\t\n",
            "Epoch: 45\tval_loss: 0.037533\t\n",
            "Epoch: 46\tval_loss: 0.037543\t\n",
            "Epoch: 47\tval_loss: 0.037553\t\n",
            "Epoch: 48\tval_loss: 0.037557\t\n",
            "Epoch: 49\tval_loss: 0.037556\t\n",
            "Epoch: 50\tval_loss: 0.037552\t"
          ]
        }
      ],
      "source": [
        "best_val_loss = 999\n",
        "\n",
        "for ep in range(nb_epoch):\n",
        "    for bid, x in enumerate(train_dataset):\n",
        "        #Phase 1: Fix enc, train different dec with only one batch\n",
        "        if bid == 0:\n",
        "            x_dec = x\n",
        "\n",
        "        for i in range(num_file):\n",
        "            with tf.GradientTape() as tape:\n",
        "                hidden = encoder(x_dec[i])\n",
        "                recon = decoder_list[i](hidden)\n",
        "                loss = loss_fn(x_dec[i], recon)\n",
        "\n",
        "            gradients = tape.gradient(loss, decoder_list[i].trainable_weights)\n",
        "            adam.apply_gradients(zip(gradients, decoder_list[i].trainable_weights))\n",
        "\n",
        "        #Phase 2: Fix dec, train meta encoder\n",
        "        if bid != 0:\n",
        "            for i in range(2):\n",
        "                with tf.GradientTape() as tape:\n",
        "                    hidden = encoder(x[i])\n",
        "                    recon = decoder_list[i](hidden)\n",
        "                    loss = loss_fn(x[i], recon)\n",
        "\n",
        "                gradients = tape.gradient(loss, encoder.trainable_weights)\n",
        "                adam.apply_gradients(zip(gradients, encoder.trainable_weights))\n",
        "\n",
        "\n",
        "    val_loss = []\n",
        "    for bid, x in enumerate(val_dataset):\n",
        "        for i in range(num_file):   \n",
        "            hidden = encoder(x[i])\n",
        "            recon = decoder_list[i](hidden)\n",
        "            loss = loss_fn(x[i], recon)\n",
        "            val_loss.append(loss.numpy())\n",
        "            \n",
        "    print(\"\\nEpoch: %d\\tval_loss: %f\"%(ep+1, np.mean(val_loss)), end='\\t')\n",
        "    \n",
        "    if np.mean(val_loss) < best_val_loss:           # 跌代出最好的loss\n",
        "        encoder.save(metatrain_encoder_model)\n",
        "        best_val_loss = np.mean(val_loss)\n",
        "        print(\"Save best model at ep %d\"%(ep+1), end='')"
      ]
    },
    {
      "cell_type": "markdown",
      "metadata": {
        "id": "as5hABY6m2-1"
      },
      "source": [
        "# Fine-tuning Stage (Meta)"
      ]
    },
    {
      "cell_type": "code",
      "execution_count": 238,
      "metadata": {
        "id": "jQ4w1MPxm2-1"
      },
      "outputs": [],
      "source": [
        "x_train_list = []\n",
        "x_test_list = []\n",
        "# num_file = 3\n",
        "num_file = 1\n",
        "for i in range(num_file):\n",
        "    ft_train_path = './norm_data/ft/%d/train.csv'%(i+1)\n",
        "    ft_val_path = './norm_data/ft/%d/test.csv'%(i+1)\n",
        "    x_train_list.append(pd.read_csv(ft_train_path, dtype=np.float32))\n",
        "    x_test_list.append(pd.read_csv(ft_val_path, dtype=np.float32))"
      ]
    },
    {
      "cell_type": "code",
      "execution_count": 239,
      "metadata": {
        "colab": {
          "base_uri": "https://localhost:8080/"
        },
        "id": "rqKaSy2km2-1",
        "outputId": "892ee0e3-acae-46d4-cce8-1bc91172d045"
      },
      "outputs": [
        {
          "output_type": "stream",
          "name": "stdout",
          "text": [
            "(7, 6000)\n",
            "(28, 6000)\n"
          ]
        }
      ],
      "source": [
        "print(x_train_list[0].shape)\n",
        "print(x_test_list[0].shape)"
      ]
    },
    {
      "cell_type": "code",
      "execution_count": 240,
      "metadata": {
        "id": "VRXO-Vm-m2-1"
      },
      "outputs": [],
      "source": [
        "nb_epoch = nb_epoch_number\n",
        "if envs['deviceID'] == 'FF548D29':\n",
        "    batch_size = 10\n",
        "elif envs['deviceID'] == 'JNU_bearing':\n",
        "    batch_size = 128\n",
        "else:\n",
        "    batch_size = 10\n",
        "#batch_size = 1\n",
        "input_dim = x_train_list[0].shape[1] #num of predictor variables, \n",
        "encoding_dim = 32\n",
        "hidden_dim = int(encoding_dim / 2)\n",
        "lr_regularizers = 1e-3"
      ]
    },
    {
      "cell_type": "code",
      "execution_count": 241,
      "metadata": {
        "id": "3xocQ_nWm2-2"
      },
      "outputs": [],
      "source": [
        "train_dataset = tf.data.Dataset.from_tensor_slices(tuple([data.to_numpy() for data in x_train_list])).shuffle(len(x_train_list[0])).batch(batch_size)\n",
        "val_dataset = tf.data.Dataset.from_tensor_slices(tuple([data.to_numpy() for data in x_test_list])).batch(1)"
      ]
    },
    {
      "cell_type": "code",
      "execution_count": 242,
      "metadata": {
        "colab": {
          "base_uri": "https://localhost:8080/"
        },
        "id": "5ZIgOXnsm2-2",
        "outputId": "6745b8cf-bba6-4951-fa0b-f76e1328e89b"
      },
      "outputs": [
        {
          "output_type": "stream",
          "name": "stdout",
          "text": [
            "Model: \"encoder\"\n",
            "_________________________________________________________________\n",
            " Layer (type)                Output Shape              Param #   \n",
            "=================================================================\n",
            " input_29 (InputLayer)       [(None, 6000)]            0         \n",
            "                                                                 \n",
            " enc_layer1 (Dense)          (None, 32)                192032    \n",
            "                                                                 \n",
            " enc_layer2 (Dense)          (None, 16)                528       \n",
            "                                                                 \n",
            " enc_layer3 (Dense)          (None, 8)                 136       \n",
            "                                                                 \n",
            " enc_layer4 (Dense)          (None, 4)                 36        \n",
            "                                                                 \n",
            "=================================================================\n",
            "Total params: 192,732\n",
            "Trainable params: 192,732\n",
            "Non-trainable params: 0\n",
            "_________________________________________________________________\n",
            "Model: \"decoder\"\n",
            "_________________________________________________________________\n",
            " Layer (type)                Output Shape              Param #   \n",
            "=================================================================\n",
            " input_30 (InputLayer)       [(None, 4)]               0         \n",
            "                                                                 \n",
            " dec_layer1 (Dense)          (None, 8)                 40        \n",
            "                                                                 \n",
            " dec_layer2 (Dense)          (None, 16)                144       \n",
            "                                                                 \n",
            " dec_layer3 (Dense)          (None, 32)                544       \n",
            "                                                                 \n",
            " dec_layer4 (Dense)          (None, 6000)              198000    \n",
            "                                                                 \n",
            "=================================================================\n",
            "Total params: 198,728\n",
            "Trainable params: 198,728\n",
            "Non-trainable params: 0\n",
            "_________________________________________________________________\n"
          ]
        }
      ],
      "source": [
        "input_layer = keras.layers.Input(shape=(input_dim, ))\n",
        "x = Dense(encoding_dim, activation=\"relu\", \n",
        "                activity_regularizer=regularizers.l1(lr_regularizers), name=\"enc_layer1\")(input_layer)\n",
        "x = Dense(hidden_dim, activation=\"relu\", name=\"enc_layer2\")(x)\n",
        "x = Dense(int(hidden_dim/2), activation=\"relu\", name=\"enc_layer3\")(x)\n",
        "encoder_output = Dense(int(hidden_dim/4), activation=\"relu\", name=\"enc_layer4\")(x)\n",
        "\n",
        "encoder = keras.Model(input_layer, encoder_output, name=\"encoder\")\n",
        "\n",
        "decoder_input = keras.layers.Input(shape=(int(hidden_dim/4),))\n",
        "x = Dense(int(encoding_dim/4), activation=\"relu\", name=\"dec_layer1\")(decoder_input)\n",
        "x = Dense(int(encoding_dim/2), activation=\"relu\", name=\"dec_layer2\")(x)\n",
        "x = Dense(encoding_dim, activation=\"relu\", name=\"dec_layer3\")(x)\n",
        "decoder_output = Dense(input_dim, activation=\"linear\", name=\"dec_layer4\")(x)\n",
        "\n",
        "decoder = keras.Model(decoder_input, decoder_output, name=\"decoder\")\n",
        "\n",
        "# encoder.compile()\n",
        "# decoder.compile()\n",
        "encoder.summary()\n",
        "decoder.summary()"
      ]
    },
    {
      "cell_type": "code",
      "execution_count": 243,
      "metadata": {
        "id": "-7zAGSHRm2-2"
      },
      "outputs": [],
      "source": [
        "encoder.load_weights(metatrain_encoder_model, by_name=True)\n",
        "decoder_list = []\n",
        "for i in range(num_file):\n",
        "    decoder_list.append(keras.models.clone_model(decoder))\n",
        "    decoder_list[-1].load_weights(pretrain_decoder_model, by_name=True)\n",
        "    decoder_list[i].compile()"
      ]
    },
    {
      "cell_type": "code",
      "execution_count": 244,
      "metadata": {
        "colab": {
          "base_uri": "https://localhost:8080/"
        },
        "id": "VD0-00XVm2-2",
        "outputId": "de066d36-02df-4183-f2fc-6a1d058185ad"
      },
      "outputs": [
        {
          "output_type": "stream",
          "name": "stderr",
          "text": [
            "/usr/local/lib/python3.7/dist-packages/keras/optimizer_v2/adam.py:105: UserWarning: The `lr` argument is deprecated, use `learning_rate` instead.\n",
            "  super(Adam, self).__init__(name, **kwargs)\n"
          ]
        }
      ],
      "source": [
        "learning_rate = 1e-5\n",
        "adam = tf.keras.optimizers.Adam(lr=learning_rate)\n",
        "\n",
        "loss_fn = tf.keras.losses.MeanSquaredError()"
      ]
    },
    {
      "cell_type": "code",
      "execution_count": 245,
      "metadata": {
        "colab": {
          "base_uri": "https://localhost:8080/"
        },
        "id": "V8WIzTTQm2-2",
        "outputId": "5ebaa2c1-0281-4ed9-b79b-fcf781fff78e"
      },
      "outputs": [
        {
          "output_type": "stream",
          "name": "stdout",
          "text": [
            "training_model/bearing_comp_metatrain_decoder.h5\n"
          ]
        }
      ],
      "source": [
        "for i in range(num_file):\n",
        "    print(metatrain_finetune_decoder_model)"
      ]
    },
    {
      "cell_type": "code",
      "execution_count": 246,
      "metadata": {
        "colab": {
          "base_uri": "https://localhost:8080/"
        },
        "id": "2_UVQTmBm2-3",
        "scrolled": true,
        "outputId": "bc729c1f-c0b1-4313-becf-98c7b1857e92"
      },
      "outputs": [
        {
          "output_type": "stream",
          "name": "stdout",
          "text": [
            "Epoch: 1\tfile 1 val_loss: 0.038925\n",
            "Epoch: 2\tfile 1 val_loss: 0.038925\n",
            "Epoch: 3\tfile 1 val_loss: 0.038926\n",
            "Epoch: 4\tfile 1 val_loss: 0.038926\n",
            "Epoch: 5\tfile 1 val_loss: 0.038927\n",
            "Epoch: 6\tfile 1 val_loss: 0.038928\n",
            "Epoch: 7\tfile 1 val_loss: 0.038928\n",
            "Epoch: 8\tfile 1 val_loss: 0.038929\n",
            "Epoch: 9\tfile 1 val_loss: 0.038929\n",
            "Epoch: 10\tfile 1 val_loss: 0.038930\n",
            "Epoch: 11\tfile 1 val_loss: 0.038930\n",
            "Epoch: 12\tfile 1 val_loss: 0.038931\n",
            "Epoch: 13\tfile 1 val_loss: 0.038931\n",
            "Epoch: 14\tfile 1 val_loss: 0.038932\n",
            "Epoch: 15\tfile 1 val_loss: 0.038932\n",
            "Epoch: 16\tfile 1 val_loss: 0.038933\n",
            "Epoch: 17\tfile 1 val_loss: 0.038933\n",
            "Epoch: 18\tfile 1 val_loss: 0.038934\n",
            "Epoch: 19\tfile 1 val_loss: 0.038934\n",
            "Epoch: 20\tfile 1 val_loss: 0.038935\n",
            "Epoch: 21\tfile 1 val_loss: 0.038935\n",
            "Epoch: 22\tfile 1 val_loss: 0.038936\n",
            "Epoch: 23\tfile 1 val_loss: 0.038936\n",
            "Epoch: 24\tfile 1 val_loss: 0.038937\n",
            "Epoch: 25\tfile 1 val_loss: 0.038938\n",
            "Epoch: 26\tfile 1 val_loss: 0.038938\n",
            "Epoch: 27\tfile 1 val_loss: 0.038939\n",
            "Epoch: 28\tfile 1 val_loss: 0.038940\n",
            "Epoch: 29\tfile 1 val_loss: 0.038940\n",
            "Epoch: 30\tfile 1 val_loss: 0.038941\n",
            "Epoch: 31\tfile 1 val_loss: 0.038942\n",
            "Epoch: 32\tfile 1 val_loss: 0.038943\n",
            "Epoch: 33\tfile 1 val_loss: 0.038943\n",
            "Epoch: 34\tfile 1 val_loss: 0.038944\n",
            "Epoch: 35\tfile 1 val_loss: 0.038945\n",
            "Epoch: 36\tfile 1 val_loss: 0.038946\n",
            "Epoch: 37\tfile 1 val_loss: 0.038947\n",
            "Epoch: 38\tfile 1 val_loss: 0.038947\n",
            "Epoch: 39\tfile 1 val_loss: 0.038948\n",
            "Epoch: 40\tfile 1 val_loss: 0.038949\n",
            "Epoch: 41\tfile 1 val_loss: 0.038950\n",
            "Epoch: 42\tfile 1 val_loss: 0.038951\n",
            "Epoch: 43\tfile 1 val_loss: 0.038952\n",
            "Epoch: 44\tfile 1 val_loss: 0.038952\n",
            "Epoch: 45\tfile 1 val_loss: 0.038953\n",
            "Epoch: 46\tfile 1 val_loss: 0.038954\n",
            "Epoch: 47\tfile 1 val_loss: 0.038955\n",
            "Epoch: 48\tfile 1 val_loss: 0.038956\n",
            "Epoch: 49\tfile 1 val_loss: 0.038957\n",
            "Epoch: 50\tfile 1 val_loss: 0.038958\n"
          ]
        }
      ],
      "source": [
        "best_val_loss = [999 for i in range(num_file)]\n",
        "\n",
        "for ep in range(nb_epoch):\n",
        "    for bid, x in enumerate(train_dataset):\n",
        "        #only ft dec in ft stage\n",
        "        for i in range(num_file):\n",
        "            with tf.GradientTape() as tape:\n",
        "                hidden = encoder(x[i])\n",
        "                recon = decoder_list[i](hidden)\n",
        "                loss = loss_fn(x[i], recon)\n",
        "\n",
        "            gradients = tape.gradient(loss, decoder_list[i].trainable_weights)\n",
        "            adam.apply_gradients(zip(gradients, decoder_list[i].trainable_weights))\n",
        "\n",
        "    val_loss_list = [[] for i in range(num_file)]\n",
        "    for bid, x in enumerate(val_dataset):\n",
        "        for i in range(num_file):   \n",
        "            hidden = encoder(x[i])\n",
        "            recon = decoder_list[i](hidden)\n",
        "            loss = loss_fn(x[i], recon)\n",
        "            val_loss_list[i].append(loss.numpy())\n",
        "    \n",
        "    print(\"Epoch: %d\"%(ep+1), end='\\t')\n",
        "    for i in range(num_file):\n",
        "        print(\"file %d val_loss: %f\"%(i+1, np.mean(val_loss_list[i])))\n",
        "\n",
        "        if np.mean(val_loss_list[i]) < best_val_loss[i]:\n",
        "            decoder_list[i].save(metatrain_finetune_decoder_model)\n",
        "            best_val_loss[i] = np.mean(val_loss_list[i])"
      ]
    },
    {
      "cell_type": "markdown",
      "metadata": {
        "id": "HiR4M7E1BCpO"
      },
      "source": [
        "# Inference Trained Data"
      ]
    },
    {
      "cell_type": "code",
      "execution_count": 247,
      "metadata": {
        "id": "ePCCq80Ym2-6"
      },
      "outputs": [],
      "source": [
        "def make_encoder_decoder(input_dim):\n",
        "    #input_dim = x_train.shape[1] #num of predictor variables, \n",
        "    encoding_dim = 32\n",
        "    hidden_dim = int(encoding_dim / 2)\n",
        "    lr_regularizers = 1e-3\n",
        "    \n",
        "    input_layer = keras.layers.Input(shape=(input_dim, ))\n",
        "    x = Dense(encoding_dim, activation=\"relu\", \n",
        "                    activity_regularizer=regularizers.l1(lr_regularizers), name=\"enc_layer1\")(input_layer)\n",
        "    x = Dense(hidden_dim, activation=\"relu\", name=\"enc_layer2\")(x)\n",
        "    x = Dense(int(hidden_dim/2), activation=\"relu\", name=\"enc_layer3\")(x)\n",
        "    encoder_output = Dense(int(hidden_dim/4), activation=\"relu\", name=\"enc_layer4\")(x)\n",
        "\n",
        "    encoder = keras.Model(input_layer, encoder_output, name=\"encoder\")\n",
        "\n",
        "    decoder_input = keras.layers.Input(shape=(int(hidden_dim/4),))\n",
        "    x = Dense(int(encoding_dim/4), activation=\"relu\", name=\"dec_layer1\")(decoder_input)\n",
        "    x = Dense(int(encoding_dim/2), activation=\"relu\", name=\"dec_layer2\")(x)\n",
        "    x = Dense(encoding_dim, activation=\"relu\", name=\"dec_layer3\")(x)\n",
        "    decoder_output = Dense(input_dim, activation=\"linear\", name=\"dec_layer4\")(x)\n",
        "\n",
        "    decoder = keras.Model(decoder_input, decoder_output, name=\"decoder\")\n",
        "    return encoder, decoder"
      ]
    },
    {
      "cell_type": "code",
      "execution_count": 248,
      "metadata": {
        "id": "wQysKTxeBCpO"
      },
      "outputs": [],
      "source": [
        "def run_inference_5min(test_dataset, encoder, decoder):\n",
        "    test_loss_list = []\n",
        "    for bid, x in enumerate(test_dataset):\n",
        "        #for i in range(num_file):\n",
        "            i=0 #data4\n",
        "            loss = cal_NN_loss(x[i], encoder, decoder)\n",
        "            RMSE = np.sqrt(loss.numpy())\n",
        "            test_loss_list.append(RMSE)\n",
        "    #print(np.sqrt(np.mean(test_loss_list[i])))\n",
        "    return test_loss_list"
      ]
    },
    {
      "cell_type": "code",
      "execution_count": 249,
      "metadata": {
        "id": "ZlsGGyvyBCpP"
      },
      "outputs": [],
      "source": [
        "def cal_NN_loss(in_data, encoder, decoder):\n",
        "    hidden = encoder(in_data)\n",
        "    recon = decoder(hidden)\n",
        "    loss = loss_fn(in_data, recon)\n",
        "    return loss"
      ]
    },
    {
      "cell_type": "code",
      "execution_count": 250,
      "metadata": {
        "id": "tA0ScVn0BCpP"
      },
      "outputs": [],
      "source": [
        "def RMSE_cal(model, x, y):\n",
        "    ypred = model.predict(x)\n",
        "    MSE = mean_squared_error(y, ypred)\n",
        "    RMSE = np.sqrt(MSE)\n",
        "    return RMSE"
      ]
    },
    {
      "cell_type": "code",
      "execution_count": 251,
      "metadata": {
        "id": "wvu0PMrOBCpP"
      },
      "outputs": [],
      "source": [
        "input_scaler = pretrain_scaler_name\n",
        "E_input_model_name = metatrain_encoder_model\n",
        "D_input_model_name = metatrain_finetune_decoder_model\n",
        "\n",
        "inference_dataset = config['deviceID'] +\"_Test.csv\"\n",
        "Inference_result_name = config['deviceID'] +\"_inference_result\""
      ]
    },
    {
      "cell_type": "code",
      "execution_count": 252,
      "metadata": {
        "colab": {
          "base_uri": "https://localhost:8080/",
          "height": 36
        },
        "id": "6Vz-suuiBCpP",
        "outputId": "ce6ce837-09ac-41ac-abc1-5ffaf9ff99c0"
      },
      "outputs": [
        {
          "output_type": "execute_result",
          "data": {
            "text/plain": [
              "'training_model/bearing_comp_metatrain_encoder.h5'"
            ],
            "application/vnd.google.colaboratory.intrinsic+json": {
              "type": "string"
            }
          },
          "metadata": {},
          "execution_count": 252
        }
      ],
      "source": [
        "E_input_model_name"
      ]
    },
    {
      "cell_type": "code",
      "execution_count": 253,
      "metadata": {
        "colab": {
          "base_uri": "https://localhost:8080/",
          "height": 36
        },
        "id": "fa1Q4TBBBCpQ",
        "outputId": "2d0bf03a-62ae-4a51-9a47-a6a0053eee99"
      },
      "outputs": [
        {
          "output_type": "execute_result",
          "data": {
            "text/plain": [
              "'training_model/bearing_comp_metatrain_decoder.h5'"
            ],
            "application/vnd.google.colaboratory.intrinsic+json": {
              "type": "string"
            }
          },
          "metadata": {},
          "execution_count": 253
        }
      ],
      "source": [
        "D_input_model_name"
      ]
    },
    {
      "cell_type": "code",
      "execution_count": 254,
      "metadata": {
        "id": "TDRbPFbvBCpQ"
      },
      "outputs": [],
      "source": [
        "if envs['deviceID'] == 'FF548D29':\n",
        "    # features column order of autoencoder model\n",
        "    model_features = ['X_OAVelocity', 'Y_OAVelocity', 'Z_OAVelocity',\n",
        "                    'X_Peakmg', 'Y_Peakmg', 'Z_Peakmg', 'X_RMSmg', 'Y_RMSmg', 'Z_RMSmg',\n",
        "                    'X_Kurtosis', 'Y_Kurtosis', 'Z_Kurtosis', 'X_CrestFactor',\n",
        "                    'Y_CrestFactor', 'Z_CrestFactor', 'X_Skewness', 'Y_Skewness',\n",
        "                    'Z_Skewness', 'X_Deviation', 'Y_Deviation', 'Z_Deviation',\n",
        "                    'X_Displacement', 'Y_Displacement', 'Z_Displacement']\n",
        "    # Preprocess data\n",
        "    data = data.dropna()\n",
        "    rawdata = data.copy()\n",
        "    rawdata = rawdata.drop_duplicates()\n",
        "\n",
        "    # delete outliers in 24 model feauture columns\n",
        "    for i in range(len(model_features)):\n",
        "        rawdata = delete_outlier(rawdata,model_features[i])\n",
        "\n",
        "    # save a raw data copy for further dataframe combination\n",
        "    rawdata_new = rawdata.copy()\n",
        "    rawdata_new = rawdata_new[model_features]\n",
        "\n",
        "    # Normalize data using pretrain scaler\n",
        "    Xy_drop = rawdata_new.copy()\n",
        "    norm_Xy_drop = scaler.transform(Xy_drop)\n",
        "    norm_Xy_drop_df = pd.DataFrame(norm_Xy_drop)\n",
        "\n",
        "    x_test_list = []\n",
        "    x_test_list.append(norm_Xy_drop_df)\n",
        "else:\n",
        "    # Preprocess data\n",
        "    data = data.dropna()\n",
        "    rawdata = data.copy()\n",
        "    rawdata = rawdata.drop_duplicates()\n",
        "    # save a raw data copy for further dataframe combination\n",
        "    rawdata_new = rawdata.copy()\n",
        "    # Normalize data using pretrain scaler\n",
        "    Xy_drop = rawdata_new.copy()\n",
        "    if envs['deviceID'] == 'bearing_comp':\n",
        "        Xy_drop.drop('label', axis=1, inplace=True)\n",
        "    norm_Xy_drop = scaler.transform(Xy_drop)\n",
        "    norm_Xy_drop_df = pd.DataFrame(norm_Xy_drop)\n",
        "    x_test_list = []\n",
        "    x_test_list.append(norm_Xy_drop_df)\n",
        "\n",
        "test_dataset = tf.data.Dataset.from_tensor_slices(tuple([data.to_numpy() for data in x_test_list])).batch(1)\n",
        "\n",
        "# Construct autoencoder model\n",
        "input_dim = x_test_list[0].shape[1] #num of predictor variables, \n",
        "encoder, decoder = make_encoder_decoder(input_dim)\n",
        "\n",
        "encoder.load_weights(E_input_model_name, by_name=True)\n",
        "decoder.load_weights(D_input_model_name, by_name=True)\n",
        "\n",
        "# Predict the inference dataset\n",
        "X_rmse = run_inference_5min(test_dataset, encoder, decoder)\n",
        "X_rmse_df=pd.DataFrame(X_rmse)\n",
        "X_rmse_df.columns = ['degrading_level']"
      ]
    },
    {
      "cell_type": "code",
      "source": [
        "# X_rmse_df.values.mean()\n",
        "# X_rmse_df[X_rmse_df.values>X_rmse_df.values.mean()]\n",
        "if envs['deviceID'] == 'FF548D29':\n",
        "    anomalies = np.where(X_rmse_df.values > X_rmse_df.values.mean(), 1, 0)\n",
        "    anomalies = anomalies[:, 0]\n",
        "    print(np.shape(np.where(anomalies != 0)))\n",
        "elif envs['deviceID'] == 'bearing_comp':\n",
        "    anomalies = raw_label[:760].values != 0\n",
        "# elif envs['deviceID'] == 'JNU_bearing':"
      ],
      "metadata": {
        "id": "Munr86QpHzh0"
      },
      "execution_count": 255,
      "outputs": []
    },
    {
      "cell_type": "code",
      "source": [
        "from sklearn.metrics import confusion_matrix, roc_auc_score, roc_curve, RocCurveDisplay\n",
        "\n",
        "# X_rmse_df.plot()\n",
        "fpr, tpr, thresholds = roc_curve(anomalies, X_rmse_df)\n",
        "roc_auc = roc_auc_score(anomalies, X_rmse_df)\n",
        "# calculate the g-mean for each threshold\n",
        "gmeans = np.sqrt(tpr * (1-fpr))\n",
        "# locate the index of the largest g-mean\n",
        "ix = np.argmax(gmeans)\n",
        "threshold = thresholds[ix]\n",
        "\n",
        "predict_data = [0]*len(X_rmse_df)\n",
        "for j in anomalies: predict_data[j] = 1\n",
        "\n",
        "TN, FP, FN, TP = confusion_matrix(anomalies, predict_data).ravel()\n",
        "precision = TP / (TP + FP)\n",
        "recall = TP / (TP + FN)\n",
        "accuracy = (TP + TN) / (TP + FN + FP + TN)\n",
        "f1_score = 2*TP / (2*TP + FP + FN)\n",
        "\n",
        "fig_auc, ax = plt.subplots()\n",
        "ax.set_title('Receiver Operating Characteristic (ROC)')\n",
        "ax.plot([0, 1], [0, 1], 'r--', label='No Skill')\n",
        "ax.plot(fpr, tpr, marker='.')\n",
        "ax.scatter(fpr[ix], tpr[ix], marker='o', color='black', label='Best')\n",
        "RocCurveDisplay.from_predictions(anomalies, X_rmse_df, ax=ax, color='orange')\n",
        "ax.annotate('Threshold = ' + str(threshold.round(6)) +\n",
        "            '\\n' + 'roc_auc_score:'.ljust(15) + str(roc_auc.round(3)) +\n",
        "            '\\n' + 'precision:'.ljust(15)     + str(precision.round(3)) +\n",
        "            '\\n' + 'recall:'.ljust(15)        + str(recall.round(3)) +\n",
        "            '\\n' + 'accuracy:'.ljust(15)      + str(accuracy.round(3)) +\n",
        "            '\\n' + 'f1_score:'.ljust(15)      + str(f1_score.round(3)),\n",
        "             xy=([fpr[ix], tpr[ix]]), xytext=(0.4, 0.5),\n",
        "             size=10, fontfamily='monospace', va=\"center\", ha=\"left\",\n",
        "             bbox=dict(boxstyle=\"round4\", fc=\"w\", alpha=.8),\n",
        "             arrowprops=dict(width=.8, connectionstyle=\"arc3,rad=-0.3\", fc=\"w\"))\n",
        "plt.show()"
      ],
      "metadata": {
        "colab": {
          "base_uri": "https://localhost:8080/",
          "height": 350
        },
        "id": "qnA4tm-uGzio",
        "outputId": "caf31800-7b4d-4a10-e864-e9cde070364e"
      },
      "execution_count": 256,
      "outputs": [
        {
          "output_type": "stream",
          "name": "stderr",
          "text": [
            "/usr/local/lib/python3.7/dist-packages/ipykernel_launcher.py:13: DeprecationWarning: In future, it will be an error for 'np.bool_' scalars to be interpreted as an index\n",
            "  del sys.path[0]\n"
          ]
        },
        {
          "output_type": "display_data",
          "data": {
            "text/plain": [
              "<Figure size 432x288 with 1 Axes>"
            ],
            "image/png": "[encoded data removed]"
          },
          "metadata": {
            "needs_background": "light"
          }
        }
      ]
    },
    {
      "cell_type": "markdown",
      "metadata": {
        "id": "L7FK1P3vBCpQ"
      },
      "source": [
        "# Upload 7 days inferenced training data to Postgresql"
      ]
    },
    {
      "cell_type": "code",
      "execution_count": 257,
      "metadata": {
        "id": "UsYSeMb9BCpR"
      },
      "outputs": [],
      "source": [
        "def make_list_rmse(df):\n",
        "    list_rmse=[]\n",
        "    \n",
        "    # first append time-related column type\n",
        "    list_rmse.append({'name':df.columns[0],\n",
        "                      'type':'TIMESTAMPTZ'})\n",
        "    \n",
        "    # then iterate the rest of the columns type\n",
        "    for i in range(1,len(df.columns)):\n",
        "        data_type = str(df.dtypes[i]).upper()\n",
        "        if data_type == 'FLOAT64':\n",
        "            data_type = 'FLOAT'\n",
        "        elif data_type == 'INT64':\n",
        "            data_type = 'INTEGER'\n",
        "        else:\n",
        "            data_type = 'VARCHAR(64)'\n",
        "\n",
        "        list_rmse.append({'name':df.columns[i],\n",
        "                          'type':data_type})\n",
        "    \n",
        "    return list_rmse"
      ]
    },
    {
      "cell_type": "code",
      "execution_count": 258,
      "metadata": {
        "id": "sFnXLbwJBCpR"
      },
      "outputs": [],
      "source": [
        "def get_data_by_deltatime(data , deltatime):\n",
        "    #data_deltatime = data.asfreq(freq= deltatime)\n",
        "    #data_deltatime = data_deltatime.dropna()\n",
        "    \n",
        "    # save string type column \n",
        "    data_id = data['deviceId'].iloc[0]\n",
        "    \n",
        "    data.set_index(\"ts\", inplace=True)  # New DataHub format\n",
        "    data_deltatime = data.resample(rule = deltatime).mean()\n",
        "    data_deltatime = data_deltatime.dropna()\n",
        "    data_deltatime['deviceId'] = data_id\n",
        "    \n",
        "    return data_deltatime"
      ]
    },
    {
      "cell_type": "code",
      "execution_count": 259,
      "metadata": {
        "id": "aLqY54xvBCpS"
      },
      "outputs": [],
      "source": [
        "# Combine the degrading_level result with original inference dataset then save\n",
        "inference_data_raw = rawdata.copy()\n",
        "\n",
        "rawdata_reindex = inference_data_raw.reset_index()\n",
        "X_rawdata_rmse=pd.concat([rawdata_reindex, X_rmse_df], axis=1)\n",
        "# X_rawdata_rmse = X_rawdata_rmse.drop(['index'],axis=1)\n",
        "\n",
        "# sort the dataframe by ascending time order\n",
        "# X_rawdata_rmse = X_rawdata_rmse.sort_values(by='ts', ascending=True)\n",
        "# X_rawdata_rmse = X_rawdata_rmse.sort_values(by='Time', ascending=True)\n",
        "X_rawdata_rmse.reset_index(drop=True, inplace=True)\n",
        "\n",
        "# double check the column order of upload inference result\n",
        "# final_order = ['ts','X_OAVelocity', 'Y_OAVelocity', 'Z_OAVelocity', 'Temp_Value',\n",
        "#                 'X_Peakmg', 'Y_Peakmg', 'Z_Peakmg', 'X_RMSmg', 'Y_RMSmg', 'Z_RMSmg',\n",
        "#                 'X_Kurtosis', 'Y_Kurtosis', 'Z_Kurtosis', 'X_CrestFactor',\n",
        "#                 'Y_CrestFactor', 'Z_CrestFactor', 'X_Skewness', 'Y_Skewness',\n",
        "#                 'Z_Skewness', 'X_Deviation', 'Y_Deviation', 'Z_Deviation',\n",
        "#                 'X_Displacement', 'Y_Displacement', 'Z_Displacement', 'Battery_Level',\n",
        "#                 'Power_source', 'Timestamp', 'Timestamp1', 'RSSI', 'SNR', 'Device_EUI',\n",
        "#                 'Device_EUI1', 'Device_EUI2', 'Device_EUI3', 'Battery_Voltage',\n",
        "#                 'deviceId', 'degrading_level']\n",
        "\n",
        "# X_rawdata_rmse = X_rawdata_rmse[final_order]"
      ]
    },
    {
      "cell_type": "code",
      "source": [
        "X_rawdata_rmse"
      ],
      "metadata": {
        "colab": {
          "base_uri": "https://localhost:8080/",
          "height": 488
        },
        "id": "ZPf1LaUTrH2S",
        "outputId": "df5b10bf-7741-40ff-aed0-24e578deb993"
      },
      "execution_count": 260,
      "outputs": [
        {
          "output_type": "execute_result",
          "data": {
            "text/plain": [
              "      id         1         2         3         4         5         6  \\\n",
              "0      1  0.563650  1.069229 -0.837759 -1.122021  0.433296  0.770755   \n",
              "1      2  0.061333  0.058830  0.056952  0.068634  0.073433  0.072390   \n",
              "2      3  0.035736  0.010964 -0.164872 -0.167714 -0.125075 -0.104771   \n",
              "3      4 -0.046700  0.060913  0.009340 -0.093400 -0.067817  0.022335   \n",
              "4      5  0.162922 -0.377662  0.014457  0.565437 -0.203369 -0.511508   \n",
              "..   ...       ...       ...       ...       ...       ...       ...   \n",
              "755  788 -0.106811 -0.113487 -0.098884 -0.070929 -0.054031 -0.011265   \n",
              "756  789  1.775416  2.268407 -0.783750 -2.423126 -0.356139  2.712261   \n",
              "757  790 -0.320809  0.141319  0.962022 -0.022335 -0.903139  0.454412   \n",
              "758  791  0.055878  0.104933 -0.030863 -0.087390  0.028589 -0.037360   \n",
              "759  792  0.091613  0.037847  0.063025  0.067248 -0.081055 -0.048893   \n",
              "\n",
              "            7         8         9  ...      5993      5994      5995  \\\n",
              "0   -0.477153 -0.588421  0.455224  ...  0.220506  0.036548 -0.097461   \n",
              "1    0.042975 -0.007302 -0.026286  ...  0.107437  0.104516  0.063419   \n",
              "2   -0.016650  0.151471  0.137258  ... -1.991455 -2.922208  1.937039   \n",
              "3    0.006091 -0.076751 -0.032893  ... -0.000406  0.091776  0.074314   \n",
              "4    0.410961  0.228546 -0.515244  ... -0.263632  0.114517  0.209541   \n",
              "..        ...       ...       ...  ...       ...       ...       ...   \n",
              "755  0.031710  0.051111  0.051111  ... -0.002712 -0.011891 -0.003338   \n",
              "756  1.358364 -2.023942 -1.642625  ...  0.879586  0.576645 -0.486899   \n",
              "757  1.038773 -0.651365 -0.790653  ...  0.077563  0.168933  0.131572   \n",
              "758 -0.046294 -0.062375 -0.006660  ... -0.085116  0.097948 -0.007797   \n",
              "759  0.137095  0.081705 -0.268343  ... -0.079431  0.045319  0.023066   \n",
              "\n",
              "         5996      5997      5998      5999      6000  label  degrading_level  \n",
              "0   -0.084060 -0.007716 -0.049949 -0.018274  0.021523      7         1.893315  \n",
              "1   -0.014394 -0.048607 -0.009388  0.058830  0.129342      0         0.193738  \n",
              "2    0.704156 -2.085667  0.203044  0.739892 -2.149829      9         1.571239  \n",
              "3   -0.082842 -0.110050 -0.028020  0.025990 -0.050355      9         1.103699  \n",
              "4   -0.184851 -0.075370  0.286211  0.005685 -0.223348      7         0.700074  \n",
              "..        ...       ...       ...       ...       ...    ...              ...  \n",
              "755  0.030458  0.051319  0.042349  0.010639 -0.031918      0         0.205433  \n",
              "756 -0.652583  0.233094  0.760196 -0.030050 -0.861312      7         2.553569  \n",
              "757  0.032487  0.071878  0.000406 -0.067817  0.006091      9         1.110718  \n",
              "758 -0.085766  0.108507  0.074558 -0.053766  0.053604      3         0.312578  \n",
              "759 -0.163572 -0.097624  0.118090 -0.008609 -0.198821      3         0.346963  \n",
              "\n",
              "[760 rows x 6003 columns]"
            ],
            "text/html": [
              "\n",
              "  <div id=\"df-5ae778ab-597f-4af6-8530-fbbea61ebeb3\">\n",
              "    <div class=\"colab-df-container\">\n",
              "      <div>\n",
              "<style scoped>\n",
              "    .dataframe tbody tr th:only-of-type {\n",
              "        vertical-align: middle;\n",
              "    }\n",
              "\n",
              "    .dataframe tbody tr th {\n",
              "        vertical-align: top;\n",
              "    }\n",
              "\n",
              "    .dataframe thead th {\n",
              "        text-align: right;\n",
              "    }\n",
              "</style>\n",
              "<table border=\"1\" class=\"dataframe\">\n",
              "  <thead>\n",
              "    <tr style=\"text-align: right;\">\n",
              "      <th></th>\n",
              "      <th>id</th>\n",
              "      <th>1</th>\n",
              "      <th>2</th>\n",
              "      <th>3</th>\n",
              "      <th>4</th>\n",
              "      <th>5</th>\n",
              "      <th>6</th>\n",
              "      <th>7</th>\n",
              "      <th>8</th>\n",
              "      <th>9</th>\n",
              "      <th>...</th>\n",
              "      <th>5993</th>\n",
              "      <th>5994</th>\n",
              "      <th>5995</th>\n",
              "      <th>5996</th>\n",
              "      <th>5997</th>\n",
              "      <th>5998</th>\n",
              "      <th>5999</th>\n",
              "      <th>6000</th>\n",
              "      <th>label</th>\n",
              "      <th>degrading_level</th>\n",
              "    </tr>\n",
              "  </thead>\n",
              "  <tbody>\n",
              "    <tr>\n",
              "      <th>0</th>\n",
              "      <td>1</td>\n",
              "      <td>0.563650</td>\n",
              "      <td>1.069229</td>\n",
              "      <td>-0.837759</td>\n",
              "      <td>-1.122021</td>\n",
              "      <td>0.433296</td>\n",
              "      <td>0.770755</td>\n",
              "      <td>-0.477153</td>\n",
              "      <td>-0.588421</td>\n",
              "      <td>0.455224</td>\n",
              "      <td>...</td>\n",
              "      <td>0.220506</td>\n",
              "      <td>0.036548</td>\n",
              "      <td>-0.097461</td>\n",
              "      <td>-0.084060</td>\n",
              "      <td>-0.007716</td>\n",
              "      <td>-0.049949</td>\n",
              "      <td>-0.018274</td>\n",
              "      <td>0.021523</td>\n",
              "      <td>7</td>\n",
              "      <td>1.893315</td>\n",
              "    </tr>\n",
              "    <tr>\n",
              "      <th>1</th>\n",
              "      <td>2</td>\n",
              "      <td>0.061333</td>\n",
              "      <td>0.058830</td>\n",
              "      <td>0.056952</td>\n",
              "      <td>0.068634</td>\n",
              "      <td>0.073433</td>\n",
              "      <td>0.072390</td>\n",
              "      <td>0.042975</td>\n",
              "      <td>-0.007302</td>\n",
              "      <td>-0.026286</td>\n",
              "      <td>...</td>\n",
              "      <td>0.107437</td>\n",
              "      <td>0.104516</td>\n",
              "      <td>0.063419</td>\n",
              "      <td>-0.014394</td>\n",
              "      <td>-0.048607</td>\n",
              "      <td>-0.009388</td>\n",
              "      <td>0.058830</td>\n",
              "      <td>0.129342</td>\n",
              "      <td>0</td>\n",
              "      <td>0.193738</td>\n",
              "    </tr>\n",
              "    <tr>\n",
              "      <th>2</th>\n",
              "      <td>3</td>\n",
              "      <td>0.035736</td>\n",
              "      <td>0.010964</td>\n",
              "      <td>-0.164872</td>\n",
              "      <td>-0.167714</td>\n",
              "      <td>-0.125075</td>\n",
              "      <td>-0.104771</td>\n",
              "      <td>-0.016650</td>\n",
              "      <td>0.151471</td>\n",
              "      <td>0.137258</td>\n",
              "      <td>...</td>\n",
              "      <td>-1.991455</td>\n",
              "      <td>-2.922208</td>\n",
              "      <td>1.937039</td>\n",
              "      <td>0.704156</td>\n",
              "      <td>-2.085667</td>\n",
              "      <td>0.203044</td>\n",
              "      <td>0.739892</td>\n",
              "      <td>-2.149829</td>\n",
              "      <td>9</td>\n",
              "      <td>1.571239</td>\n",
              "    </tr>\n",
              "    <tr>\n",
              "      <th>3</th>\n",
              "      <td>4</td>\n",
              "      <td>-0.046700</td>\n",
              "      <td>0.060913</td>\n",
              "      <td>0.009340</td>\n",
              "      <td>-0.093400</td>\n",
              "      <td>-0.067817</td>\n",
              "      <td>0.022335</td>\n",
              "      <td>0.006091</td>\n",
              "      <td>-0.076751</td>\n",
              "      <td>-0.032893</td>\n",
              "      <td>...</td>\n",
              "      <td>-0.000406</td>\n",
              "      <td>0.091776</td>\n",
              "      <td>0.074314</td>\n",
              "      <td>-0.082842</td>\n",
              "      <td>-0.110050</td>\n",
              "      <td>-0.028020</td>\n",
              "      <td>0.025990</td>\n",
              "      <td>-0.050355</td>\n",
              "      <td>9</td>\n",
              "      <td>1.103699</td>\n",
              "    </tr>\n",
              "    <tr>\n",
              "      <th>4</th>\n",
              "      <td>5</td>\n",
              "      <td>0.162922</td>\n",
              "      <td>-0.377662</td>\n",
              "      <td>0.014457</td>\n",
              "      <td>0.565437</td>\n",
              "      <td>-0.203369</td>\n",
              "      <td>-0.511508</td>\n",
              "      <td>0.410961</td>\n",
              "      <td>0.228546</td>\n",
              "      <td>-0.515244</td>\n",
              "      <td>...</td>\n",
              "      <td>-0.263632</td>\n",
              "      <td>0.114517</td>\n",
              "      <td>0.209541</td>\n",
              "      <td>-0.184851</td>\n",
              "      <td>-0.075370</td>\n",
              "      <td>0.286211</td>\n",
              "      <td>0.005685</td>\n",
              "      <td>-0.223348</td>\n",
              "      <td>7</td>\n",
              "      <td>0.700074</td>\n",
              "    </tr>\n",
              "    <tr>\n",
              "      <th>...</th>\n",
              "      <td>...</td>\n",
              "      <td>...</td>\n",
              "      <td>...</td>\n",
              "      <td>...</td>\n",
              "      <td>...</td>\n",
              "      <td>...</td>\n",
              "      <td>...</td>\n",
              "      <td>...</td>\n",
              "      <td>...</td>\n",
              "      <td>...</td>\n",
              "      <td>...</td>\n",
              "      <td>...</td>\n",
              "      <td>...</td>\n",
              "      <td>...</td>\n",
              "      <td>...</td>\n",
              "      <td>...</td>\n",
              "      <td>...</td>\n",
              "      <td>...</td>\n",
              "      <td>...</td>\n",
              "      <td>...</td>\n",
              "      <td>...</td>\n",
              "    </tr>\n",
              "    <tr>\n",
              "      <th>755</th>\n",
              "      <td>788</td>\n",
              "      <td>-0.106811</td>\n",
              "      <td>-0.113487</td>\n",
              "      <td>-0.098884</td>\n",
              "      <td>-0.070929</td>\n",
              "      <td>-0.054031</td>\n",
              "      <td>-0.011265</td>\n",
              "      <td>0.031710</td>\n",
              "      <td>0.051111</td>\n",
              "      <td>0.051111</td>\n",
              "      <td>...</td>\n",
              "      <td>-0.002712</td>\n",
              "      <td>-0.011891</td>\n",
              "      <td>-0.003338</td>\n",
              "      <td>0.030458</td>\n",
              "      <td>0.051319</td>\n",
              "      <td>0.042349</td>\n",
              "      <td>0.010639</td>\n",
              "      <td>-0.031918</td>\n",
              "      <td>0</td>\n",
              "      <td>0.205433</td>\n",
              "    </tr>\n",
              "    <tr>\n",
              "      <th>756</th>\n",
              "      <td>789</td>\n",
              "      <td>1.775416</td>\n",
              "      <td>2.268407</td>\n",
              "      <td>-0.783750</td>\n",
              "      <td>-2.423126</td>\n",
              "      <td>-0.356139</td>\n",
              "      <td>2.712261</td>\n",
              "      <td>1.358364</td>\n",
              "      <td>-2.023942</td>\n",
              "      <td>-1.642625</td>\n",
              "      <td>...</td>\n",
              "      <td>0.879586</td>\n",
              "      <td>0.576645</td>\n",
              "      <td>-0.486899</td>\n",
              "      <td>-0.652583</td>\n",
              "      <td>0.233094</td>\n",
              "      <td>0.760196</td>\n",
              "      <td>-0.030050</td>\n",
              "      <td>-0.861312</td>\n",
              "      <td>7</td>\n",
              "      <td>2.553569</td>\n",
              "    </tr>\n",
              "    <tr>\n",
              "      <th>757</th>\n",
              "      <td>790</td>\n",
              "      <td>-0.320809</td>\n",
              "      <td>0.141319</td>\n",
              "      <td>0.962022</td>\n",
              "      <td>-0.022335</td>\n",
              "      <td>-0.903139</td>\n",
              "      <td>0.454412</td>\n",
              "      <td>1.038773</td>\n",
              "      <td>-0.651365</td>\n",
              "      <td>-0.790653</td>\n",
              "      <td>...</td>\n",
              "      <td>0.077563</td>\n",
              "      <td>0.168933</td>\n",
              "      <td>0.131572</td>\n",
              "      <td>0.032487</td>\n",
              "      <td>0.071878</td>\n",
              "      <td>0.000406</td>\n",
              "      <td>-0.067817</td>\n",
              "      <td>0.006091</td>\n",
              "      <td>9</td>\n",
              "      <td>1.110718</td>\n",
              "    </tr>\n",
              "    <tr>\n",
              "      <th>758</th>\n",
              "      <td>791</td>\n",
              "      <td>0.055878</td>\n",
              "      <td>0.104933</td>\n",
              "      <td>-0.030863</td>\n",
              "      <td>-0.087390</td>\n",
              "      <td>0.028589</td>\n",
              "      <td>-0.037360</td>\n",
              "      <td>-0.046294</td>\n",
              "      <td>-0.062375</td>\n",
              "      <td>-0.006660</td>\n",
              "      <td>...</td>\n",
              "      <td>-0.085116</td>\n",
              "      <td>0.097948</td>\n",
              "      <td>-0.007797</td>\n",
              "      <td>-0.085766</td>\n",
              "      <td>0.108507</td>\n",
              "      <td>0.074558</td>\n",
              "      <td>-0.053766</td>\n",
              "      <td>0.053604</td>\n",
              "      <td>3</td>\n",
              "      <td>0.312578</td>\n",
              "    </tr>\n",
              "    <tr>\n",
              "      <th>759</th>\n",
              "      <td>792</td>\n",
              "      <td>0.091613</td>\n",
              "      <td>0.037847</td>\n",
              "      <td>0.063025</td>\n",
              "      <td>0.067248</td>\n",
              "      <td>-0.081055</td>\n",
              "      <td>-0.048893</td>\n",
              "      <td>0.137095</td>\n",
              "      <td>0.081705</td>\n",
              "      <td>-0.268343</td>\n",
              "      <td>...</td>\n",
              "      <td>-0.079431</td>\n",
              "      <td>0.045319</td>\n",
              "      <td>0.023066</td>\n",
              "      <td>-0.163572</td>\n",
              "      <td>-0.097624</td>\n",
              "      <td>0.118090</td>\n",
              "      <td>-0.008609</td>\n",
              "      <td>-0.198821</td>\n",
              "      <td>3</td>\n",
              "      <td>0.346963</td>\n",
              "    </tr>\n",
              "  </tbody>\n",
              "</table>\n",
              "<p>760 rows × 6003 columns</p>\n",
              "</div>\n",
              "      <button class=\"colab-df-convert\" onclick=\"convertToInteractive('df-5ae778ab-597f-4af6-8530-fbbea61ebeb3')\"\n",
              "              title=\"Convert this dataframe to an interactive table.\"\n",
              "              style=\"display:none;\">\n",
              "        \n",
              "  <svg xmlns=\"http://www.w3.org/2000/svg\" height=\"24px\"viewBox=\"0 0 24 24\"\n",
              "       width=\"24px\">\n",
              "    <path d=\"M0 0h24v24H0V0z\" fill=\"none\"/>\n",
              "    <path d=\"M18.56 5.44l.94 2.06.94-2.06 2.06-.94-2.06-.94-.94-2.06-.94 2.06-2.06.94zm-11 1L8.5 8.5l.94-2.06 2.06-.94-2.06-.94L8.5 2.5l-.94 2.06-2.06.94zm10 10l.94 2.06.94-2.06 2.06-.94-2.06-.94-.94-2.06-.94 2.06-2.06.94z\"/><path d=\"M17.41 7.96l-1.37-1.37c-.4-.4-.92-.59-1.43-.59-.52 0-1.04.2-1.43.59L10.3 9.45l-7.72 7.72c-.78.78-.78 2.05 0 2.83L4 21.41c.39.39.9.59 1.41.59.51 0 1.02-.2 1.41-.59l7.78-7.78 2.81-2.81c.8-.78.8-2.07 0-2.86zM5.41 20L4 18.59l7.72-7.72 1.47 1.35L5.41 20z\"/>\n",
              "  </svg>\n",
              "      </button>\n",
              "      \n",
              "  <style>\n",
              "    .colab-df-container {\n",
              "      display:flex;\n",
              "      flex-wrap:wrap;\n",
              "      gap: 12px;\n",
              "    }\n",
              "\n",
              "    .colab-df-convert {\n",
              "      background-color: #E8F0FE;\n",
              "      border: none;\n",
              "      border-radius: 50%;\n",
              "      cursor: pointer;\n",
              "      display: none;\n",
              "      fill: #1967D2;\n",
              "      height: 32px;\n",
              "      padding: 0 0 0 0;\n",
              "      width: 32px;\n",
              "    }\n",
              "\n",
              "    .colab-df-convert:hover {\n",
              "      background-color: #E2EBFA;\n",
              "      box-shadow: 0px 1px 2px rgba(60, 64, 67, 0.3), 0px 1px 3px 1px rgba(60, 64, 67, 0.15);\n",
              "      fill: #174EA6;\n",
              "    }\n",
              "\n",
              "    [theme=dark] .colab-df-convert {\n",
              "      background-color: #3B4455;\n",
              "      fill: #D2E3FC;\n",
              "    }\n",
              "\n",
              "    [theme=dark] .colab-df-convert:hover {\n",
              "      background-color: #434B5C;\n",
              "      box-shadow: 0px 1px 3px 1px rgba(0, 0, 0, 0.15);\n",
              "      filter: drop-shadow(0px 1px 2px rgba(0, 0, 0, 0.3));\n",
              "      fill: #FFFFFF;\n",
              "    }\n",
              "  </style>\n",
              "\n",
              "      <script>\n",
              "        const buttonEl =\n",
              "          document.querySelector('#df-5ae778ab-597f-4af6-8530-fbbea61ebeb3 button.colab-df-convert');\n",
              "        buttonEl.style.display =\n",
              "          google.colab.kernel.accessAllowed ? 'block' : 'none';\n",
              "\n",
              "        async function convertToInteractive(key) {\n",
              "          const element = document.querySelector('#df-5ae778ab-597f-4af6-8530-fbbea61ebeb3');\n",
              "          const dataTable =\n",
              "            await google.colab.kernel.invokeFunction('convertToInteractive',\n",
              "                                                     [key], {});\n",
              "          if (!dataTable) return;\n",
              "\n",
              "          const docLinkHtml = 'Like what you see? Visit the ' +\n",
              "            '<a target=\"_blank\" href=https://colab.research.google.com/notebooks/data_table.ipynb>data table notebook</a>'\n",
              "            + ' to learn more about interactive tables.';\n",
              "          element.innerHTML = '';\n",
              "          dataTable['output_type'] = 'display_data';\n",
              "          await google.colab.output.renderOutput(dataTable, element);\n",
              "          const docLink = document.createElement('div');\n",
              "          docLink.innerHTML = docLinkHtml;\n",
              "          element.appendChild(docLink);\n",
              "        }\n",
              "      </script>\n",
              "    </div>\n",
              "  </div>\n",
              "  "
            ]
          },
          "metadata": {},
          "execution_count": 260
        }
      ]
    },
    {
      "cell_type": "code",
      "source": [
        "print(X_rawdata_rmse.columns)\n",
        "# X_rawdata_rmse['DESCRIPION']"
      ],
      "metadata": {
        "colab": {
          "base_uri": "https://localhost:8080/"
        },
        "id": "IRXo8BW6sTFZ",
        "outputId": "7776b718-3ab1-43cb-a284-47bfddb8393e"
      },
      "execution_count": 261,
      "outputs": [
        {
          "output_type": "stream",
          "name": "stdout",
          "text": [
            "Index(['id', '1', '2', '3', '4', '5', '6', '7', '8', '9',\n",
            "       ...\n",
            "       '5993', '5994', '5995', '5996', '5997', '5998', '5999', '6000', 'label',\n",
            "       'degrading_level'],\n",
            "      dtype='object', length=6003)\n"
          ]
        }
      ]
    },
    {
      "cell_type": "code",
      "source": [
        "if envs['deviceID'] == 'FF548D29':\n",
        "    check_index = ['index', 'degrading_level']\n",
        "elif envs['deviceID'] == 'bearing_comp':\n",
        "    check_index = ['label', 'degrading_level']\n",
        "elif envs['deviceID'] == 'JNU_bearing':\n",
        "    check_index = ['index', 'degrading_level']\n",
        "\n",
        "_result = X_rawdata_rmse[check_index]\n",
        "# _result.hist()\n",
        "# fig, ax = plt.subplots()\n",
        "# plt.plot(_result['label'], _result['degrading_level'])\n",
        "plt.bar(x=_result[check_index[0]], height=_result[check_index[1]])"
      ],
      "metadata": {
        "colab": {
          "base_uri": "https://localhost:8080/",
          "height": 282
        },
        "id": "2AYtvcyhD0cf",
        "outputId": "d65ca7a3-4278-4bd1-8ba1-a7c0449f7e7e"
      },
      "execution_count": 262,
      "outputs": [
        {
          "output_type": "execute_result",
          "data": {
            "text/plain": [
              "<BarContainer object of 760 artists>"
            ]
          },
          "metadata": {},
          "execution_count": 262
        },
        {
          "output_type": "display_data",
          "data": {
            "text/plain": [
              "<Figure size 432x288 with 1 Axes>"
            ],
            "image/png": "[encoded data removed]"
          },
          "metadata": {
            "needs_background": "light"
          }
        }
      ]
    },
    {
      "cell_type": "code",
      "source": [
        "import seaborn as sns\n",
        "# sns.pairplot(_result, hue='label', size=2.5);\n",
        "# sns.pairplot(_result, size=4);\n",
        "sns.lineplot(data=_result, \n",
        "             x=check_index[0], \n",
        "             y=check_index[1], \n",
        "             )"
      ],
      "metadata": {
        "colab": {
          "base_uri": "https://localhost:8080/",
          "height": 296
        },
        "id": "M49idfNOAWf0",
        "outputId": "bacf8f06-84c3-4504-8bae-0b6318b88a43"
      },
      "execution_count": 263,
      "outputs": [
        {
          "output_type": "execute_result",
          "data": {
            "text/plain": [
              "<matplotlib.axes._subplots.AxesSubplot at 0x7f030e095850>"
            ]
          },
          "metadata": {},
          "execution_count": 263
        },
        {
          "output_type": "display_data",
          "data": {
            "text/plain": [
              "<Figure size 432x288 with 1 Axes>"
            ],
            "image/png": "[encoded data removed]"
          },
          "metadata": {
            "needs_background": "light"
          }
        }
      ]
    },
    {
      "cell_type": "code",
      "execution_count": null,
      "metadata": {
        "id": "A-WILy_NBCpS"
      },
      "outputs": [],
      "source": [
        "# 將數據分割成十分鐘一筆\n",
        "X_rawdata_rmse_deltatime = get_data_by_deltatime(X_rawdata_rmse ,'10min')\n",
        "X_rawdata_rmse_deltatime = X_rawdata_rmse_deltatime.reset_index()\n",
        "X_rawdata_rmse_deltatime = X_rawdata_rmse_deltatime[final_order]"
      ]
    },
    {
      "cell_type": "code",
      "execution_count": null,
      "metadata": {
        "id": "yUsdzHFbBCpS"
      },
      "outputs": [],
      "source": [
        "X_rawdata_rmse_deltatime"
      ]
    },
    {
      "cell_type": "code",
      "execution_count": null,
      "metadata": {
        "id": "evmvRaatBCpS"
      },
      "outputs": [],
      "source": [
        "# 上傳推理過後的 training data至 aifsphm.deviceID (rawdata+degrading level = 39 columns)\n",
        "# *參考* https://wise-paas.advantech.com/zh-tw/marketplace/product/advantech.aifs-phm\n",
        "'''upload_to_postgresDB(config['deviceID'] ,X_rawdata_rmse_deltatime)'''"
      ]
    },
    {
      "cell_type": "markdown",
      "metadata": {
        "id": "jfS2AdlHBCpT"
      },
      "source": [
        "# 上傳經過preprocessed之ts, Z_OAVelocity, degrading_level至aifsphm.deviceID_predict"
      ]
    },
    {
      "cell_type": "code",
      "execution_count": null,
      "metadata": {
        "id": "zjETk384BCpT"
      },
      "outputs": [],
      "source": [
        "def phm_data_cleaning(data):\n",
        "    '''1. Feature selection\n",
        "       2. Time format conversion: UTC -> Local time\n",
        "       3. Sort data by time, and remove data that overlaps in time\n",
        "       4. Remove nan value\n",
        "    '''\n",
        "    col = ['ts', 'Z_OAVelocity', 'degrading_level']\n",
        "    # data['ts'] = data['ts'] + datetime.timedelta(hours=8)\n",
        "    \n",
        "    # Sort data by time, and remove data that overlaps in time\n",
        "    data = data.sort_values(by = 'ts', ascending=True)\n",
        "    data.drop_duplicates(\"ts\", \"first\", inplace = True)\n",
        "    # Remove nan value\n",
        "    data  = data.dropna(axis = 0, how = 'any')\n",
        "    \n",
        "    return data\n",
        "\n",
        "def preprocess_historical(day_data):\n",
        "    time = []\n",
        "    rms = []\n",
        "    rmse = []\n",
        "    col = ['ts', 'Z_OAVelocity', 'degrading_level']\n",
        "    for ii in range(len(day_data)):\n",
        "        time1 = day_data[ii].iloc[0, 0]\n",
        "        rms_sort = sorted(day_data[ii].Z_OAVelocity,reverse=True)\n",
        "        rmse_sort = sorted(day_data[ii].degrading_level,reverse=True)\n",
        "        rms_max = max(rms_sort[(round(len(day_data[ii])*0.1)):])\n",
        "        rmse_max = max(rmse_sort[(round(len(day_data[ii])*0.1)):])\n",
        "        time.append(time1), rms.append(rms_max), rmse.append(rmse_max)\n",
        "    preprocess_data = pd.DataFrame([time, rms, rmse]).T\n",
        "    preprocess_data.columns = col\n",
        "    return preprocess_data"
      ]
    },
    {
      "cell_type": "code",
      "execution_count": null,
      "metadata": {
        "id": "Qdwls9CXBCpT"
      },
      "outputs": [],
      "source": [
        "data2 = phm_data_cleaning(X_rawdata_rmse_deltatime)\n",
        "traindata_day = 1\n",
        "for i in range(len(data2)-1):\n",
        "    if data2['ts'].iloc[i].date() != data2['ts'].iloc[i+1].date():\n",
        "        traindata_day = traindata_day + 1\n",
        "            \n",
        "# 創建空list, dataframe\n",
        "day_data = {}\n",
        "day_lst = {}\n",
        "for v in range(traindata_day):\n",
        "    day_data[v] = pd.DataFrame(columns=range(3))\n",
        "    day_lst[v] = []\n",
        "    \n",
        "# 每天的時間長度可能不同，因此不同天存入不同的list, dataframe\n",
        "traindata_day_index = 0\n",
        "for i in range(len(data2)-1):\n",
        "    if data2['ts'].iloc[i].date() == data2['ts'].iloc[i+1].date():\n",
        "        day_lst[traindata_day_index].append(data2.iloc[i, :])\n",
        "        day_data[traindata_day_index] = pd.DataFrame(day_lst[traindata_day_index])\n",
        "    else:\n",
        "        day_lst[traindata_day_index].append(data2.iloc[i, :])\n",
        "        day_data[traindata_day_index] = pd.DataFrame(day_lst[traindata_day_index])\n",
        "        traindata_day_index = traindata_day_index + 1\n",
        "        \n",
        "day_lst[traindata_day_index].append(data2.iloc[len(data2)-1, :])\n",
        "day_data[traindata_day_index] = pd.DataFrame(day_lst[traindata_day_index])"
      ]
    },
    {
      "cell_type": "code",
      "execution_count": null,
      "metadata": {
        "id": "SIZVwrDCBCpT"
      },
      "outputs": [],
      "source": [
        "data2['ts'].iloc[i].date()"
      ]
    },
    {
      "cell_type": "code",
      "execution_count": null,
      "metadata": {
        "id": "Ef9zYTe1BCpT"
      },
      "outputs": [],
      "source": [
        "preprocessed_df = preprocess_historical(day_data)"
      ]
    },
    {
      "cell_type": "code",
      "execution_count": null,
      "metadata": {
        "id": "ot_pHiimBCpU"
      },
      "outputs": [],
      "source": [
        "upload_preprocessed_to_postgresDB(config['deviceID'],preprocessed_df)"
      ]
    },
    {
      "cell_type": "code",
      "execution_count": null,
      "metadata": {
        "id": "M45vL_mKBCpU"
      },
      "outputs": [],
      "source": [
        ""
      ]
    }
  ],
  "metadata": {
    "colab": {
      "collapsed_sections": [],
      "name": "[advt_new_data]detect_predict_train.ipynb",
      "provenance": [],
      "include_colab_link": true
    },
    "kernelspec": {
      "display_name": "Python 3",
      "language": "python",
      "name": "python3"
    },
    "language_info": {
      "codemirror_mode": {
        "name": "ipython",
        "version": 3
      },
      "file_extension": ".py",
      "mimetype": "text/x-python",
      "name": "python",
      "nbconvert_exporter": "python",
      "pygments_lexer": "ipython3",
      "version": "3.6.9"
    },
    "accelerator": "GPU"
  },
  "nbformat": 4,
  "nbformat_minor": 0
}