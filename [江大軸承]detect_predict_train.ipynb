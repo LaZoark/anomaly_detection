{
  "cells": [
    {
      "cell_type": "markdown",
      "metadata": {
        "id": "view-in-github",
        "colab_type": "text"
      },
      "source": [
        "<a href=\"https://colab.research.google.com/github/LaZoark/anomaly_detection/blob/main/%5B%E6%B1%9F%E5%A4%A7%E8%BB%B8%E6%89%BF%5Ddetect_predict_train.ipynb\" target=\"_parent\"><img src=\"https://colab.research.google.com/assets/colab-badge.svg\" alt=\"Open In Colab\"/></a>"
      ]
    },
    {
      "cell_type": "code",
      "source": [
        "# 軸承競賽 train.csv\n",
        "# !wget https://github.com/dreamingfish2011/ml_dl/raw/master/com/self/ml/classify/bearing/train.csv\n",
        "\n",
        "# 江南大學 bearing datasets\n",
        "# ! wget https://github.com/LaZoark/anomaly_detection/raw/main/Jiangnan_bearing/B600.csv\n",
        "# ! wget https://github.com/LaZoark/anomaly_detection/raw/main/Jiangnan_bearing/B800.csv\n",
        "# ! wget https://github.com/LaZoark/anomaly_detection/raw/main/Jiangnan_bearing/B1000.csv\n",
        "# ! wget https://github.com/LaZoark/anomaly_detection/raw/main/Jiangnan_bearing/IR600.csv\n",
        "# ! wget https://github.com/LaZoark/anomaly_detection/raw/main/Jiangnan_bearing/IR800.csv\n",
        "# ! wget https://github.com/LaZoark/anomaly_detection/raw/main/Jiangnan_bearing/IR1000.csv\n",
        "# ! wget https://github.com/LaZoark/anomaly_detection/raw/main/Jiangnan_bearing/OR600.csv\n",
        "# ! wget https://github.com/LaZoark/anomaly_detection/raw/main/Jiangnan_bearing/OR800.csv\n",
        "# ! wget https://github.com/LaZoark/anomaly_detection/raw/main/Jiangnan_bearing/OR1000.csv\n",
        "# ! wget https://github.com/LaZoark/anomaly_detection/raw/main/Jiangnan_bearing/N600.csv\n",
        "# ! wget https://github.com/LaZoark/anomaly_detection/raw/main/Jiangnan_bearing/N800.csv\n",
        "# ! wget https://github.com/LaZoark/anomaly_detection/raw/main/Jiangnan_bearing/N1000.csv"
      ],
      "metadata": {
        "id": "MMnV31kigQgb"
      },
      "execution_count": 2,
      "outputs": []
    },
    {
      "cell_type": "code",
      "execution_count": 2,
      "metadata": {
        "id": "pMGey1CVm2-i"
      },
      "outputs": [],
      "source": [
        "import os\n",
        "import pandas as pd\n",
        "import numpy as np\n",
        "import random\n",
        "import datetime\n",
        "\n",
        "import tensorflow as tf\n",
        "import keras\n",
        "from keras.layers import Dense\n",
        "from keras import regularizers\n",
        "\n",
        "from sklearn import preprocessing\n",
        "from sklearn.model_selection import train_test_split\n",
        "from sklearn.preprocessing import StandardScaler,MinMaxScaler\n",
        "from sklearn.metrics import mean_squared_error\n",
        "from sklearn.metrics import confusion_matrix, precision_recall_curve\n",
        "from sklearn.metrics import recall_score, classification_report, auc, roc_curve\n",
        "from sklearn.metrics import precision_recall_fscore_support, f1_score\n",
        "import joblib\n",
        "\n",
        "# import pymongo\n",
        "# from pymongo import MongoClient\n",
        "# import psycopg2\n",
        "# from psycopg2.extras import execute_values\n",
        "\n",
        "from matplotlib import pyplot as plt\n",
        "\n",
        "# For reproducible results\n",
        "# tf.random.set_seed(123456)\n",
        "np.random.seed(123456)\n",
        "random.seed(123456)"
      ]
    },
    {
      "cell_type": "markdown",
      "metadata": {
        "id": "YInoURtsm2-j"
      },
      "source": [
        "# Envs setting"
      ]
    },
    {
      "cell_type": "code",
      "execution_count": 3,
      "metadata": {
        "id": "_YHHqU5Sm2-k"
      },
      "outputs": [],
      "source": [
        "# # deviceID\n",
        "# deviceID = 'FF556D31'\n",
        "\n",
        "# model saving path\n",
        "save_path = 'training_model/'\n",
        "\n",
        "# create model saving folder\n",
        "if not os.path.exists('./training_model'):\n",
        "    os.makedirs('./training_model')"
      ]
    },
    {
      "cell_type": "code",
      "execution_count": 4,
      "metadata": {
        "id": "UQ11EKP2m2-k"
      },
      "outputs": [],
      "source": [
        "config = {}\n",
        "envs = {\n",
        "    # \"deviceID\": 'FF548D29',\n",
        "    # \"deviceID\": 'bearing_comp',\n",
        "    \"deviceID\": 'JNU_bearing',\n",
        "}"
      ]
    },
    {
      "cell_type": "code",
      "execution_count": 5,
      "metadata": {
        "colab": {
          "base_uri": "https://localhost:8080/"
        },
        "id": "WjdIuQZrm2-k",
        "outputId": "670e3be7-c3cc-42f2-8065-0ae620b9fd80"
      },
      "outputs": [
        {
          "output_type": "stream",
          "name": "stdout",
          "text": [
            "{'deviceID': 'JNU_bearing'}\n"
          ]
        }
      ],
      "source": [
        "for env, default in envs.items():\n",
        "    config.update({\n",
        "        env: os.getenv(env, default)\n",
        "    })\n",
        "print(config)"
      ]
    },
    {
      "cell_type": "code",
      "execution_count": 6,
      "metadata": {
        "id": "D6rujHiXBCpB"
      },
      "outputs": [],
      "source": [
        "E_model_name = config['deviceID'] +\"_pretrain_encoder.h5\"\n",
        "D_model_name = config['deviceID'] +\"_pretrain_decoder.h5\"\n",
        "\n",
        "M_model_name = config['deviceID'] +\"_metatrain_encoder.h5\"\n",
        "MF_model_name = config['deviceID'] +\"_metatrain_decoder.h5\"\n",
        "\n",
        "PF_model_name = config['deviceID'] +\"_ft_decoder.h5\"\n",
        "MFR_model_name = config['deviceID'] +\"_meta_reft_decoder.h5\"\n",
        "\n",
        "scalers = config['deviceID'] +\"_scaler.h5\"\n",
        "train_dataset = config['deviceID'] +\"_Train.csv\"\n",
        "inference_dataset = config['deviceID'] +\"_Test.csv\"\n",
        "Inference_result_name = config['deviceID'] +\"_inference_result\""
      ]
    },
    {
      "cell_type": "code",
      "execution_count": 7,
      "metadata": {
        "id": "0uI0Lhrim2-l"
      },
      "outputs": [],
      "source": [
        "metatrain_encoder_model = save_path + M_model_name\n",
        "metatrain_refinetune_decoder_model = save_path + MFR_model_name\n",
        "\n",
        "pretrain_encoder_model = save_path + E_model_name\n",
        "pretrain_decoder_model = save_path + D_model_name\n",
        "\n",
        "metatrain_finetune_decoder_model = save_path + MF_model_name\n",
        "pretrain_finetune_decoder_model = save_path + PF_model_name\n",
        "\n",
        "pretrain_scaler_name = save_path + scalers\n",
        "Train_dataset = train_dataset"
      ]
    },
    {
      "cell_type": "markdown",
      "metadata": {
        "id": "X2Q9DHJcm2-l"
      },
      "source": [
        "# Load 7 days Data from datahub"
      ]
    },
    {
      "cell_type": "code",
      "execution_count": 9,
      "metadata": {
        "id": "1nyhh1EuBCpE"
      },
      "outputs": [],
      "source": [
        "# data = download_from_datahub(config['deviceID'])\n",
        "if envs['deviceID'] == 'FF548D29':\n",
        "    from google.colab import drive\n",
        "    drive.mount('/content/drive')"
      ]
    },
    {
      "cell_type": "code",
      "source": [
        "_path = ['/content/drive/MyDrive/[研華科技]水泵聯軸器與馬達raw data/fine_水泵聯軸器_20211116.csv',\n",
        "         '/content/drive/MyDrive/[研華科技]水泵聯軸器與馬達raw data/水泵馬達_20211116.csv',\n",
        "         '/content/train.csv',\n",
        "         '/content/N600.csv',\n",
        "]\n",
        "\n",
        "if envs['deviceID'] == 'FF548D29':\n",
        "    # data = pd.read_csv(_path[0], encoding='utf-8')\n",
        "    data = pd.read_csv(_path[1], encoding='utf-8')\n",
        "elif envs['deviceID'] == 'JNU_bearing':\n",
        "    data = pd.read_csv(_path[3], encoding='utf-8')\n",
        "else:\n",
        "    data = pd.read_csv(_path[2], encoding='utf-8', index_col='id')"
      ],
      "metadata": {
        "id": "AkC3ydQyFwsJ"
      },
      "execution_count": 28,
      "outputs": []
    },
    {
      "cell_type": "code",
      "execution_count": 11,
      "metadata": {
        "id": "iEl7eoheBCpE"
      },
      "outputs": [],
      "source": [
        "def delete_outlier(df, name):    \n",
        "    df_value = df[name]\n",
        "    s = df_value.copy()\n",
        "    zscore = s - s.mean()\n",
        "    sigma = s.std()\n",
        "    df['isOutlier'] = zscore.abs() > 6 * sigma\n",
        "    #找出在3 sigma內的正常值\n",
        "    df_in = df[df['isOutlier'] == False]\n",
        "    df_in2 = df_in.drop(['isOutlier'],axis=1)\n",
        "\n",
        "    return df_in2"
      ]
    },
    {
      "cell_type": "code",
      "source": [
        "#drop \"id\"\n",
        "# data.drop(data.columns[0], axis=1, inplace=True)\n",
        "data"
      ],
      "metadata": {
        "colab": {
          "base_uri": "https://localhost:8080/",
          "height": 424
        },
        "id": "8HWchIMsjFhD",
        "outputId": "73da949c-9f8e-45ba-bf99-6988f3e23ac4"
      },
      "execution_count": 12,
      "outputs": [
        {
          "output_type": "execute_result",
          "data": {
            "text/plain": [
              "         0.0034583\n",
              "0        -0.000542\n",
              "1        -0.032458\n",
              "2        -0.011792\n",
              "3         0.037875\n",
              "4         0.111880\n",
              "...            ...\n",
              "1501494   0.160500\n",
              "1501495  -0.060375\n",
              "1501496   0.199540\n",
              "1501497   0.172790\n",
              "1501498   0.132960\n",
              "\n",
              "[1501499 rows x 1 columns]"
            ],
            "text/html": [
              "\n",
              "  <div id=\"df-2816862d-e6fb-4424-b130-f9ded1f53aec\">\n",
              "    <div class=\"colab-df-container\">\n",
              "      <div>\n",
              "<style scoped>\n",
              "    .dataframe tbody tr th:only-of-type {\n",
              "        vertical-align: middle;\n",
              "    }\n",
              "\n",
              "    .dataframe tbody tr th {\n",
              "        vertical-align: top;\n",
              "    }\n",
              "\n",
              "    .dataframe thead th {\n",
              "        text-align: right;\n",
              "    }\n",
              "</style>\n",
              "<table border=\"1\" class=\"dataframe\">\n",
              "  <thead>\n",
              "    <tr style=\"text-align: right;\">\n",
              "      <th></th>\n",
              "      <th>0.0034583</th>\n",
              "    </tr>\n",
              "  </thead>\n",
              "  <tbody>\n",
              "    <tr>\n",
              "      <th>0</th>\n",
              "      <td>-0.000542</td>\n",
              "    </tr>\n",
              "    <tr>\n",
              "      <th>1</th>\n",
              "      <td>-0.032458</td>\n",
              "    </tr>\n",
              "    <tr>\n",
              "      <th>2</th>\n",
              "      <td>-0.011792</td>\n",
              "    </tr>\n",
              "    <tr>\n",
              "      <th>3</th>\n",
              "      <td>0.037875</td>\n",
              "    </tr>\n",
              "    <tr>\n",
              "      <th>4</th>\n",
              "      <td>0.111880</td>\n",
              "    </tr>\n",
              "    <tr>\n",
              "      <th>...</th>\n",
              "      <td>...</td>\n",
              "    </tr>\n",
              "    <tr>\n",
              "      <th>1501494</th>\n",
              "      <td>0.160500</td>\n",
              "    </tr>\n",
              "    <tr>\n",
              "      <th>1501495</th>\n",
              "      <td>-0.060375</td>\n",
              "    </tr>\n",
              "    <tr>\n",
              "      <th>1501496</th>\n",
              "      <td>0.199540</td>\n",
              "    </tr>\n",
              "    <tr>\n",
              "      <th>1501497</th>\n",
              "      <td>0.172790</td>\n",
              "    </tr>\n",
              "    <tr>\n",
              "      <th>1501498</th>\n",
              "      <td>0.132960</td>\n",
              "    </tr>\n",
              "  </tbody>\n",
              "</table>\n",
              "<p>1501499 rows × 1 columns</p>\n",
              "</div>\n",
              "      <button class=\"colab-df-convert\" onclick=\"convertToInteractive('df-2816862d-e6fb-4424-b130-f9ded1f53aec')\"\n",
              "              title=\"Convert this dataframe to an interactive table.\"\n",
              "              style=\"display:none;\">\n",
              "        \n",
              "  <svg xmlns=\"http://www.w3.org/2000/svg\" height=\"24px\"viewBox=\"0 0 24 24\"\n",
              "       width=\"24px\">\n",
              "    <path d=\"M0 0h24v24H0V0z\" fill=\"none\"/>\n",
              "    <path d=\"M18.56 5.44l.94 2.06.94-2.06 2.06-.94-2.06-.94-.94-2.06-.94 2.06-2.06.94zm-11 1L8.5 8.5l.94-2.06 2.06-.94-2.06-.94L8.5 2.5l-.94 2.06-2.06.94zm10 10l.94 2.06.94-2.06 2.06-.94-2.06-.94-.94-2.06-.94 2.06-2.06.94z\"/><path d=\"M17.41 7.96l-1.37-1.37c-.4-.4-.92-.59-1.43-.59-.52 0-1.04.2-1.43.59L10.3 9.45l-7.72 7.72c-.78.78-.78 2.05 0 2.83L4 21.41c.39.39.9.59 1.41.59.51 0 1.02-.2 1.41-.59l7.78-7.78 2.81-2.81c.8-.78.8-2.07 0-2.86zM5.41 20L4 18.59l7.72-7.72 1.47 1.35L5.41 20z\"/>\n",
              "  </svg>\n",
              "      </button>\n",
              "      \n",
              "  <style>\n",
              "    .colab-df-container {\n",
              "      display:flex;\n",
              "      flex-wrap:wrap;\n",
              "      gap: 12px;\n",
              "    }\n",
              "\n",
              "    .colab-df-convert {\n",
              "      background-color: #E8F0FE;\n",
              "      border: none;\n",
              "      border-radius: 50%;\n",
              "      cursor: pointer;\n",
              "      display: none;\n",
              "      fill: #1967D2;\n",
              "      height: 32px;\n",
              "      padding: 0 0 0 0;\n",
              "      width: 32px;\n",
              "    }\n",
              "\n",
              "    .colab-df-convert:hover {\n",
              "      background-color: #E2EBFA;\n",
              "      box-shadow: 0px 1px 2px rgba(60, 64, 67, 0.3), 0px 1px 3px 1px rgba(60, 64, 67, 0.15);\n",
              "      fill: #174EA6;\n",
              "    }\n",
              "\n",
              "    [theme=dark] .colab-df-convert {\n",
              "      background-color: #3B4455;\n",
              "      fill: #D2E3FC;\n",
              "    }\n",
              "\n",
              "    [theme=dark] .colab-df-convert:hover {\n",
              "      background-color: #434B5C;\n",
              "      box-shadow: 0px 1px 3px 1px rgba(0, 0, 0, 0.15);\n",
              "      filter: drop-shadow(0px 1px 2px rgba(0, 0, 0, 0.3));\n",
              "      fill: #FFFFFF;\n",
              "    }\n",
              "  </style>\n",
              "\n",
              "      <script>\n",
              "        const buttonEl =\n",
              "          document.querySelector('#df-2816862d-e6fb-4424-b130-f9ded1f53aec button.colab-df-convert');\n",
              "        buttonEl.style.display =\n",
              "          google.colab.kernel.accessAllowed ? 'block' : 'none';\n",
              "\n",
              "        async function convertToInteractive(key) {\n",
              "          const element = document.querySelector('#df-2816862d-e6fb-4424-b130-f9ded1f53aec');\n",
              "          const dataTable =\n",
              "            await google.colab.kernel.invokeFunction('convertToInteractive',\n",
              "                                                     [key], {});\n",
              "          if (!dataTable) return;\n",
              "\n",
              "          const docLinkHtml = 'Like what you see? Visit the ' +\n",
              "            '<a target=\"_blank\" href=https://colab.research.google.com/notebooks/data_table.ipynb>data table notebook</a>'\n",
              "            + ' to learn more about interactive tables.';\n",
              "          element.innerHTML = '';\n",
              "          dataTable['output_type'] = 'display_data';\n",
              "          await google.colab.output.renderOutput(dataTable, element);\n",
              "          const docLink = document.createElement('div');\n",
              "          docLink.innerHTML = docLinkHtml;\n",
              "          element.appendChild(docLink);\n",
              "        }\n",
              "      </script>\n",
              "    </div>\n",
              "  </div>\n",
              "  "
            ]
          },
          "metadata": {},
          "execution_count": 12
        }
      ]
    },
    {
      "cell_type": "code",
      "source": [
        "print(data.columns)\n",
        "if envs['deviceID'] == 'FF548D29':\n",
        "    try:\n",
        "        data['INV.HZ'].plot()\n",
        "        data['INV.KW'].plot()\n",
        "    except:\n",
        "        data[' INV.HZ'].plot()\n",
        "        data[' INV.KW'].plot()\n",
        "    plt.legend()\n",
        "elif envs['deviceID'] == 'JNU_bearing':\n",
        "    data.plot()"
      ],
      "metadata": {
        "colab": {
          "base_uri": "https://localhost:8080/",
          "height": 295
        },
        "id": "51lwi5daL8FT",
        "outputId": "ea8a8829-a481-4a12-9d53-989f3b367125"
      },
      "execution_count": 13,
      "outputs": [
        {
          "output_type": "stream",
          "name": "stdout",
          "text": [
            "Index(['0.0034583'], dtype='object')\n"
          ]
        },
        {
          "output_type": "display_data",
          "data": {
            "text/plain": [
              "<Figure size 432x288 with 1 Axes>"
            ],
            "image/png": "[encoded data removed]"
          },
          "metadata": {
            "needs_background": "light"
          }
        }
      ]
    },
    {
      "cell_type": "code",
      "execution_count": 32,
      "metadata": {
        "id": "3zwFC-0ZBCpF"
      },
      "outputs": [],
      "source": [
        "if envs['deviceID'] == 'FF548D29':\n",
        "    feature24=['X_OAVelocity', 'Y_OAVelocity', 'Z_OAVelocity',\n",
        "                'X_Peakmg', 'Y_Peakmg', 'Z_Peakmg', \n",
        "                'X_RMSmg', 'Y_RMSmg', 'Z_RMSmg',\n",
        "                'X_Kurtosis', 'Y_Kurtosis', 'Z_Kurtosis', \n",
        "                'X_CrestFactor', 'Y_CrestFactor', 'Z_CrestFactor', \n",
        "                'X_Skewness', 'Y_Skewness','Z_Skewness',\n",
        "                'X_Deviation', 'Y_Deviation', 'Z_Deviation',\n",
        "                'X_Displacement', 'Y_Displacement', 'Z_Displacement']\n",
        "\n",
        "\n",
        "    # show NA rows in the dataframe\n",
        "    df_NA = data[data.isnull().values==True]   #显示存在缺失值的行列\n",
        "\n",
        "    data = data.dropna() #剔除缺失行\n",
        "    data = data.drop_duplicates() #剔除重复行\n",
        "\n",
        "    # delete outlier rows 剔除异常行\n",
        "    \n",
        "    for i in range(len(feature24)):\n",
        "        data = delete_outlier(data, feature24[i])\n",
        "\n",
        "# 備份初步清理過後的原始資料\n",
        "rawdata = data.copy()"
      ]
    },
    {
      "cell_type": "code",
      "source": [
        "def plot_data(_data):\n",
        "    data_columns = list(_data.columns)\n",
        "    for i in data_columns:\n",
        "        try:\n",
        "            fig, ax = plt.subplots()\n",
        "            plt.title(i)\n",
        "            _data[i].plot(ax=ax)\n",
        "            plt.show()\n",
        "        except:\n",
        "            print(i)\n",
        "\n",
        "# plot_data(rawdata[:][0])"
      ],
      "metadata": {
        "id": "kqbsj4CDmScG"
      },
      "execution_count": 15,
      "outputs": []
    },
    {
      "cell_type": "code",
      "source": [
        "# data[0:5000].plot()"
      ],
      "metadata": {
        "id": "Vphpa0VqZ7vS"
      },
      "execution_count": 16,
      "outputs": []
    },
    {
      "cell_type": "code",
      "source": [
        "rawdata.iloc[1]\n",
        "# rawdata['label']"
      ],
      "metadata": {
        "colab": {
          "base_uri": "https://localhost:8080/"
        },
        "id": "8A89n7HtlAt4",
        "outputId": "30cebfae-771b-4340-f269-c4d94eabc219"
      },
      "execution_count": 17,
      "outputs": [
        {
          "output_type": "execute_result",
          "data": {
            "text/plain": [
              "0.0034583   -0.032458\n",
              "Name: 1, dtype: float64"
            ]
          },
          "metadata": {},
          "execution_count": 17
        }
      ]
    },
    {
      "cell_type": "code",
      "execution_count": 33,
      "metadata": {
        "id": "1FZRdQC7BCpG"
      },
      "outputs": [],
      "source": [
        "if envs['deviceID'] == 'FF548D29':\n",
        "    data_24_no_abnormal = data.reindex(columns=feature24)\n",
        "    print('data_24_no_abnormal: ', data_24_no_abnormal.shape)\n",
        "elif envs['deviceID'] == 'JNU_bearing':\n",
        "    data_normal = data.copy()\n",
        "else:\n",
        "    data_normal = rawdata[rawdata['label']==0]\n",
        "    data_normal.drop('label', axis=1, inplace=True)\n",
        "    print('normal data: ', data_normal.shape)"
      ]
    },
    {
      "cell_type": "markdown",
      "metadata": {
        "id": "kGr6f1X5BCpG"
      },
      "source": [
        "# Normailize"
      ]
    },
    {
      "cell_type": "code",
      "execution_count": 34,
      "metadata": {
        "id": "8Yl5Qw5gBCpG"
      },
      "outputs": [],
      "source": [
        "if envs['deviceID'] == 'FF548D29':\n",
        "    Xy_drop = data_24_no_abnormal.copy()\n",
        "else:\n",
        "    Xy_drop = data_normal.copy()\n",
        "\n",
        "scaler = MinMaxScaler().fit(Xy_drop)\n",
        "norm_data = scaler.transform(Xy_drop)\n",
        "norm_data = pd.DataFrame(norm_data)"
      ]
    },
    {
      "cell_type": "code",
      "execution_count": 35,
      "metadata": {
        "id": "C0TWChfdm2-q",
        "colab": {
          "base_uri": "https://localhost:8080/"
        },
        "outputId": "15a36498-f950-4167-e6af-f421ebe27959"
      },
      "outputs": [
        {
          "output_type": "execute_result",
          "data": {
            "text/plain": [
              "['training_model/JNU_bearing_scaler.h5']"
            ]
          },
          "metadata": {},
          "execution_count": 35
        }
      ],
      "source": [
        "# Normailze scaler save to assigned folder path\n",
        "joblib.dump(scaler, pretrain_scaler_name)"
      ]
    },
    {
      "cell_type": "markdown",
      "metadata": {
        "id": "bkK4oUq4BCpH"
      },
      "source": [
        "# Make dataset"
      ]
    },
    {
      "cell_type": "code",
      "execution_count": 21,
      "metadata": {
        "colab": {
          "base_uri": "https://localhost:8080/"
        },
        "id": "FfxT5L-MCg-4",
        "outputId": "da166039-bf74-44b8-ee2a-bc7217d6cc28"
      },
      "outputs": [
        {
          "output_type": "stream",
          "name": "stdout",
          "text": [
            "t1 ok\n"
          ]
        }
      ],
      "source": [
        "pid=0\n",
        "# Normalize\n",
        "\n",
        "#P(Pretrain) M(Metatrain)\n",
        "P_M_data = int(norm_data.shape[0]*0.4)\n",
        "#F(Finetune) T(Test)\n",
        "F_T_data = int(norm_data.shape[0]*0.2)\n",
        "\n",
        "t1P = P_M_data\n",
        "t1M = t1P + P_M_data\n",
        "t1F = t1M + F_T_data\n",
        "# t1T = t1F + F_T_data\n",
        "# t2M = t1T + P_M_data\n",
        "# t2F = t2M + F_T_data\n",
        "# t2T = t2F + F_T_data\n",
        "# t3F = t2T + F_T_data\n",
        "# t3T = t3F + F_T_data\n",
        "\n",
        "######################### t1 data##############################################\n",
        "\n",
        "# Training data for pretrain stage\n",
        "norm_Xy_drop_df = norm_data.iloc[0:t1P]\n",
        "\n",
        "# 將資料分成Train與Test\n",
        "x_train, x_test = train_test_split(norm_Xy_drop_df, test_size=0.2, random_state=0)\n",
        "\n",
        "# save splited set\n",
        "if not os.path.exists('./norm_data/pretrain/%d'%(pid+1)):\n",
        "    os.makedirs('./norm_data/pretrain/%d'%(pid+1))\n",
        "x_train.to_csv('./norm_data/pretrain/%d/train.csv'%(pid+1), index=False)\n",
        "x_test.to_csv('./norm_data/pretrain/%d/test.csv'%(pid+1), index=False)\n",
        "\n",
        "\n",
        "# Training data for meta stage\n",
        "norm_Xy_drop_df = norm_data.iloc[t1P:t1M]\n",
        "\n",
        "# split train and test set\n",
        "x_train, x_test = train_test_split(norm_Xy_drop_df, test_size=0.2, random_state=0)\n",
        "\n",
        "# save splited set\n",
        "if not os.path.exists('./norm_data/meta/%d'%(pid+1)):\n",
        "    os.makedirs('./norm_data/meta/%d'%(pid+1))\n",
        "x_train.to_csv('./norm_data/meta/%d/train.csv'%(pid+1), index=False)\n",
        "x_test.to_csv('./norm_data/meta/%d/test.csv'%(pid+1), index=False)\n",
        "\n",
        "# Training data for ft stage\n",
        "norm_Xy_drop_df = norm_data.iloc[t1M:t1F] \n",
        "\n",
        "# split train and test set\n",
        "x_train, x_test = train_test_split(norm_Xy_drop_df, test_size=0.8, random_state=0)\n",
        "\n",
        "# save splited set\n",
        "if not os.path.exists('./norm_data/ft/%d'%(pid+1)):\n",
        "    os.makedirs('./norm_data/ft/%d'%(pid+1))\n",
        "x_train.to_csv('./norm_data/ft/%d/train.csv'%(pid+1), index=False)\n",
        "x_test.to_csv('./norm_data/ft/%d/test.csv'%(pid+1), index=False)\n",
        "\n",
        "\n",
        "# # Test data\n",
        "# x_test = norm_data.iloc[t1F:t1T]\n",
        "\n",
        "# # save splited set\n",
        "# if not os.path.exists('./norm_data/test/%d'%(pid+1)):\n",
        "#     os.makedirs('./norm_data/test/%d'%(pid+1))\n",
        "# x_test.to_csv('./norm_data/test/%d/test.csv'%(pid+1), index=False)\n",
        "\n",
        "print('t1 ok')"
      ]
    },
    {
      "cell_type": "code",
      "source": [
        "x_train"
      ],
      "metadata": {
        "colab": {
          "base_uri": "https://localhost:8080/",
          "height": 424
        },
        "id": "ztboixSrvzHQ",
        "outputId": "6336a5e7-4ff8-4095-c95c-5d061a74aff9"
      },
      "execution_count": 22,
      "outputs": [
        {
          "output_type": "execute_result",
          "data": {
            "text/plain": [
              "                0\n",
              "1277888  0.552899\n",
              "1300193  0.508703\n",
              "1205226  0.484142\n",
              "1482444  0.499334\n",
              "1478479  0.581454\n",
              "...           ...\n",
              "1412741  0.535743\n",
              "1287491  0.577292\n",
              "1323777  0.496439\n",
              "1353513  0.494359\n",
              "1319150  0.457468\n",
              "\n",
              "[60059 rows x 1 columns]"
            ],
            "text/html": [
              "\n",
              "  <div id=\"df-5e53484a-e6c4-4103-800b-91dadba10fb2\">\n",
              "    <div class=\"colab-df-container\">\n",
              "      <div>\n",
              "<style scoped>\n",
              "    .dataframe tbody tr th:only-of-type {\n",
              "        vertical-align: middle;\n",
              "    }\n",
              "\n",
              "    .dataframe tbody tr th {\n",
              "        vertical-align: top;\n",
              "    }\n",
              "\n",
              "    .dataframe thead th {\n",
              "        text-align: right;\n",
              "    }\n",
              "</style>\n",
              "<table border=\"1\" class=\"dataframe\">\n",
              "  <thead>\n",
              "    <tr style=\"text-align: right;\">\n",
              "      <th></th>\n",
              "      <th>0</th>\n",
              "    </tr>\n",
              "  </thead>\n",
              "  <tbody>\n",
              "    <tr>\n",
              "      <th>1277888</th>\n",
              "      <td>0.552899</td>\n",
              "    </tr>\n",
              "    <tr>\n",
              "      <th>1300193</th>\n",
              "      <td>0.508703</td>\n",
              "    </tr>\n",
              "    <tr>\n",
              "      <th>1205226</th>\n",
              "      <td>0.484142</td>\n",
              "    </tr>\n",
              "    <tr>\n",
              "      <th>1482444</th>\n",
              "      <td>0.499334</td>\n",
              "    </tr>\n",
              "    <tr>\n",
              "      <th>1478479</th>\n",
              "      <td>0.581454</td>\n",
              "    </tr>\n",
              "    <tr>\n",
              "      <th>...</th>\n",
              "      <td>...</td>\n",
              "    </tr>\n",
              "    <tr>\n",
              "      <th>1412741</th>\n",
              "      <td>0.535743</td>\n",
              "    </tr>\n",
              "    <tr>\n",
              "      <th>1287491</th>\n",
              "      <td>0.577292</td>\n",
              "    </tr>\n",
              "    <tr>\n",
              "      <th>1323777</th>\n",
              "      <td>0.496439</td>\n",
              "    </tr>\n",
              "    <tr>\n",
              "      <th>1353513</th>\n",
              "      <td>0.494359</td>\n",
              "    </tr>\n",
              "    <tr>\n",
              "      <th>1319150</th>\n",
              "      <td>0.457468</td>\n",
              "    </tr>\n",
              "  </tbody>\n",
              "</table>\n",
              "<p>60059 rows × 1 columns</p>\n",
              "</div>\n",
              "      <button class=\"colab-df-convert\" onclick=\"convertToInteractive('df-5e53484a-e6c4-4103-800b-91dadba10fb2')\"\n",
              "              title=\"Convert this dataframe to an interactive table.\"\n",
              "              style=\"display:none;\">\n",
              "        \n",
              "  <svg xmlns=\"http://www.w3.org/2000/svg\" height=\"24px\"viewBox=\"0 0 24 24\"\n",
              "       width=\"24px\">\n",
              "    <path d=\"M0 0h24v24H0V0z\" fill=\"none\"/>\n",
              "    <path d=\"M18.56 5.44l.94 2.06.94-2.06 2.06-.94-2.06-.94-.94-2.06-.94 2.06-2.06.94zm-11 1L8.5 8.5l.94-2.06 2.06-.94-2.06-.94L8.5 2.5l-.94 2.06-2.06.94zm10 10l.94 2.06.94-2.06 2.06-.94-2.06-.94-.94-2.06-.94 2.06-2.06.94z\"/><path d=\"M17.41 7.96l-1.37-1.37c-.4-.4-.92-.59-1.43-.59-.52 0-1.04.2-1.43.59L10.3 9.45l-7.72 7.72c-.78.78-.78 2.05 0 2.83L4 21.41c.39.39.9.59 1.41.59.51 0 1.02-.2 1.41-.59l7.78-7.78 2.81-2.81c.8-.78.8-2.07 0-2.86zM5.41 20L4 18.59l7.72-7.72 1.47 1.35L5.41 20z\"/>\n",
              "  </svg>\n",
              "      </button>\n",
              "      \n",
              "  <style>\n",
              "    .colab-df-container {\n",
              "      display:flex;\n",
              "      flex-wrap:wrap;\n",
              "      gap: 12px;\n",
              "    }\n",
              "\n",
              "    .colab-df-convert {\n",
              "      background-color: #E8F0FE;\n",
              "      border: none;\n",
              "      border-radius: 50%;\n",
              "      cursor: pointer;\n",
              "      display: none;\n",
              "      fill: #1967D2;\n",
              "      height: 32px;\n",
              "      padding: 0 0 0 0;\n",
              "      width: 32px;\n",
              "    }\n",
              "\n",
              "    .colab-df-convert:hover {\n",
              "      background-color: #E2EBFA;\n",
              "      box-shadow: 0px 1px 2px rgba(60, 64, 67, 0.3), 0px 1px 3px 1px rgba(60, 64, 67, 0.15);\n",
              "      fill: #174EA6;\n",
              "    }\n",
              "\n",
              "    [theme=dark] .colab-df-convert {\n",
              "      background-color: #3B4455;\n",
              "      fill: #D2E3FC;\n",
              "    }\n",
              "\n",
              "    [theme=dark] .colab-df-convert:hover {\n",
              "      background-color: #434B5C;\n",
              "      box-shadow: 0px 1px 3px 1px rgba(0, 0, 0, 0.15);\n",
              "      filter: drop-shadow(0px 1px 2px rgba(0, 0, 0, 0.3));\n",
              "      fill: #FFFFFF;\n",
              "    }\n",
              "  </style>\n",
              "\n",
              "      <script>\n",
              "        const buttonEl =\n",
              "          document.querySelector('#df-5e53484a-e6c4-4103-800b-91dadba10fb2 button.colab-df-convert');\n",
              "        buttonEl.style.display =\n",
              "          google.colab.kernel.accessAllowed ? 'block' : 'none';\n",
              "\n",
              "        async function convertToInteractive(key) {\n",
              "          const element = document.querySelector('#df-5e53484a-e6c4-4103-800b-91dadba10fb2');\n",
              "          const dataTable =\n",
              "            await google.colab.kernel.invokeFunction('convertToInteractive',\n",
              "                                                     [key], {});\n",
              "          if (!dataTable) return;\n",
              "\n",
              "          const docLinkHtml = 'Like what you see? Visit the ' +\n",
              "            '<a target=\"_blank\" href=https://colab.research.google.com/notebooks/data_table.ipynb>data table notebook</a>'\n",
              "            + ' to learn more about interactive tables.';\n",
              "          element.innerHTML = '';\n",
              "          dataTable['output_type'] = 'display_data';\n",
              "          await google.colab.output.renderOutput(dataTable, element);\n",
              "          const docLink = document.createElement('div');\n",
              "          docLink.innerHTML = docLinkHtml;\n",
              "          element.appendChild(docLink);\n",
              "        }\n",
              "      </script>\n",
              "    </div>\n",
              "  </div>\n",
              "  "
            ]
          },
          "metadata": {},
          "execution_count": 22
        }
      ]
    },
    {
      "cell_type": "markdown",
      "metadata": {
        "id": "uywvNbolm2-s"
      },
      "source": [
        "# Pretrain stage"
      ]
    },
    {
      "cell_type": "code",
      "execution_count": 23,
      "metadata": {
        "id": "vH_vbFh0m2-s"
      },
      "outputs": [],
      "source": [
        "pretrain_train_path = './norm_data/pretrain/1/train.csv'\n",
        "pretrain_val_path = './norm_data/pretrain/1/test.csv'\n",
        "x_train = pd.read_csv(pretrain_train_path, dtype=np.float32)\n",
        "x_test = pd.read_csv(pretrain_val_path, dtype=np.float32)"
      ]
    },
    {
      "cell_type": "code",
      "execution_count": 24,
      "metadata": {
        "id": "bK6RF8OQm2-s"
      },
      "outputs": [],
      "source": [
        "# nb_epoch_number = 300\n",
        "nb_epoch_number = 50"
      ]
    },
    {
      "cell_type": "code",
      "execution_count": 25,
      "metadata": {
        "id": "LSC7ifqAm2-s",
        "scrolled": true
      },
      "outputs": [],
      "source": [
        "nb_epoch = nb_epoch_number #50\n",
        "if envs['deviceID'] == 'FF548D29':\n",
        "    batch_size = 10\n",
        "elif envs['deviceID'] == 'JNU_bearing':\n",
        "    batch_size = 64\n",
        "else:\n",
        "    batch_size = 10\n",
        "input_dim = x_train.shape[1] #num of predictor variables,  (24)\n",
        "encoding_dim = 32\n",
        "hidden_dim = int(encoding_dim / 2)\n",
        "lr_regularizers = 1e-3\n",
        "\n",
        "input_layer = keras.layers.Input(shape=(input_dim, ))\n",
        "x = Dense(encoding_dim, activation=\"relu\", \n",
        "                       activity_regularizer=regularizers.l1(lr_regularizers), name=\"enc_layer1\")(input_layer)\n",
        "x = Dense(hidden_dim, activation=\"relu\", name=\"enc_layer2\")(x)\n",
        "x = Dense(int(hidden_dim/2), activation=\"relu\", name=\"enc_layer3\")(x)\n",
        "encoder_output = Dense(int(hidden_dim/4), activation=\"relu\", name=\"enc_layer4\")(x)\n",
        "\n",
        "encoder = keras.Model(input_layer, encoder_output, name=\"encoder\")\n",
        "\n",
        "decoder_input = keras.layers.Input(shape=(int(hidden_dim/4),))\n",
        "x = Dense(int(encoding_dim/4), activation=\"relu\", name=\"dec_layer1\")(decoder_input)\n",
        "x = Dense(int(encoding_dim/2), activation=\"relu\", name=\"dec_layer2\")(x)\n",
        "x = Dense(encoding_dim, activation=\"relu\", name=\"dec_layer3\")(x)\n",
        "decoder_output = Dense(input_dim, activation=\"linear\", name=\"dec_layer4\")(x)\n",
        "\n",
        "decoder = keras.Model(decoder_input, decoder_output, name=\"decoder\")\n",
        "\n",
        "autoencoder_input = keras.layers.Input(shape=(input_dim, ), name=\"input\")\n",
        "encoded_sig = encoder(autoencoder_input)\n",
        "decoded_sig = decoder(encoded_sig)\n",
        "autoencoder = keras.models.Model(autoencoder_input, decoded_sig, name=\"autoencoder\")"
      ]
    },
    {
      "cell_type": "code",
      "execution_count": 26,
      "metadata": {
        "colab": {
          "base_uri": "https://localhost:8080/",
          "height": 1000
        },
        "id": "eNfK70yvm2-t",
        "outputId": "a8720861-fb2d-4ca2-8c88-50cfd47c17a9"
      },
      "outputs": [
        {
          "output_type": "stream",
          "name": "stdout",
          "text": [
            "Model: \"autoencoder\"\n",
            "_________________________________________________________________\n",
            " Layer (type)                Output Shape              Param #   \n",
            "=================================================================\n",
            " input (InputLayer)          [(None, 1)]               0         \n",
            "                                                                 \n",
            " encoder (Functional)        (None, 4)                 764       \n",
            "                                                                 \n",
            " decoder (Functional)        (None, 1)                 761       \n",
            "                                                                 \n",
            "=================================================================\n",
            "Total params: 1,525\n",
            "Trainable params: 1,525\n",
            "Non-trainable params: 0\n",
            "_________________________________________________________________\n"
          ]
        },
        {
          "output_type": "execute_result",
          "data": {
            "text/plain": [
              "<IPython.core.display.Image object>"
            ],
            "image/png": "[encoded data removed]"
          },
          "metadata": {},
          "execution_count": 26
        }
      ],
      "source": [
        "autoencoder.summary()\n",
        "\n",
        "tf.keras.utils.plot_model(autoencoder, to_file='model_1.png', show_shapes=True,\n",
        "                        expand_nested=True,\n",
        "                        show_layer_activations=True,\n",
        "                        )"
      ]
    },
    {
      "cell_type": "code",
      "execution_count": 27,
      "metadata": {
        "id": "wcin2J-wm2-u"
      },
      "outputs": [],
      "source": [
        "learning_rate = 3e-4\n",
        "adam = tf.keras.optimizers.Adam(learning_rate=learning_rate)\n",
        "\n",
        "autoencoder.compile(loss='mean_squared_error', optimizer=adam)\n",
        "\n",
        "if envs['deviceID'] == 'FF548D29':\n",
        "    patience = 50\n",
        "elif envs['deviceID'] == 'JNU_bearing':\n",
        "    patience = 10\n",
        "else:\n",
        "    patience = 30\n",
        "es = keras.callbacks.EarlyStopping(monitor='val_loss', patience=patience, restore_best_weights=True)"
      ]
    },
    {
      "cell_type": "code",
      "execution_count": 28,
      "metadata": {
        "colab": {
          "base_uri": "https://localhost:8080/"
        },
        "id": "byxzRrNqm2-u",
        "outputId": "33e66c0e-c671-4bae-8b81-ceb380dc0436"
      },
      "outputs": [
        {
          "output_type": "stream",
          "name": "stdout",
          "text": [
            "Epoch 1/50\n",
            "7508/7508 [==============================] - 30s 4ms/step - loss: 0.0023 - val_loss: 4.8482e-05\n",
            "Epoch 2/50\n",
            "7508/7508 [==============================] - 25s 3ms/step - loss: 5.1715e-05 - val_loss: 4.1526e-05\n",
            "Epoch 3/50\n",
            "7508/7508 [==============================] - 25s 3ms/step - loss: 4.8247e-05 - val_loss: 4.0122e-05\n",
            "Epoch 4/50\n",
            "7508/7508 [==============================] - 27s 4ms/step - loss: 4.4797e-05 - val_loss: 3.8281e-05\n",
            "Epoch 5/50\n",
            "7508/7508 [==============================] - 25s 3ms/step - loss: 4.1498e-05 - val_loss: 3.8611e-05\n",
            "Epoch 6/50\n",
            "7508/7508 [==============================] - 25s 3ms/step - loss: 3.7979e-05 - val_loss: 3.0115e-05\n",
            "Epoch 7/50\n",
            "7508/7508 [==============================] - 27s 4ms/step - loss: 3.5265e-05 - val_loss: 2.8985e-05\n",
            "Epoch 8/50\n",
            "7508/7508 [==============================] - 25s 3ms/step - loss: 3.2763e-05 - val_loss: 3.1869e-05\n",
            "Epoch 9/50\n",
            "7508/7508 [==============================] - 25s 3ms/step - loss: 3.0451e-05 - val_loss: 2.6349e-05\n",
            "Epoch 10/50\n",
            "7508/7508 [==============================] - 27s 4ms/step - loss: 2.8021e-05 - val_loss: 2.3550e-05\n",
            "Epoch 11/50\n",
            "7508/7508 [==============================] - 39s 5ms/step - loss: 2.6496e-05 - val_loss: 2.0241e-05\n",
            "Epoch 12/50\n",
            "7508/7508 [==============================] - 25s 3ms/step - loss: 2.4897e-05 - val_loss: 1.8503e-05\n",
            "Epoch 13/50\n",
            "7508/7508 [==============================] - 27s 4ms/step - loss: 2.2854e-05 - val_loss: 1.7579e-05\n",
            "Epoch 14/50\n",
            "7508/7508 [==============================] - 26s 3ms/step - loss: 2.1396e-05 - val_loss: 2.2663e-05\n",
            "Epoch 15/50\n",
            "7508/7508 [==============================] - 25s 3ms/step - loss: 2.0080e-05 - val_loss: 1.4684e-05\n",
            "Epoch 16/50\n",
            "7508/7508 [==============================] - 25s 3ms/step - loss: 1.9068e-05 - val_loss: 1.7445e-05\n",
            "Epoch 17/50\n",
            "7508/7508 [==============================] - 27s 4ms/step - loss: 1.7928e-05 - val_loss: 1.3413e-05\n",
            "Epoch 18/50\n",
            "7508/7508 [==============================] - 27s 4ms/step - loss: 1.7260e-05 - val_loss: 1.2595e-05\n",
            "Epoch 19/50\n",
            "7508/7508 [==============================] - 25s 3ms/step - loss: 1.6699e-05 - val_loss: 1.1911e-05\n",
            "Epoch 20/50\n",
            "7508/7508 [==============================] - 27s 4ms/step - loss: 1.5732e-05 - val_loss: 1.1390e-05\n",
            "Epoch 21/50\n",
            "7508/7508 [==============================] - 27s 4ms/step - loss: 1.5276e-05 - val_loss: 1.0903e-05\n",
            "Epoch 22/50\n",
            "7508/7508 [==============================] - 27s 4ms/step - loss: 1.4830e-05 - val_loss: 1.0948e-05\n",
            "Epoch 23/50\n",
            "7508/7508 [==============================] - 27s 4ms/step - loss: 1.4081e-05 - val_loss: 9.7452e-06\n",
            "Epoch 24/50\n",
            "7508/7508 [==============================] - 25s 3ms/step - loss: 1.3835e-05 - val_loss: 9.4219e-06\n",
            "Epoch 25/50\n",
            "7508/7508 [==============================] - 27s 4ms/step - loss: 1.3183e-05 - val_loss: 8.9390e-06\n",
            "Epoch 26/50\n",
            "7508/7508 [==============================] - 25s 3ms/step - loss: 1.2947e-05 - val_loss: 8.5622e-06\n",
            "Epoch 27/50\n",
            "7508/7508 [==============================] - 25s 3ms/step - loss: 1.2846e-05 - val_loss: 8.3835e-06\n",
            "Epoch 28/50\n",
            "7508/7508 [==============================] - 27s 4ms/step - loss: 1.2817e-05 - val_loss: 8.8134e-06\n",
            "Epoch 29/50\n",
            "7508/7508 [==============================] - 27s 4ms/step - loss: 1.2253e-05 - val_loss: 8.1510e-06\n",
            "Epoch 30/50\n",
            "7508/7508 [==============================] - 25s 3ms/step - loss: 1.2714e-05 - val_loss: 8.0832e-06\n",
            "Epoch 31/50\n",
            "7508/7508 [==============================] - 25s 3ms/step - loss: 1.1734e-05 - val_loss: 8.0581e-06\n",
            "Epoch 32/50\n",
            "7508/7508 [==============================] - 25s 3ms/step - loss: 1.2032e-05 - val_loss: 7.5066e-06\n",
            "Epoch 33/50\n",
            "7508/7508 [==============================] - 25s 3ms/step - loss: 1.1997e-05 - val_loss: 1.3961e-05\n",
            "Epoch 34/50\n",
            "7508/7508 [==============================] - 25s 3ms/step - loss: 1.1711e-05 - val_loss: 7.6907e-06\n",
            "Epoch 35/50\n",
            "7508/7508 [==============================] - 25s 3ms/step - loss: 1.1622e-05 - val_loss: 8.2016e-06\n",
            "Epoch 36/50\n",
            "7508/7508 [==============================] - 25s 3ms/step - loss: 1.1727e-05 - val_loss: 7.3469e-06\n",
            "Epoch 37/50\n",
            "7508/7508 [==============================] - 27s 4ms/step - loss: 1.1552e-05 - val_loss: 1.1420e-05\n",
            "Epoch 38/50\n",
            "7508/7508 [==============================] - 25s 3ms/step - loss: 1.1552e-05 - val_loss: 8.3304e-06\n",
            "Epoch 39/50\n",
            "7508/7508 [==============================] - 25s 3ms/step - loss: 1.1500e-05 - val_loss: 7.2600e-06\n",
            "Epoch 40/50\n",
            "7508/7508 [==============================] - 27s 4ms/step - loss: 1.1421e-05 - val_loss: 5.1062e-05\n",
            "Epoch 41/50\n",
            "7508/7508 [==============================] - 25s 3ms/step - loss: 1.1156e-05 - val_loss: 6.8689e-06\n",
            "Epoch 42/50\n",
            "7508/7508 [==============================] - 27s 4ms/step - loss: 1.1098e-05 - val_loss: 7.2321e-06\n",
            "Epoch 43/50\n",
            "7508/7508 [==============================] - 27s 4ms/step - loss: 1.1621e-05 - val_loss: 6.8257e-06\n",
            "Epoch 44/50\n",
            "7508/7508 [==============================] - 27s 4ms/step - loss: 1.1254e-05 - val_loss: 1.4609e-05\n",
            "Epoch 45/50\n",
            "7508/7508 [==============================] - 25s 3ms/step - loss: 1.1211e-05 - val_loss: 6.8543e-06\n",
            "Epoch 46/50\n",
            "7508/7508 [==============================] - 25s 3ms/step - loss: 1.1114e-05 - val_loss: 6.7754e-06\n",
            "Epoch 47/50\n",
            "7508/7508 [==============================] - 25s 3ms/step - loss: 1.0923e-05 - val_loss: 7.4708e-06\n",
            "Epoch 48/50\n",
            "7508/7508 [==============================] - 27s 4ms/step - loss: 1.1254e-05 - val_loss: 7.1531e-06\n",
            "Epoch 49/50\n",
            "7508/7508 [==============================] - 27s 4ms/step - loss: 1.0993e-05 - val_loss: 7.1156e-06\n",
            "Epoch 50/50\n",
            "7508/7508 [==============================] - 27s 4ms/step - loss: 1.1002e-05 - val_loss: 7.1047e-06\n"
          ]
        }
      ],
      "source": [
        "# 因為AE要重建input，希望透過重建誤差來找到異常\n",
        "AE_history = autoencoder.fit( x_train.to_numpy(), #input y=0的資料\n",
        "                              x_train.to_numpy(), #與decoder比對 y=0的資料\n",
        "                              epochs=nb_epoch,\n",
        "                              batch_size=batch_size,\n",
        "                              shuffle=True,\n",
        "                              validation_data=(x_test.to_numpy(), x_test.to_numpy()),\n",
        "                              verbose=1,\n",
        "                              callbacks=[es]).history"
      ]
    },
    {
      "cell_type": "code",
      "source": [
        "plt.plot(AE_history[\"loss\"], label=\"Training Loss\")\n",
        "plt.plot(AE_history[\"val_loss\"], label=\"Validation Loss\")\n",
        "plt.legend()\n",
        "plt.show()"
      ],
      "metadata": {
        "colab": {
          "base_uri": "https://localhost:8080/",
          "height": 265
        },
        "id": "PObQ3CWZyE6j",
        "outputId": "90e8cc9f-1ab3-4554-ebed-a061c55c49fb"
      },
      "execution_count": 29,
      "outputs": [
        {
          "output_type": "display_data",
          "data": {
            "text/plain": [
              "<Figure size 432x288 with 1 Axes>"
            ],
            "image/png": "[encoded data removed]"
          },
          "metadata": {
            "needs_background": "light"
          }
        }
      ]
    },
    {
      "cell_type": "code",
      "execution_count": 30,
      "metadata": {
        "colab": {
          "base_uri": "https://localhost:8080/"
        },
        "id": "4lzbWgJ6m2-u",
        "outputId": "c67bc1a8-9d5f-4710-b041-a3f7c9e1b27d"
      },
      "outputs": [
        {
          "output_type": "stream",
          "name": "stdout",
          "text": [
            "WARNING:tensorflow:Compiled the loaded model, but the compiled metrics have yet to be built. `model.compile_metrics` will be empty until you train or evaluate the model.\n",
            "WARNING:tensorflow:Compiled the loaded model, but the compiled metrics have yet to be built. `model.compile_metrics` will be empty until you train or evaluate the model.\n"
          ]
        }
      ],
      "source": [
        "encoder.save(pretrain_encoder_model) #save encoder weights\n",
        "decoder.save(pretrain_decoder_model) #save decoder weights"
      ]
    },
    {
      "cell_type": "code",
      "execution_count": 31,
      "metadata": {
        "id": "3Bu4BOy4m2-v"
      },
      "outputs": [],
      "source": [
        "# RMSE受異常值的影響更大\n",
        "def RMSE_cal(model,x,y):\n",
        "    ypred = model.predict(x)\n",
        "    MSE = mean_squared_error(y, ypred)\n",
        "    RMSE = np.sqrt(MSE)\n",
        "    return RMSE"
      ]
    },
    {
      "cell_type": "code",
      "execution_count": 32,
      "metadata": {
        "colab": {
          "base_uri": "https://localhost:8080/"
        },
        "id": "QmDsN9Orm2-v",
        "outputId": "bf4efee0-74d7-49d5-f202-e0289b417ccf"
      },
      "outputs": [
        {
          "output_type": "stream",
          "name": "stdout",
          "text": [
            "trainRMSE:  0.0009512551\n",
            "testRMSE:  0.0007044557\n"
          ]
        }
      ],
      "source": [
        "trainRMSE = RMSE_cal(autoencoder,x_train.to_numpy(), x_train.to_numpy())\n",
        "print('trainRMSE: ', trainRMSE)\n",
        "\n",
        "testRMSE = RMSE_cal(autoencoder,x_test.to_numpy(), x_test.to_numpy())\n",
        "print('testRMSE: ', testRMSE)"
      ]
    },
    {
      "cell_type": "markdown",
      "metadata": {
        "id": "oQ-fZMaSm2-w"
      },
      "source": [
        "# Meta-learning Stage"
      ]
    },
    {
      "cell_type": "code",
      "execution_count": 33,
      "metadata": {
        "id": "sbbWg-uFBCpK"
      },
      "outputs": [],
      "source": [
        "meta_train_path = './norm_data/meta/1/train.csv'\n",
        "meta_val_path = './norm_data/meta/1/test.csv'\n",
        "x_train = pd.read_csv(pretrain_train_path, dtype=np.float32)\n",
        "x_test = pd.read_csv(pretrain_val_path, dtype=np.float32)\n",
        "\n",
        "x_train_list = [x_train, pd.read_csv(meta_train_path, dtype=np.float32)]\n",
        "x_test_list = [x_test, pd.read_csv(meta_val_path, dtype=np.float32)]\n",
        "\n",
        "num_file = 1\n",
        "# for i in range(num_file):\n",
        "#     meta_train_path = './norm_data/meta/%d/train.csv'%(i+1)\n",
        "#     meta_val_path = './norm_data/meta/%d/test.csv'%(i+1)\n",
        "#     x_train_list.append(pd.read_csv(meta_train_path, dtype=np.float32))\n",
        "#     x_test_list.append(pd.read_csv(meta_val_path, dtype=np.float32))"
      ]
    },
    {
      "cell_type": "code",
      "execution_count": 34,
      "metadata": {
        "id": "La4ag9BCm2-w"
      },
      "outputs": [],
      "source": [
        "nb_epoch = nb_epoch_number\n",
        "if envs['deviceID'] == 'FF548D29':\n",
        "    batch_size = 10\n",
        "elif envs['deviceID'] == 'JNU_bearing':\n",
        "    batch_size = 64\n",
        "else:\n",
        "    batch_size = 10\n",
        "input_dim = x_train_list[0].shape[1] #num of predictor variables, \n",
        "encoding_dim = 32\n",
        "hidden_dim = int(encoding_dim / 2)\n",
        "lr_regularizers = 1e-3"
      ]
    },
    {
      "cell_type": "code",
      "execution_count": 35,
      "metadata": {
        "id": "y5Ef-_nam2-x"
      },
      "outputs": [],
      "source": [
        "train_dataset = tf.data.Dataset.from_tensor_slices(tuple([data.to_numpy() for data in x_train_list])).shuffle(len(x_train_list[0])).batch(batch_size)\n",
        "val_dataset = tf.data.Dataset.from_tensor_slices(tuple([data.to_numpy() for data in x_test_list])).batch(1)"
      ]
    },
    {
      "cell_type": "code",
      "execution_count": 36,
      "metadata": {
        "colab": {
          "base_uri": "https://localhost:8080/"
        },
        "id": "t1Frp4p0m2-x",
        "outputId": "114c65fe-10c7-4dc0-9776-6d05d1c11a80"
      },
      "outputs": [
        {
          "output_type": "stream",
          "name": "stdout",
          "text": [
            "Model: \"encoder\"\n",
            "_________________________________________________________________\n",
            " Layer (type)                Output Shape              Param #   \n",
            "=================================================================\n",
            " input_3 (InputLayer)        [(None, 1)]               0         \n",
            "                                                                 \n",
            " enc_layer1 (Dense)          (None, 32)                64        \n",
            "                                                                 \n",
            " enc_layer2 (Dense)          (None, 16)                528       \n",
            "                                                                 \n",
            " enc_layer3 (Dense)          (None, 8)                 136       \n",
            "                                                                 \n",
            " enc_layer4 (Dense)          (None, 4)                 36        \n",
            "                                                                 \n",
            "=================================================================\n",
            "Total params: 764\n",
            "Trainable params: 764\n",
            "Non-trainable params: 0\n",
            "_________________________________________________________________\n",
            "Model: \"decoder\"\n",
            "_________________________________________________________________\n",
            " Layer (type)                Output Shape              Param #   \n",
            "=================================================================\n",
            " input_4 (InputLayer)        [(None, 4)]               0         \n",
            "                                                                 \n",
            " dec_layer1 (Dense)          (None, 8)                 40        \n",
            "                                                                 \n",
            " dec_layer2 (Dense)          (None, 16)                144       \n",
            "                                                                 \n",
            " dec_layer3 (Dense)          (None, 32)                544       \n",
            "                                                                 \n",
            " dec_layer4 (Dense)          (None, 1)                 33        \n",
            "                                                                 \n",
            "=================================================================\n",
            "Total params: 761\n",
            "Trainable params: 761\n",
            "Non-trainable params: 0\n",
            "_________________________________________________________________\n"
          ]
        }
      ],
      "source": [
        "input_layer = keras.layers.Input(shape=(input_dim, ))\n",
        "x = Dense(encoding_dim, activation=\"relu\", \n",
        "                activity_regularizer=regularizers.l1(lr_regularizers), name=\"enc_layer1\")(input_layer)\n",
        "x = Dense(hidden_dim, activation=\"relu\", name=\"enc_layer2\")(x)\n",
        "x = Dense(int(hidden_dim/2), activation=\"relu\", name=\"enc_layer3\")(x)\n",
        "encoder_output = Dense(int(hidden_dim/4), activation=\"relu\", name=\"enc_layer4\")(x)\n",
        "\n",
        "encoder = keras.Model(input_layer, encoder_output, name=\"encoder\")\n",
        "\n",
        "decoder_input = keras.layers.Input(shape=(int(hidden_dim/4),))\n",
        "x = Dense(int(encoding_dim/4), activation=\"relu\", name=\"dec_layer1\")(decoder_input)\n",
        "x = Dense(int(encoding_dim/2), activation=\"relu\", name=\"dec_layer2\")(x)\n",
        "x = Dense(encoding_dim, activation=\"relu\", name=\"dec_layer3\")(x)\n",
        "decoder_output = Dense(input_dim, activation=\"linear\", name=\"dec_layer4\")(x)\n",
        "\n",
        "decoder = keras.Model(decoder_input, decoder_output, name=\"decoder\")\n",
        "\n",
        "encoder.compile() # 避免報錯(warning)\n",
        "decoder.compile()\n",
        "encoder.summary()\n",
        "decoder.summary()"
      ]
    },
    {
      "cell_type": "code",
      "execution_count": 37,
      "metadata": {
        "id": "-ijlmSQAm2-x"
      },
      "outputs": [],
      "source": [
        "encoder.load_weights(pretrain_encoder_model, by_name=True)\n",
        "decoder_list = []\n",
        "for i in range(2):\n",
        "    decoder_list.append(keras.models.clone_model(decoder))\n",
        "    decoder_list[-1].load_weights(pretrain_decoder_model, by_name=True)"
      ]
    },
    {
      "cell_type": "code",
      "execution_count": 38,
      "metadata": {
        "id": "kCECsWc7m2-x"
      },
      "outputs": [],
      "source": [
        "learning_rate = 1e-5\n",
        "adam = tf.keras.optimizers.Adam(learning_rate=learning_rate)\n",
        "\n",
        "# loss_fn = tf.keras.losses.MeanSquaredError()\n",
        "loss_fn = keras.losses.MeanSquaredError()"
      ]
    },
    {
      "cell_type": "code",
      "execution_count": 39,
      "metadata": {
        "colab": {
          "base_uri": "https://localhost:8080/",
          "height": 572
        },
        "id": "puaRBJC8m2-y",
        "outputId": "a13497e7-1cf9-4031-fbb9-4aee8a5c3f26"
      },
      "outputs": [
        {
          "output_type": "stream",
          "name": "stdout",
          "text": [
            "\n",
            "Epoch: 1\tval_loss: 0.000001\tSave best model at ep 1\n",
            "Epoch: 2\tval_loss: 0.000000\tSave best model at ep 2\n",
            "Epoch: 3\tval_loss: 0.000001\t\n",
            "Epoch: 4\tval_loss: 0.000001\t\n",
            "Epoch: 5\tval_loss: 0.000001\t\n",
            "Epoch: 6\tval_loss: 0.000000\tSave best model at ep 6\n",
            "Epoch: 7\tval_loss: 0.000000\tSave best model at ep 7\n",
            "Epoch: 8\tval_loss: 0.000000\tSave best model at ep 8\n",
            "Epoch: 9\tval_loss: 0.000000\tSave best model at ep 9\n",
            "Epoch: 10\tval_loss: 0.000000\t"
          ]
        },
        {
          "output_type": "error",
          "ename": "KeyboardInterrupt",
          "evalue": "ignored",
          "traceback": [
            "\u001b[0;31m---------------------------------------------------------------------------\u001b[0m",
            "\u001b[0;31mKeyboardInterrupt\u001b[0m                         Traceback (most recent call last)",
            "\u001b[0;32m<ipython-input-39-0dd1b97d6653>\u001b[0m in \u001b[0;36m<module>\u001b[0;34m()\u001b[0m\n\u001b[1;32m     14\u001b[0m \u001b[0;34m\u001b[0m\u001b[0m\n\u001b[1;32m     15\u001b[0m             \u001b[0mgradients\u001b[0m \u001b[0;34m=\u001b[0m \u001b[0mtape\u001b[0m\u001b[0;34m.\u001b[0m\u001b[0mgradient\u001b[0m\u001b[0;34m(\u001b[0m\u001b[0mloss\u001b[0m\u001b[0;34m,\u001b[0m \u001b[0mdecoder_list\u001b[0m\u001b[0;34m[\u001b[0m\u001b[0mi\u001b[0m\u001b[0;34m]\u001b[0m\u001b[0;34m.\u001b[0m\u001b[0mtrainable_weights\u001b[0m\u001b[0;34m)\u001b[0m\u001b[0;34m\u001b[0m\u001b[0;34m\u001b[0m\u001b[0m\n\u001b[0;32m---> 16\u001b[0;31m             \u001b[0madam\u001b[0m\u001b[0;34m.\u001b[0m\u001b[0mapply_gradients\u001b[0m\u001b[0;34m(\u001b[0m\u001b[0mzip\u001b[0m\u001b[0;34m(\u001b[0m\u001b[0mgradients\u001b[0m\u001b[0;34m,\u001b[0m \u001b[0mdecoder_list\u001b[0m\u001b[0;34m[\u001b[0m\u001b[0mi\u001b[0m\u001b[0;34m]\u001b[0m\u001b[0;34m.\u001b[0m\u001b[0mtrainable_weights\u001b[0m\u001b[0;34m)\u001b[0m\u001b[0;34m)\u001b[0m\u001b[0;34m\u001b[0m\u001b[0;34m\u001b[0m\u001b[0m\n\u001b[0m\u001b[1;32m     17\u001b[0m \u001b[0;34m\u001b[0m\u001b[0m\n\u001b[1;32m     18\u001b[0m         \u001b[0;31m#Phase 2: Fix dec, train meta encoder\u001b[0m\u001b[0;34m\u001b[0m\u001b[0;34m\u001b[0m\u001b[0;34m\u001b[0m\u001b[0m\n",
            "\u001b[0;32m/usr/local/lib/python3.7/dist-packages/keras/optimizer_v2/optimizer_v2.py\u001b[0m in \u001b[0;36mapply_gradients\u001b[0;34m(self, grads_and_vars, name, experimental_aggregate_gradients)\u001b[0m\n\u001b[1;32m    673\u001b[0m           \u001b[0mstrategy\u001b[0m\u001b[0;34m,\u001b[0m\u001b[0;34m\u001b[0m\u001b[0;34m\u001b[0m\u001b[0m\n\u001b[1;32m    674\u001b[0m           \u001b[0mgrads_and_vars\u001b[0m\u001b[0;34m,\u001b[0m\u001b[0;34m\u001b[0m\u001b[0;34m\u001b[0m\u001b[0m\n\u001b[0;32m--> 675\u001b[0;31m           name=name)\n\u001b[0m\u001b[1;32m    676\u001b[0m \u001b[0;34m\u001b[0m\u001b[0m\n\u001b[1;32m    677\u001b[0m   \u001b[0;32mdef\u001b[0m \u001b[0m_distributed_apply\u001b[0m\u001b[0;34m(\u001b[0m\u001b[0mself\u001b[0m\u001b[0;34m,\u001b[0m \u001b[0mdistribution\u001b[0m\u001b[0;34m,\u001b[0m \u001b[0mgrads_and_vars\u001b[0m\u001b[0;34m,\u001b[0m \u001b[0mapply_state\u001b[0m\u001b[0;34m,\u001b[0m \u001b[0mname\u001b[0m\u001b[0;34m)\u001b[0m\u001b[0;34m:\u001b[0m\u001b[0;34m\u001b[0m\u001b[0;34m\u001b[0m\u001b[0m\n",
            "\u001b[0;32m/usr/local/lib/python3.7/dist-packages/tensorflow/python/distribute/merge_call_interim.py\u001b[0m in \u001b[0;36mmaybe_merge_call\u001b[0;34m(fn, strategy, *args, **kwargs)\u001b[0m\n\u001b[1;32m     49\u001b[0m   \"\"\"\n\u001b[1;32m     50\u001b[0m   \u001b[0;32mif\u001b[0m \u001b[0mstrategy_supports_no_merge_call\u001b[0m\u001b[0;34m(\u001b[0m\u001b[0;34m)\u001b[0m\u001b[0;34m:\u001b[0m\u001b[0;34m\u001b[0m\u001b[0;34m\u001b[0m\u001b[0m\n\u001b[0;32m---> 51\u001b[0;31m     \u001b[0;32mreturn\u001b[0m \u001b[0mfn\u001b[0m\u001b[0;34m(\u001b[0m\u001b[0mstrategy\u001b[0m\u001b[0;34m,\u001b[0m \u001b[0;34m*\u001b[0m\u001b[0margs\u001b[0m\u001b[0;34m,\u001b[0m \u001b[0;34m**\u001b[0m\u001b[0mkwargs\u001b[0m\u001b[0;34m)\u001b[0m\u001b[0;34m\u001b[0m\u001b[0;34m\u001b[0m\u001b[0m\n\u001b[0m\u001b[1;32m     52\u001b[0m   \u001b[0;32melse\u001b[0m\u001b[0;34m:\u001b[0m\u001b[0;34m\u001b[0m\u001b[0;34m\u001b[0m\u001b[0m\n\u001b[1;32m     53\u001b[0m     return distribution_strategy_context.get_replica_context().merge_call(\n",
            "\u001b[0;32m/usr/local/lib/python3.7/dist-packages/keras/optimizer_v2/optimizer_v2.py\u001b[0m in \u001b[0;36m_distributed_apply\u001b[0;34m(self, distribution, grads_and_vars, apply_state, name)\u001b[0m\n\u001b[1;32m    710\u001b[0m         \u001b[0;31m# Colocate the update with variables to avoid unnecessary communication\u001b[0m\u001b[0;34m\u001b[0m\u001b[0;34m\u001b[0m\u001b[0;34m\u001b[0m\u001b[0m\n\u001b[1;32m    711\u001b[0m         \u001b[0;31m# delays. See b/136304694.\u001b[0m\u001b[0;34m\u001b[0m\u001b[0;34m\u001b[0m\u001b[0;34m\u001b[0m\u001b[0m\n\u001b[0;32m--> 712\u001b[0;31m         \u001b[0;32mwith\u001b[0m \u001b[0mdistribution\u001b[0m\u001b[0;34m.\u001b[0m\u001b[0mextended\u001b[0m\u001b[0;34m.\u001b[0m\u001b[0mcolocate_vars_with\u001b[0m\u001b[0;34m(\u001b[0m\u001b[0mvar\u001b[0m\u001b[0;34m)\u001b[0m\u001b[0;34m:\u001b[0m\u001b[0;34m\u001b[0m\u001b[0;34m\u001b[0m\u001b[0m\n\u001b[0m\u001b[1;32m    713\u001b[0m           with name_scope_only_in_function_or_graph(\n\u001b[1;32m    714\u001b[0m               \u001b[0;34m\"update\"\u001b[0m \u001b[0;32mif\u001b[0m \u001b[0meagerly_outside_functions\u001b[0m \u001b[0;32melse\u001b[0m \u001b[0;34m\"update_\"\u001b[0m \u001b[0;34m+\u001b[0m\u001b[0;34m\u001b[0m\u001b[0;34m\u001b[0m\u001b[0m\n",
            "\u001b[0;32m/usr/local/lib/python3.7/dist-packages/tensorflow/python/distribute/distribute_lib.py\u001b[0m in \u001b[0;36mcolocate_vars_with\u001b[0;34m(self, colocate_with_variable)\u001b[0m\n\u001b[1;32m   3643\u001b[0m   \u001b[0;32mdef\u001b[0m \u001b[0mcolocate_vars_with\u001b[0m\u001b[0;34m(\u001b[0m\u001b[0mself\u001b[0m\u001b[0;34m,\u001b[0m \u001b[0mcolocate_with_variable\u001b[0m\u001b[0;34m)\u001b[0m\u001b[0;34m:\u001b[0m\u001b[0;34m\u001b[0m\u001b[0;34m\u001b[0m\u001b[0m\n\u001b[1;32m   3644\u001b[0m     \u001b[0;34m\"\"\"Does not require `self.scope`.\"\"\"\u001b[0m\u001b[0;34m\u001b[0m\u001b[0;34m\u001b[0m\u001b[0m\n\u001b[0;32m-> 3645\u001b[0;31m     \u001b[0m_require_strategy_scope_extended\u001b[0m\u001b[0;34m(\u001b[0m\u001b[0mself\u001b[0m\u001b[0;34m)\u001b[0m\u001b[0;34m\u001b[0m\u001b[0;34m\u001b[0m\u001b[0m\n\u001b[0m\u001b[1;32m   3646\u001b[0m     \u001b[0;32mreturn\u001b[0m \u001b[0mops\u001b[0m\u001b[0;34m.\u001b[0m\u001b[0mcolocate_with\u001b[0m\u001b[0;34m(\u001b[0m\u001b[0mcolocate_with_variable\u001b[0m\u001b[0;34m)\u001b[0m\u001b[0;34m\u001b[0m\u001b[0;34m\u001b[0m\u001b[0m\n\u001b[1;32m   3647\u001b[0m \u001b[0;34m\u001b[0m\u001b[0m\n",
            "\u001b[0;32m/usr/local/lib/python3.7/dist-packages/tensorflow/python/distribute/distribute_lib.py\u001b[0m in \u001b[0;36m_require_strategy_scope_extended\u001b[0;34m(extended)\u001b[0m\n\u001b[1;32m    349\u001b[0m \u001b[0;32mdef\u001b[0m \u001b[0m_require_strategy_scope_extended\u001b[0m\u001b[0;34m(\u001b[0m\u001b[0mextended\u001b[0m\u001b[0;34m)\u001b[0m\u001b[0;34m:\u001b[0m\u001b[0;34m\u001b[0m\u001b[0;34m\u001b[0m\u001b[0m\n\u001b[1;32m    350\u001b[0m   \u001b[0;34m\"\"\"Verify in a `distribution_strategy.scope()` in this thread.\"\"\"\u001b[0m\u001b[0;34m\u001b[0m\u001b[0;34m\u001b[0m\u001b[0m\n\u001b[0;32m--> 351\u001b[0;31m   \u001b[0mcontext\u001b[0m \u001b[0;34m=\u001b[0m \u001b[0m_get_per_thread_mode\u001b[0m\u001b[0;34m(\u001b[0m\u001b[0;34m)\u001b[0m\u001b[0;34m\u001b[0m\u001b[0;34m\u001b[0m\u001b[0m\n\u001b[0m\u001b[1;32m    352\u001b[0m   \u001b[0;32mif\u001b[0m \u001b[0mcontext\u001b[0m\u001b[0;34m.\u001b[0m\u001b[0mstrategy\u001b[0m\u001b[0;34m.\u001b[0m\u001b[0mextended\u001b[0m \u001b[0;32mis\u001b[0m \u001b[0mextended\u001b[0m\u001b[0;34m:\u001b[0m \u001b[0;32mreturn\u001b[0m\u001b[0;34m\u001b[0m\u001b[0;34m\u001b[0m\u001b[0m\n\u001b[1;32m    353\u001b[0m   \u001b[0;31m# Report error.\u001b[0m\u001b[0;34m\u001b[0m\u001b[0;34m\u001b[0m\u001b[0;34m\u001b[0m\u001b[0m\n",
            "\u001b[0;32m/usr/local/lib/python3.7/dist-packages/tensorflow/python/distribute/distribution_strategy_context.py\u001b[0m in \u001b[0;36m_get_per_thread_mode\u001b[0;34m()\u001b[0m\n\u001b[1;32m     76\u001b[0m \u001b[0;32mdef\u001b[0m \u001b[0m_get_per_thread_mode\u001b[0m\u001b[0;34m(\u001b[0m\u001b[0;34m)\u001b[0m\u001b[0;34m:\u001b[0m\u001b[0;34m\u001b[0m\u001b[0;34m\u001b[0m\u001b[0m\n\u001b[1;32m     77\u001b[0m   \u001b[0;32mtry\u001b[0m\u001b[0;34m:\u001b[0m\u001b[0;34m\u001b[0m\u001b[0;34m\u001b[0m\u001b[0m\n\u001b[0;32m---> 78\u001b[0;31m     \u001b[0;32mreturn\u001b[0m \u001b[0mops\u001b[0m\u001b[0;34m.\u001b[0m\u001b[0mget_default_graph\u001b[0m\u001b[0;34m(\u001b[0m\u001b[0;34m)\u001b[0m\u001b[0;34m.\u001b[0m\u001b[0m_distribution_strategy_stack\u001b[0m\u001b[0;34m[\u001b[0m\u001b[0;34m-\u001b[0m\u001b[0;36m1\u001b[0m\u001b[0;34m]\u001b[0m  \u001b[0;31m# pylint: disable=protected-access\u001b[0m\u001b[0;34m\u001b[0m\u001b[0;34m\u001b[0m\u001b[0m\n\u001b[0m\u001b[1;32m     79\u001b[0m   \u001b[0;32mexcept\u001b[0m \u001b[0;34m(\u001b[0m\u001b[0mAttributeError\u001b[0m\u001b[0;34m,\u001b[0m \u001b[0mIndexError\u001b[0m\u001b[0;34m)\u001b[0m\u001b[0;34m:\u001b[0m\u001b[0;34m\u001b[0m\u001b[0;34m\u001b[0m\u001b[0m\n\u001b[1;32m     80\u001b[0m     \u001b[0;32mreturn\u001b[0m \u001b[0m_get_default_replica_mode\u001b[0m\u001b[0;34m(\u001b[0m\u001b[0;34m)\u001b[0m\u001b[0;34m\u001b[0m\u001b[0;34m\u001b[0m\u001b[0m\n",
            "\u001b[0;32m/usr/local/lib/python3.7/dist-packages/tensorflow/python/framework/ops.py\u001b[0m in \u001b[0;36m_distribution_strategy_stack\u001b[0;34m(self)\u001b[0m\n\u001b[1;32m   5416\u001b[0m       \u001b[0mself\u001b[0m\u001b[0;34m.\u001b[0m\u001b[0m_graph_control_dependencies_stack\u001b[0m \u001b[0;34m=\u001b[0m \u001b[0mcontrol_dependencies\u001b[0m\u001b[0;34m\u001b[0m\u001b[0;34m\u001b[0m\u001b[0m\n\u001b[1;32m   5417\u001b[0m \u001b[0;34m\u001b[0m\u001b[0m\n\u001b[0;32m-> 5418\u001b[0;31m   \u001b[0;34m@\u001b[0m\u001b[0mproperty\u001b[0m\u001b[0;34m\u001b[0m\u001b[0;34m\u001b[0m\u001b[0m\n\u001b[0m\u001b[1;32m   5419\u001b[0m   \u001b[0;32mdef\u001b[0m \u001b[0m_distribution_strategy_stack\u001b[0m\u001b[0;34m(\u001b[0m\u001b[0mself\u001b[0m\u001b[0;34m)\u001b[0m\u001b[0;34m:\u001b[0m\u001b[0;34m\u001b[0m\u001b[0;34m\u001b[0m\u001b[0m\n\u001b[1;32m   5420\u001b[0m     \u001b[0;34m\"\"\"A stack to maintain distribution strategy context for each thread.\"\"\"\u001b[0m\u001b[0;34m\u001b[0m\u001b[0;34m\u001b[0m\u001b[0m\n",
            "\u001b[0;31mKeyboardInterrupt\u001b[0m: "
          ]
        }
      ],
      "source": [
        "best_val_loss = 999\n",
        "\n",
        "for ep in range(nb_epoch):\n",
        "    for bid, x in enumerate(train_dataset):\n",
        "        #Phase 1: Fix enc, train different dec with only one batch\n",
        "        if bid == 0:\n",
        "            x_dec = x\n",
        "\n",
        "        for i in range(num_file):\n",
        "            with tf.GradientTape() as tape:\n",
        "                hidden = encoder(x_dec[i])\n",
        "                recon = decoder_list[i](hidden)\n",
        "                loss = loss_fn(x_dec[i], recon)\n",
        "\n",
        "            gradients = tape.gradient(loss, decoder_list[i].trainable_weights)\n",
        "            adam.apply_gradients(zip(gradients, decoder_list[i].trainable_weights))\n",
        "\n",
        "        #Phase 2: Fix dec, train meta encoder\n",
        "        if bid != 0:\n",
        "            for i in range(2):\n",
        "                with tf.GradientTape() as tape:\n",
        "                    hidden = encoder(x[i])\n",
        "                    recon = decoder_list[i](hidden)\n",
        "                    loss = loss_fn(x[i], recon)\n",
        "\n",
        "                gradients = tape.gradient(loss, encoder.trainable_weights)\n",
        "                adam.apply_gradients(zip(gradients, encoder.trainable_weights))\n",
        "\n",
        "\n",
        "    val_loss = []\n",
        "    for bid, x in enumerate(val_dataset):\n",
        "        for i in range(num_file):   \n",
        "            hidden = encoder(x[i])\n",
        "            recon = decoder_list[i](hidden)\n",
        "            loss = loss_fn(x[i], recon)\n",
        "            val_loss.append(loss.numpy())\n",
        "            \n",
        "    print(\"\\nEpoch: %d\\tval_loss: %f\"%(ep+1, np.mean(val_loss)), end='\\t')\n",
        "    \n",
        "    if np.mean(val_loss) < best_val_loss:           # 跌代出最好的loss\n",
        "        encoder.save(metatrain_encoder_model)\n",
        "        best_val_loss = np.mean(val_loss)\n",
        "        print(\"Save best model at ep %d\"%(ep+1), end='')"
      ]
    },
    {
      "cell_type": "markdown",
      "metadata": {
        "id": "as5hABY6m2-1"
      },
      "source": [
        "# Fine-tuning Stage (Meta)"
      ]
    },
    {
      "cell_type": "code",
      "execution_count": 8,
      "metadata": {
        "id": "jQ4w1MPxm2-1"
      },
      "outputs": [],
      "source": [
        "x_train_list = []\n",
        "x_test_list = []\n",
        "# num_file = 3\n",
        "num_file = 1\n",
        "for i in range(num_file):\n",
        "    ft_train_path = './norm_data/ft/%d/train.csv'%(i+1)\n",
        "    ft_val_path = './norm_data/ft/%d/test.csv'%(i+1)\n",
        "    x_train_list.append(pd.read_csv(ft_train_path, dtype=np.float32))\n",
        "    x_test_list.append(pd.read_csv(ft_val_path, dtype=np.float32))"
      ]
    },
    {
      "cell_type": "code",
      "execution_count": 9,
      "metadata": {
        "colab": {
          "base_uri": "https://localhost:8080/"
        },
        "id": "rqKaSy2km2-1",
        "outputId": "29c6b3cc-0a44-46f2-fde0-170f67679ce0"
      },
      "outputs": [
        {
          "output_type": "stream",
          "name": "stdout",
          "text": [
            "(60059, 1)\n",
            "(240240, 1)\n"
          ]
        }
      ],
      "source": [
        "print(x_train_list[0].shape)\n",
        "print(x_test_list[0].shape)"
      ]
    },
    {
      "cell_type": "code",
      "execution_count": 13,
      "metadata": {
        "id": "VRXO-Vm-m2-1"
      },
      "outputs": [],
      "source": [
        "nb_epoch = nb_epoch_number\n",
        "if envs['deviceID'] == 'FF548D29':\n",
        "    batch_size = 10\n",
        "elif envs['deviceID'] == 'JNU_bearing':\n",
        "    batch_size = 128\n",
        "else:\n",
        "    batch_size = 10\n",
        "#batch_size = 1\n",
        "input_dim = x_train_list[0].shape[1] #num of predictor variables, \n",
        "encoding_dim = 32\n",
        "hidden_dim = int(encoding_dim / 2)\n",
        "lr_regularizers = 1e-3"
      ]
    },
    {
      "cell_type": "code",
      "execution_count": 14,
      "metadata": {
        "id": "3xocQ_nWm2-2"
      },
      "outputs": [],
      "source": [
        "train_dataset = tf.data.Dataset.from_tensor_slices(tuple([data.to_numpy() for data in x_train_list])).shuffle(len(x_train_list[0])).batch(batch_size)\n",
        "val_dataset = tf.data.Dataset.from_tensor_slices(tuple([data.to_numpy() for data in x_test_list])).batch(1)"
      ]
    },
    {
      "cell_type": "code",
      "execution_count": 15,
      "metadata": {
        "colab": {
          "base_uri": "https://localhost:8080/"
        },
        "id": "5ZIgOXnsm2-2",
        "outputId": "96cc8bc6-1a64-4f2a-d58a-27782ded866c"
      },
      "outputs": [
        {
          "output_type": "stream",
          "name": "stdout",
          "text": [
            "Model: \"encoder\"\n",
            "_________________________________________________________________\n",
            " Layer (type)                Output Shape              Param #   \n",
            "=================================================================\n",
            " input_1 (InputLayer)        [(None, 1)]               0         \n",
            "                                                                 \n",
            " enc_layer1 (Dense)          (None, 32)                64        \n",
            "                                                                 \n",
            " enc_layer2 (Dense)          (None, 16)                528       \n",
            "                                                                 \n",
            " enc_layer3 (Dense)          (None, 8)                 136       \n",
            "                                                                 \n",
            " enc_layer4 (Dense)          (None, 4)                 36        \n",
            "                                                                 \n",
            "=================================================================\n",
            "Total params: 764\n",
            "Trainable params: 764\n",
            "Non-trainable params: 0\n",
            "_________________________________________________________________\n",
            "Model: \"decoder\"\n",
            "_________________________________________________________________\n",
            " Layer (type)                Output Shape              Param #   \n",
            "=================================================================\n",
            " input_2 (InputLayer)        [(None, 4)]               0         \n",
            "                                                                 \n",
            " dec_layer1 (Dense)          (None, 8)                 40        \n",
            "                                                                 \n",
            " dec_layer2 (Dense)          (None, 16)                144       \n",
            "                                                                 \n",
            " dec_layer3 (Dense)          (None, 32)                544       \n",
            "                                                                 \n",
            " dec_layer4 (Dense)          (None, 1)                 33        \n",
            "                                                                 \n",
            "=================================================================\n",
            "Total params: 761\n",
            "Trainable params: 761\n",
            "Non-trainable params: 0\n",
            "_________________________________________________________________\n"
          ]
        }
      ],
      "source": [
        "input_layer = keras.layers.Input(shape=(input_dim, ))\n",
        "x = Dense(encoding_dim, activation=\"relu\", \n",
        "                activity_regularizer=regularizers.l1(lr_regularizers), name=\"enc_layer1\")(input_layer)\n",
        "x = Dense(hidden_dim, activation=\"relu\", name=\"enc_layer2\")(x)\n",
        "x = Dense(int(hidden_dim/2), activation=\"relu\", name=\"enc_layer3\")(x)\n",
        "encoder_output = Dense(int(hidden_dim/4), activation=\"relu\", name=\"enc_layer4\")(x)\n",
        "\n",
        "encoder = keras.Model(input_layer, encoder_output, name=\"encoder\")\n",
        "\n",
        "decoder_input = keras.layers.Input(shape=(int(hidden_dim/4),))\n",
        "x = Dense(int(encoding_dim/4), activation=\"relu\", name=\"dec_layer1\")(decoder_input)\n",
        "x = Dense(int(encoding_dim/2), activation=\"relu\", name=\"dec_layer2\")(x)\n",
        "x = Dense(encoding_dim, activation=\"relu\", name=\"dec_layer3\")(x)\n",
        "decoder_output = Dense(input_dim, activation=\"linear\", name=\"dec_layer4\")(x)\n",
        "\n",
        "decoder = keras.Model(decoder_input, decoder_output, name=\"decoder\")\n",
        "\n",
        "# encoder.compile()\n",
        "# decoder.compile()\n",
        "encoder.summary()\n",
        "decoder.summary()"
      ]
    },
    {
      "cell_type": "code",
      "execution_count": 16,
      "metadata": {
        "id": "-7zAGSHRm2-2"
      },
      "outputs": [],
      "source": [
        "encoder.load_weights(metatrain_encoder_model, by_name=True)\n",
        "decoder_list = []\n",
        "for i in range(num_file):\n",
        "    decoder_list.append(keras.models.clone_model(decoder))\n",
        "    decoder_list[-1].load_weights(pretrain_decoder_model, by_name=True)\n",
        "    decoder_list[i].compile()"
      ]
    },
    {
      "cell_type": "code",
      "execution_count": 17,
      "metadata": {
        "colab": {
          "base_uri": "https://localhost:8080/"
        },
        "id": "VD0-00XVm2-2",
        "outputId": "a7ea3f3b-6ff9-4638-a514-97827bd1b0d4"
      },
      "outputs": [
        {
          "output_type": "stream",
          "name": "stderr",
          "text": [
            "/usr/local/lib/python3.7/dist-packages/keras/optimizer_v2/adam.py:105: UserWarning: The `lr` argument is deprecated, use `learning_rate` instead.\n",
            "  super(Adam, self).__init__(name, **kwargs)\n"
          ]
        }
      ],
      "source": [
        "learning_rate = 1e-5\n",
        "adam = tf.keras.optimizers.Adam(lr=learning_rate)\n",
        "\n",
        "loss_fn = tf.keras.losses.MeanSquaredError()"
      ]
    },
    {
      "cell_type": "code",
      "execution_count": 18,
      "metadata": {
        "colab": {
          "base_uri": "https://localhost:8080/"
        },
        "id": "V8WIzTTQm2-2",
        "outputId": "06b386ee-c0ed-4e21-e529-7b948195fe63"
      },
      "outputs": [
        {
          "output_type": "stream",
          "name": "stdout",
          "text": [
            "training_model/JNU_bearing_metatrain_decoder.h5\n"
          ]
        }
      ],
      "source": [
        "for i in range(num_file):\n",
        "    print(metatrain_finetune_decoder_model)"
      ]
    },
    {
      "cell_type": "code",
      "execution_count": 29,
      "metadata": {
        "colab": {
          "base_uri": "https://localhost:8080/",
          "height": 382
        },
        "id": "2_UVQTmBm2-3",
        "scrolled": true,
        "outputId": "c7fd57db-4a61-41f4-bcae-2319bd0e1097"
      },
      "outputs": [
        {
          "output_type": "error",
          "ename": "KeyboardInterrupt",
          "evalue": "ignored",
          "traceback": [
            "\u001b[0;31m---------------------------------------------------------------------------\u001b[0m",
            "\u001b[0;31mKeyboardInterrupt\u001b[0m                         Traceback (most recent call last)",
            "\u001b[0;32m<ipython-input-29-74e521a5e02b>\u001b[0m in \u001b[0;36m<module>\u001b[0;34m()\u001b[0m\n\u001b[1;32m     16\u001b[0m     \u001b[0;32mfor\u001b[0m \u001b[0mbid\u001b[0m\u001b[0;34m,\u001b[0m \u001b[0mx\u001b[0m \u001b[0;32min\u001b[0m \u001b[0menumerate\u001b[0m\u001b[0;34m(\u001b[0m\u001b[0mval_dataset\u001b[0m\u001b[0;34m)\u001b[0m\u001b[0;34m:\u001b[0m\u001b[0;34m\u001b[0m\u001b[0;34m\u001b[0m\u001b[0m\n\u001b[1;32m     17\u001b[0m         \u001b[0;32mfor\u001b[0m \u001b[0mi\u001b[0m \u001b[0;32min\u001b[0m \u001b[0mrange\u001b[0m\u001b[0;34m(\u001b[0m\u001b[0mnum_file\u001b[0m\u001b[0;34m)\u001b[0m\u001b[0;34m:\u001b[0m\u001b[0;34m\u001b[0m\u001b[0;34m\u001b[0m\u001b[0m\n\u001b[0;32m---> 18\u001b[0;31m             \u001b[0mhidden\u001b[0m \u001b[0;34m=\u001b[0m \u001b[0mencoder\u001b[0m\u001b[0;34m(\u001b[0m\u001b[0mx\u001b[0m\u001b[0;34m[\u001b[0m\u001b[0mi\u001b[0m\u001b[0;34m]\u001b[0m\u001b[0;34m)\u001b[0m\u001b[0;34m\u001b[0m\u001b[0;34m\u001b[0m\u001b[0m\n\u001b[0m\u001b[1;32m     19\u001b[0m             \u001b[0mrecon\u001b[0m \u001b[0;34m=\u001b[0m \u001b[0mdecoder_list\u001b[0m\u001b[0;34m[\u001b[0m\u001b[0mi\u001b[0m\u001b[0;34m]\u001b[0m\u001b[0;34m(\u001b[0m\u001b[0mhidden\u001b[0m\u001b[0;34m)\u001b[0m\u001b[0;34m\u001b[0m\u001b[0;34m\u001b[0m\u001b[0m\n\u001b[1;32m     20\u001b[0m             \u001b[0mloss\u001b[0m \u001b[0;34m=\u001b[0m \u001b[0mloss_fn\u001b[0m\u001b[0;34m(\u001b[0m\u001b[0mx\u001b[0m\u001b[0;34m[\u001b[0m\u001b[0mi\u001b[0m\u001b[0;34m]\u001b[0m\u001b[0;34m,\u001b[0m \u001b[0mrecon\u001b[0m\u001b[0;34m)\u001b[0m\u001b[0;34m\u001b[0m\u001b[0;34m\u001b[0m\u001b[0m\n",
            "\u001b[0;32m/usr/local/lib/python3.7/dist-packages/keras/utils/traceback_utils.py\u001b[0m in \u001b[0;36merror_handler\u001b[0;34m(*args, **kwargs)\u001b[0m\n\u001b[1;32m     62\u001b[0m     \u001b[0mfiltered_tb\u001b[0m \u001b[0;34m=\u001b[0m \u001b[0;32mNone\u001b[0m\u001b[0;34m\u001b[0m\u001b[0;34m\u001b[0m\u001b[0m\n\u001b[1;32m     63\u001b[0m     \u001b[0;32mtry\u001b[0m\u001b[0;34m:\u001b[0m\u001b[0;34m\u001b[0m\u001b[0;34m\u001b[0m\u001b[0m\n\u001b[0;32m---> 64\u001b[0;31m       \u001b[0;32mreturn\u001b[0m \u001b[0mfn\u001b[0m\u001b[0;34m(\u001b[0m\u001b[0;34m*\u001b[0m\u001b[0margs\u001b[0m\u001b[0;34m,\u001b[0m \u001b[0;34m**\u001b[0m\u001b[0mkwargs\u001b[0m\u001b[0;34m)\u001b[0m\u001b[0;34m\u001b[0m\u001b[0;34m\u001b[0m\u001b[0m\n\u001b[0m\u001b[1;32m     65\u001b[0m     \u001b[0;32mexcept\u001b[0m \u001b[0mException\u001b[0m \u001b[0;32mas\u001b[0m \u001b[0me\u001b[0m\u001b[0;34m:\u001b[0m  \u001b[0;31m# pylint: disable=broad-except\u001b[0m\u001b[0;34m\u001b[0m\u001b[0;34m\u001b[0m\u001b[0m\n\u001b[1;32m     66\u001b[0m       \u001b[0mfiltered_tb\u001b[0m \u001b[0;34m=\u001b[0m \u001b[0m_process_traceback_frames\u001b[0m\u001b[0;34m(\u001b[0m\u001b[0me\u001b[0m\u001b[0;34m.\u001b[0m\u001b[0m__traceback__\u001b[0m\u001b[0;34m)\u001b[0m\u001b[0;34m\u001b[0m\u001b[0;34m\u001b[0m\u001b[0m\n",
            "\u001b[0;32m/usr/local/lib/python3.7/dist-packages/keras/engine/base_layer.py\u001b[0m in \u001b[0;36m__call__\u001b[0;34m(self, *args, **kwargs)\u001b[0m\n\u001b[1;32m   1094\u001b[0m         with autocast_variable.enable_auto_cast_variables(\n\u001b[1;32m   1095\u001b[0m             self._compute_dtype_object):\n\u001b[0;32m-> 1096\u001b[0;31m           \u001b[0moutputs\u001b[0m \u001b[0;34m=\u001b[0m \u001b[0mcall_fn\u001b[0m\u001b[0;34m(\u001b[0m\u001b[0minputs\u001b[0m\u001b[0;34m,\u001b[0m \u001b[0;34m*\u001b[0m\u001b[0margs\u001b[0m\u001b[0;34m,\u001b[0m \u001b[0;34m**\u001b[0m\u001b[0mkwargs\u001b[0m\u001b[0;34m)\u001b[0m\u001b[0;34m\u001b[0m\u001b[0;34m\u001b[0m\u001b[0m\n\u001b[0m\u001b[1;32m   1097\u001b[0m \u001b[0;34m\u001b[0m\u001b[0m\n\u001b[1;32m   1098\u001b[0m         \u001b[0;32mif\u001b[0m \u001b[0mself\u001b[0m\u001b[0;34m.\u001b[0m\u001b[0m_activity_regularizer\u001b[0m\u001b[0;34m:\u001b[0m\u001b[0;34m\u001b[0m\u001b[0;34m\u001b[0m\u001b[0m\n",
            "\u001b[0;32m/usr/local/lib/python3.7/dist-packages/keras/utils/traceback_utils.py\u001b[0m in \u001b[0;36merror_handler\u001b[0;34m(*args, **kwargs)\u001b[0m\n\u001b[1;32m     90\u001b[0m     \u001b[0mbound_signature\u001b[0m \u001b[0;34m=\u001b[0m \u001b[0;32mNone\u001b[0m\u001b[0;34m\u001b[0m\u001b[0;34m\u001b[0m\u001b[0m\n\u001b[1;32m     91\u001b[0m     \u001b[0;32mtry\u001b[0m\u001b[0;34m:\u001b[0m\u001b[0;34m\u001b[0m\u001b[0;34m\u001b[0m\u001b[0m\n\u001b[0;32m---> 92\u001b[0;31m       \u001b[0;32mreturn\u001b[0m \u001b[0mfn\u001b[0m\u001b[0;34m(\u001b[0m\u001b[0;34m*\u001b[0m\u001b[0margs\u001b[0m\u001b[0;34m,\u001b[0m \u001b[0;34m**\u001b[0m\u001b[0mkwargs\u001b[0m\u001b[0;34m)\u001b[0m\u001b[0;34m\u001b[0m\u001b[0;34m\u001b[0m\u001b[0m\n\u001b[0m\u001b[1;32m     93\u001b[0m     \u001b[0;32mexcept\u001b[0m \u001b[0mException\u001b[0m \u001b[0;32mas\u001b[0m \u001b[0me\u001b[0m\u001b[0;34m:\u001b[0m  \u001b[0;31m# pylint: disable=broad-except\u001b[0m\u001b[0;34m\u001b[0m\u001b[0;34m\u001b[0m\u001b[0m\n\u001b[1;32m     94\u001b[0m       \u001b[0;32mif\u001b[0m \u001b[0mhasattr\u001b[0m\u001b[0;34m(\u001b[0m\u001b[0me\u001b[0m\u001b[0;34m,\u001b[0m \u001b[0;34m'_keras_call_info_injected'\u001b[0m\u001b[0;34m)\u001b[0m\u001b[0;34m:\u001b[0m\u001b[0;34m\u001b[0m\u001b[0;34m\u001b[0m\u001b[0m\n",
            "\u001b[0;32m/usr/local/lib/python3.7/dist-packages/keras/engine/functional.py\u001b[0m in \u001b[0;36mcall\u001b[0;34m(self, inputs, training, mask)\u001b[0m\n\u001b[1;32m    450\u001b[0m     \"\"\"\n\u001b[1;32m    451\u001b[0m     return self._run_internal_graph(\n\u001b[0;32m--> 452\u001b[0;31m         inputs, training=training, mask=mask)\n\u001b[0m\u001b[1;32m    453\u001b[0m \u001b[0;34m\u001b[0m\u001b[0m\n\u001b[1;32m    454\u001b[0m   \u001b[0;32mdef\u001b[0m \u001b[0mcompute_output_shape\u001b[0m\u001b[0;34m(\u001b[0m\u001b[0mself\u001b[0m\u001b[0;34m,\u001b[0m \u001b[0minput_shape\u001b[0m\u001b[0;34m)\u001b[0m\u001b[0;34m:\u001b[0m\u001b[0;34m\u001b[0m\u001b[0;34m\u001b[0m\u001b[0m\n",
            "\u001b[0;32m/usr/local/lib/python3.7/dist-packages/keras/engine/functional.py\u001b[0m in \u001b[0;36m_run_internal_graph\u001b[0;34m(self, inputs, training, mask)\u001b[0m\n\u001b[1;32m    587\u001b[0m \u001b[0;34m\u001b[0m\u001b[0m\n\u001b[1;32m    588\u001b[0m         \u001b[0margs\u001b[0m\u001b[0;34m,\u001b[0m \u001b[0mkwargs\u001b[0m \u001b[0;34m=\u001b[0m \u001b[0mnode\u001b[0m\u001b[0;34m.\u001b[0m\u001b[0mmap_arguments\u001b[0m\u001b[0;34m(\u001b[0m\u001b[0mtensor_dict\u001b[0m\u001b[0;34m)\u001b[0m\u001b[0;34m\u001b[0m\u001b[0;34m\u001b[0m\u001b[0m\n\u001b[0;32m--> 589\u001b[0;31m         \u001b[0moutputs\u001b[0m \u001b[0;34m=\u001b[0m \u001b[0mnode\u001b[0m\u001b[0;34m.\u001b[0m\u001b[0mlayer\u001b[0m\u001b[0;34m(\u001b[0m\u001b[0;34m*\u001b[0m\u001b[0margs\u001b[0m\u001b[0;34m,\u001b[0m \u001b[0;34m**\u001b[0m\u001b[0mkwargs\u001b[0m\u001b[0;34m)\u001b[0m\u001b[0;34m\u001b[0m\u001b[0;34m\u001b[0m\u001b[0m\n\u001b[0m\u001b[1;32m    590\u001b[0m \u001b[0;34m\u001b[0m\u001b[0m\n\u001b[1;32m    591\u001b[0m         \u001b[0;31m# Update tensor_dict.\u001b[0m\u001b[0;34m\u001b[0m\u001b[0;34m\u001b[0m\u001b[0;34m\u001b[0m\u001b[0m\n",
            "\u001b[0;32m/usr/local/lib/python3.7/dist-packages/keras/utils/traceback_utils.py\u001b[0m in \u001b[0;36merror_handler\u001b[0;34m(*args, **kwargs)\u001b[0m\n\u001b[1;32m     62\u001b[0m     \u001b[0mfiltered_tb\u001b[0m \u001b[0;34m=\u001b[0m \u001b[0;32mNone\u001b[0m\u001b[0;34m\u001b[0m\u001b[0;34m\u001b[0m\u001b[0m\n\u001b[1;32m     63\u001b[0m     \u001b[0;32mtry\u001b[0m\u001b[0;34m:\u001b[0m\u001b[0;34m\u001b[0m\u001b[0;34m\u001b[0m\u001b[0m\n\u001b[0;32m---> 64\u001b[0;31m       \u001b[0;32mreturn\u001b[0m \u001b[0mfn\u001b[0m\u001b[0;34m(\u001b[0m\u001b[0;34m*\u001b[0m\u001b[0margs\u001b[0m\u001b[0;34m,\u001b[0m \u001b[0;34m**\u001b[0m\u001b[0mkwargs\u001b[0m\u001b[0;34m)\u001b[0m\u001b[0;34m\u001b[0m\u001b[0;34m\u001b[0m\u001b[0m\n\u001b[0m\u001b[1;32m     65\u001b[0m     \u001b[0;32mexcept\u001b[0m \u001b[0mException\u001b[0m \u001b[0;32mas\u001b[0m \u001b[0me\u001b[0m\u001b[0;34m:\u001b[0m  \u001b[0;31m# pylint: disable=broad-except\u001b[0m\u001b[0;34m\u001b[0m\u001b[0;34m\u001b[0m\u001b[0m\n\u001b[1;32m     66\u001b[0m       \u001b[0mfiltered_tb\u001b[0m \u001b[0;34m=\u001b[0m \u001b[0m_process_traceback_frames\u001b[0m\u001b[0;34m(\u001b[0m\u001b[0me\u001b[0m\u001b[0;34m.\u001b[0m\u001b[0m__traceback__\u001b[0m\u001b[0;34m)\u001b[0m\u001b[0;34m\u001b[0m\u001b[0;34m\u001b[0m\u001b[0m\n",
            "\u001b[0;32m/usr/local/lib/python3.7/dist-packages/keras/engine/base_layer.py\u001b[0m in \u001b[0;36m__call__\u001b[0;34m(self, *args, **kwargs)\u001b[0m\n\u001b[1;32m   1094\u001b[0m         with autocast_variable.enable_auto_cast_variables(\n\u001b[1;32m   1095\u001b[0m             self._compute_dtype_object):\n\u001b[0;32m-> 1096\u001b[0;31m           \u001b[0moutputs\u001b[0m \u001b[0;34m=\u001b[0m \u001b[0mcall_fn\u001b[0m\u001b[0;34m(\u001b[0m\u001b[0minputs\u001b[0m\u001b[0;34m,\u001b[0m \u001b[0;34m*\u001b[0m\u001b[0margs\u001b[0m\u001b[0;34m,\u001b[0m \u001b[0;34m**\u001b[0m\u001b[0mkwargs\u001b[0m\u001b[0;34m)\u001b[0m\u001b[0;34m\u001b[0m\u001b[0;34m\u001b[0m\u001b[0m\n\u001b[0m\u001b[1;32m   1097\u001b[0m \u001b[0;34m\u001b[0m\u001b[0m\n\u001b[1;32m   1098\u001b[0m         \u001b[0;32mif\u001b[0m \u001b[0mself\u001b[0m\u001b[0;34m.\u001b[0m\u001b[0m_activity_regularizer\u001b[0m\u001b[0;34m:\u001b[0m\u001b[0;34m\u001b[0m\u001b[0;34m\u001b[0m\u001b[0m\n",
            "\u001b[0;32m/usr/local/lib/python3.7/dist-packages/keras/utils/traceback_utils.py\u001b[0m in \u001b[0;36merror_handler\u001b[0;34m(*args, **kwargs)\u001b[0m\n\u001b[1;32m     90\u001b[0m     \u001b[0mbound_signature\u001b[0m \u001b[0;34m=\u001b[0m \u001b[0;32mNone\u001b[0m\u001b[0;34m\u001b[0m\u001b[0;34m\u001b[0m\u001b[0m\n\u001b[1;32m     91\u001b[0m     \u001b[0;32mtry\u001b[0m\u001b[0;34m:\u001b[0m\u001b[0;34m\u001b[0m\u001b[0;34m\u001b[0m\u001b[0m\n\u001b[0;32m---> 92\u001b[0;31m       \u001b[0;32mreturn\u001b[0m \u001b[0mfn\u001b[0m\u001b[0;34m(\u001b[0m\u001b[0;34m*\u001b[0m\u001b[0margs\u001b[0m\u001b[0;34m,\u001b[0m \u001b[0;34m**\u001b[0m\u001b[0mkwargs\u001b[0m\u001b[0;34m)\u001b[0m\u001b[0;34m\u001b[0m\u001b[0;34m\u001b[0m\u001b[0m\n\u001b[0m\u001b[1;32m     93\u001b[0m     \u001b[0;32mexcept\u001b[0m \u001b[0mException\u001b[0m \u001b[0;32mas\u001b[0m \u001b[0me\u001b[0m\u001b[0;34m:\u001b[0m  \u001b[0;31m# pylint: disable=broad-except\u001b[0m\u001b[0;34m\u001b[0m\u001b[0;34m\u001b[0m\u001b[0m\n\u001b[1;32m     94\u001b[0m       \u001b[0;32mif\u001b[0m \u001b[0mhasattr\u001b[0m\u001b[0;34m(\u001b[0m\u001b[0me\u001b[0m\u001b[0;34m,\u001b[0m \u001b[0;34m'_keras_call_info_injected'\u001b[0m\u001b[0;34m)\u001b[0m\u001b[0;34m:\u001b[0m\u001b[0;34m\u001b[0m\u001b[0;34m\u001b[0m\u001b[0m\n",
            "\u001b[0;32m/usr/local/lib/python3.7/dist-packages/keras/layers/core/dense.py\u001b[0m in \u001b[0;36mcall\u001b[0;34m(self, inputs)\u001b[0m\n\u001b[1;32m    231\u001b[0m \u001b[0;34m\u001b[0m\u001b[0m\n\u001b[1;32m    232\u001b[0m     \u001b[0;32mif\u001b[0m \u001b[0mself\u001b[0m\u001b[0;34m.\u001b[0m\u001b[0mactivation\u001b[0m \u001b[0;32mis\u001b[0m \u001b[0;32mnot\u001b[0m \u001b[0;32mNone\u001b[0m\u001b[0;34m:\u001b[0m\u001b[0;34m\u001b[0m\u001b[0;34m\u001b[0m\u001b[0m\n\u001b[0;32m--> 233\u001b[0;31m       \u001b[0moutputs\u001b[0m \u001b[0;34m=\u001b[0m \u001b[0mself\u001b[0m\u001b[0;34m.\u001b[0m\u001b[0mactivation\u001b[0m\u001b[0;34m(\u001b[0m\u001b[0moutputs\u001b[0m\u001b[0;34m)\u001b[0m\u001b[0;34m\u001b[0m\u001b[0;34m\u001b[0m\u001b[0m\n\u001b[0m\u001b[1;32m    234\u001b[0m \u001b[0;34m\u001b[0m\u001b[0m\n\u001b[1;32m    235\u001b[0m     \u001b[0;32mif\u001b[0m \u001b[0mis_ragged\u001b[0m\u001b[0;34m:\u001b[0m\u001b[0;34m\u001b[0m\u001b[0;34m\u001b[0m\u001b[0m\n",
            "\u001b[0;32m/usr/local/lib/python3.7/dist-packages/tensorflow/python/util/traceback_utils.py\u001b[0m in \u001b[0;36merror_handler\u001b[0;34m(*args, **kwargs)\u001b[0m\n\u001b[1;32m    148\u001b[0m     \u001b[0mfiltered_tb\u001b[0m \u001b[0;34m=\u001b[0m \u001b[0;32mNone\u001b[0m\u001b[0;34m\u001b[0m\u001b[0;34m\u001b[0m\u001b[0m\n\u001b[1;32m    149\u001b[0m     \u001b[0;32mtry\u001b[0m\u001b[0;34m:\u001b[0m\u001b[0;34m\u001b[0m\u001b[0;34m\u001b[0m\u001b[0m\n\u001b[0;32m--> 150\u001b[0;31m       \u001b[0;32mreturn\u001b[0m \u001b[0mfn\u001b[0m\u001b[0;34m(\u001b[0m\u001b[0;34m*\u001b[0m\u001b[0margs\u001b[0m\u001b[0;34m,\u001b[0m \u001b[0;34m**\u001b[0m\u001b[0mkwargs\u001b[0m\u001b[0;34m)\u001b[0m\u001b[0;34m\u001b[0m\u001b[0;34m\u001b[0m\u001b[0m\n\u001b[0m\u001b[1;32m    151\u001b[0m     \u001b[0;32mexcept\u001b[0m \u001b[0mException\u001b[0m \u001b[0;32mas\u001b[0m \u001b[0me\u001b[0m\u001b[0;34m:\u001b[0m\u001b[0;34m\u001b[0m\u001b[0;34m\u001b[0m\u001b[0m\n\u001b[1;32m    152\u001b[0m       \u001b[0mfiltered_tb\u001b[0m \u001b[0;34m=\u001b[0m \u001b[0m_process_traceback_frames\u001b[0m\u001b[0;34m(\u001b[0m\u001b[0me\u001b[0m\u001b[0;34m.\u001b[0m\u001b[0m__traceback__\u001b[0m\u001b[0;34m)\u001b[0m\u001b[0;34m\u001b[0m\u001b[0;34m\u001b[0m\u001b[0m\n",
            "\u001b[0;32m/usr/local/lib/python3.7/dist-packages/tensorflow/python/util/dispatch.py\u001b[0m in \u001b[0;36mop_dispatch_handler\u001b[0;34m(*args, **kwargs)\u001b[0m\n\u001b[1;32m   1080\u001b[0m       \u001b[0;31m# Fallback dispatch system (dispatch v1):\u001b[0m\u001b[0;34m\u001b[0m\u001b[0;34m\u001b[0m\u001b[0;34m\u001b[0m\u001b[0m\n\u001b[1;32m   1081\u001b[0m       \u001b[0;32mtry\u001b[0m\u001b[0;34m:\u001b[0m\u001b[0;34m\u001b[0m\u001b[0;34m\u001b[0m\u001b[0m\n\u001b[0;32m-> 1082\u001b[0;31m         \u001b[0;32mreturn\u001b[0m \u001b[0mdispatch_target\u001b[0m\u001b[0;34m(\u001b[0m\u001b[0;34m*\u001b[0m\u001b[0margs\u001b[0m\u001b[0;34m,\u001b[0m \u001b[0;34m**\u001b[0m\u001b[0mkwargs\u001b[0m\u001b[0;34m)\u001b[0m\u001b[0;34m\u001b[0m\u001b[0;34m\u001b[0m\u001b[0m\n\u001b[0m\u001b[1;32m   1083\u001b[0m       \u001b[0;32mexcept\u001b[0m \u001b[0;34m(\u001b[0m\u001b[0mTypeError\u001b[0m\u001b[0;34m,\u001b[0m \u001b[0mValueError\u001b[0m\u001b[0;34m)\u001b[0m\u001b[0;34m:\u001b[0m\u001b[0;34m\u001b[0m\u001b[0;34m\u001b[0m\u001b[0m\n\u001b[1;32m   1084\u001b[0m         \u001b[0;31m# Note: convert_to_eager_tensor currently raises a ValueError, not a\u001b[0m\u001b[0;34m\u001b[0m\u001b[0;34m\u001b[0m\u001b[0;34m\u001b[0m\u001b[0m\n",
            "\u001b[0;32m/usr/local/lib/python3.7/dist-packages/keras/activations.py\u001b[0m in \u001b[0;36mrelu\u001b[0;34m(x, alpha, max_value, threshold)\u001b[0m\n\u001b[1;32m    309\u001b[0m       \u001b[0mTensor\u001b[0m \u001b[0mwill\u001b[0m \u001b[0mbe\u001b[0m \u001b[0mof\u001b[0m \u001b[0mthe\u001b[0m \u001b[0msame\u001b[0m \u001b[0mshape\u001b[0m \u001b[0;32mand\u001b[0m \u001b[0mdtype\u001b[0m \u001b[0mof\u001b[0m \u001b[0minput\u001b[0m\u001b[0;31m \u001b[0m\u001b[0;31m`\u001b[0m\u001b[0mx\u001b[0m\u001b[0;31m`\u001b[0m\u001b[0;34m.\u001b[0m\u001b[0;34m\u001b[0m\u001b[0;34m\u001b[0m\u001b[0m\n\u001b[1;32m    310\u001b[0m   \"\"\"\n\u001b[0;32m--> 311\u001b[0;31m   \u001b[0;32mreturn\u001b[0m \u001b[0mbackend\u001b[0m\u001b[0;34m.\u001b[0m\u001b[0mrelu\u001b[0m\u001b[0;34m(\u001b[0m\u001b[0mx\u001b[0m\u001b[0;34m,\u001b[0m \u001b[0malpha\u001b[0m\u001b[0;34m=\u001b[0m\u001b[0malpha\u001b[0m\u001b[0;34m,\u001b[0m \u001b[0mmax_value\u001b[0m\u001b[0;34m=\u001b[0m\u001b[0mmax_value\u001b[0m\u001b[0;34m,\u001b[0m \u001b[0mthreshold\u001b[0m\u001b[0;34m=\u001b[0m\u001b[0mthreshold\u001b[0m\u001b[0;34m)\u001b[0m\u001b[0;34m\u001b[0m\u001b[0;34m\u001b[0m\u001b[0m\n\u001b[0m\u001b[1;32m    312\u001b[0m \u001b[0;34m\u001b[0m\u001b[0m\n\u001b[1;32m    313\u001b[0m \u001b[0;34m\u001b[0m\u001b[0m\n",
            "\u001b[0;32m/usr/local/lib/python3.7/dist-packages/tensorflow/python/util/traceback_utils.py\u001b[0m in \u001b[0;36merror_handler\u001b[0;34m(*args, **kwargs)\u001b[0m\n\u001b[1;32m    148\u001b[0m     \u001b[0mfiltered_tb\u001b[0m \u001b[0;34m=\u001b[0m \u001b[0;32mNone\u001b[0m\u001b[0;34m\u001b[0m\u001b[0;34m\u001b[0m\u001b[0m\n\u001b[1;32m    149\u001b[0m     \u001b[0;32mtry\u001b[0m\u001b[0;34m:\u001b[0m\u001b[0;34m\u001b[0m\u001b[0;34m\u001b[0m\u001b[0m\n\u001b[0;32m--> 150\u001b[0;31m       \u001b[0;32mreturn\u001b[0m \u001b[0mfn\u001b[0m\u001b[0;34m(\u001b[0m\u001b[0;34m*\u001b[0m\u001b[0margs\u001b[0m\u001b[0;34m,\u001b[0m \u001b[0;34m**\u001b[0m\u001b[0mkwargs\u001b[0m\u001b[0;34m)\u001b[0m\u001b[0;34m\u001b[0m\u001b[0;34m\u001b[0m\u001b[0m\n\u001b[0m\u001b[1;32m    151\u001b[0m     \u001b[0;32mexcept\u001b[0m \u001b[0mException\u001b[0m \u001b[0;32mas\u001b[0m \u001b[0me\u001b[0m\u001b[0;34m:\u001b[0m\u001b[0;34m\u001b[0m\u001b[0;34m\u001b[0m\u001b[0m\n\u001b[1;32m    152\u001b[0m       \u001b[0mfiltered_tb\u001b[0m \u001b[0;34m=\u001b[0m \u001b[0m_process_traceback_frames\u001b[0m\u001b[0;34m(\u001b[0m\u001b[0me\u001b[0m\u001b[0;34m.\u001b[0m\u001b[0m__traceback__\u001b[0m\u001b[0;34m)\u001b[0m\u001b[0;34m\u001b[0m\u001b[0;34m\u001b[0m\u001b[0m\n",
            "\u001b[0;32m/usr/local/lib/python3.7/dist-packages/tensorflow/python/util/dispatch.py\u001b[0m in \u001b[0;36mop_dispatch_handler\u001b[0;34m(*args, **kwargs)\u001b[0m\n\u001b[1;32m   1080\u001b[0m       \u001b[0;31m# Fallback dispatch system (dispatch v1):\u001b[0m\u001b[0;34m\u001b[0m\u001b[0;34m\u001b[0m\u001b[0;34m\u001b[0m\u001b[0m\n\u001b[1;32m   1081\u001b[0m       \u001b[0;32mtry\u001b[0m\u001b[0;34m:\u001b[0m\u001b[0;34m\u001b[0m\u001b[0;34m\u001b[0m\u001b[0m\n\u001b[0;32m-> 1082\u001b[0;31m         \u001b[0;32mreturn\u001b[0m \u001b[0mdispatch_target\u001b[0m\u001b[0;34m(\u001b[0m\u001b[0;34m*\u001b[0m\u001b[0margs\u001b[0m\u001b[0;34m,\u001b[0m \u001b[0;34m**\u001b[0m\u001b[0mkwargs\u001b[0m\u001b[0;34m)\u001b[0m\u001b[0;34m\u001b[0m\u001b[0;34m\u001b[0m\u001b[0m\n\u001b[0m\u001b[1;32m   1083\u001b[0m       \u001b[0;32mexcept\u001b[0m \u001b[0;34m(\u001b[0m\u001b[0mTypeError\u001b[0m\u001b[0;34m,\u001b[0m \u001b[0mValueError\u001b[0m\u001b[0;34m)\u001b[0m\u001b[0;34m:\u001b[0m\u001b[0;34m\u001b[0m\u001b[0;34m\u001b[0m\u001b[0m\n\u001b[1;32m   1084\u001b[0m         \u001b[0;31m# Note: convert_to_eager_tensor currently raises a ValueError, not a\u001b[0m\u001b[0;34m\u001b[0m\u001b[0;34m\u001b[0m\u001b[0;34m\u001b[0m\u001b[0m\n",
            "\u001b[0;32m/usr/local/lib/python3.7/dist-packages/keras/backend.py\u001b[0m in \u001b[0;36mrelu\u001b[0;34m(x, alpha, max_value, threshold)\u001b[0m\n\u001b[1;32m   4954\u001b[0m     \u001b[0mclip_max\u001b[0m \u001b[0;34m=\u001b[0m \u001b[0;32mFalse\u001b[0m\u001b[0;34m\u001b[0m\u001b[0;34m\u001b[0m\u001b[0m\n\u001b[1;32m   4955\u001b[0m   \u001b[0;32melse\u001b[0m\u001b[0;34m:\u001b[0m\u001b[0;34m\u001b[0m\u001b[0;34m\u001b[0m\u001b[0m\n\u001b[0;32m-> 4956\u001b[0;31m     \u001b[0mx\u001b[0m \u001b[0;34m=\u001b[0m \u001b[0mtf\u001b[0m\u001b[0;34m.\u001b[0m\u001b[0mnn\u001b[0m\u001b[0;34m.\u001b[0m\u001b[0mrelu\u001b[0m\u001b[0;34m(\u001b[0m\u001b[0mx\u001b[0m\u001b[0;34m)\u001b[0m\u001b[0;34m\u001b[0m\u001b[0;34m\u001b[0m\u001b[0m\n\u001b[0m\u001b[1;32m   4957\u001b[0m \u001b[0;34m\u001b[0m\u001b[0m\n\u001b[1;32m   4958\u001b[0m   \u001b[0;32mif\u001b[0m \u001b[0mclip_max\u001b[0m\u001b[0;34m:\u001b[0m\u001b[0;34m\u001b[0m\u001b[0;34m\u001b[0m\u001b[0m\n",
            "\u001b[0;32m/usr/local/lib/python3.7/dist-packages/tensorflow/python/ops/gen_nn_ops.py\u001b[0m in \u001b[0;36mrelu\u001b[0;34m(features, name)\u001b[0m\n\u001b[1;32m  10523\u001b[0m     \u001b[0;32mtry\u001b[0m\u001b[0;34m:\u001b[0m\u001b[0;34m\u001b[0m\u001b[0;34m\u001b[0m\u001b[0m\n\u001b[1;32m  10524\u001b[0m       _result = pywrap_tfe.TFE_Py_FastPathExecute(\n\u001b[0;32m> 10525\u001b[0;31m         _ctx, \"Relu\", name, features)\n\u001b[0m\u001b[1;32m  10526\u001b[0m       \u001b[0;32mreturn\u001b[0m \u001b[0m_result\u001b[0m\u001b[0;34m\u001b[0m\u001b[0;34m\u001b[0m\u001b[0m\n\u001b[1;32m  10527\u001b[0m     \u001b[0;32mexcept\u001b[0m \u001b[0m_core\u001b[0m\u001b[0;34m.\u001b[0m\u001b[0m_NotOkStatusException\u001b[0m \u001b[0;32mas\u001b[0m \u001b[0me\u001b[0m\u001b[0;34m:\u001b[0m\u001b[0;34m\u001b[0m\u001b[0;34m\u001b[0m\u001b[0m\n",
            "\u001b[0;31mKeyboardInterrupt\u001b[0m: "
          ]
        }
      ],
      "source": [
        "best_val_loss = [999 for i in range(num_file)]\n",
        "\n",
        "for ep in range(nb_epoch):\n",
        "    for bid, x in enumerate(train_dataset):\n",
        "        #only ft dec in ft stage\n",
        "        for i in range(num_file):\n",
        "            with tf.GradientTape() as tape:\n",
        "                hidden = encoder(x[i])\n",
        "                recon = decoder_list[i](hidden)\n",
        "                loss = loss_fn(x[i], recon)\n",
        "\n",
        "            gradients = tape.gradient(loss, decoder_list[i].trainable_weights)\n",
        "            adam.apply_gradients(zip(gradients, decoder_list[i].trainable_weights))\n",
        "\n",
        "    val_loss_list = [[] for i in range(num_file)]\n",
        "    for bid, x in enumerate(val_dataset):\n",
        "        for i in range(num_file):   \n",
        "            hidden = encoder(x[i])\n",
        "            recon = decoder_list[i](hidden)\n",
        "            loss = loss_fn(x[i], recon)\n",
        "            val_loss_list[i].append(loss.numpy())\n",
        "    \n",
        "    print(\"Epoch: %d\"%(ep+1), end='\\t')\n",
        "    for i in range(num_file):\n",
        "        print(\"file %d val_loss: %f\"%(i+1, np.mean(val_loss_list[i])))\n",
        "\n",
        "        if np.mean(val_loss_list[i]) < best_val_loss[i]:\n",
        "            decoder_list[i].save(metatrain_finetune_decoder_model)\n",
        "            best_val_loss[i] = np.mean(val_loss_list[i])"
      ]
    },
    {
      "cell_type": "markdown",
      "metadata": {
        "id": "HiR4M7E1BCpO"
      },
      "source": [
        "# Inference Trained Data"
      ]
    },
    {
      "cell_type": "code",
      "execution_count": 20,
      "metadata": {
        "id": "ePCCq80Ym2-6"
      },
      "outputs": [],
      "source": [
        "def make_encoder_decoder(input_dim):\n",
        "    #input_dim = x_train.shape[1] #num of predictor variables, \n",
        "    encoding_dim = 32\n",
        "    hidden_dim = int(encoding_dim / 2)\n",
        "    lr_regularizers = 1e-3\n",
        "    \n",
        "    input_layer = keras.layers.Input(shape=(input_dim, ))\n",
        "    x = Dense(encoding_dim, activation=\"relu\", \n",
        "                    activity_regularizer=regularizers.l1(lr_regularizers), name=\"enc_layer1\")(input_layer)\n",
        "    x = Dense(hidden_dim, activation=\"relu\", name=\"enc_layer2\")(x)\n",
        "    x = Dense(int(hidden_dim/2), activation=\"relu\", name=\"enc_layer3\")(x)\n",
        "    encoder_output = Dense(int(hidden_dim/4), activation=\"relu\", name=\"enc_layer4\")(x)\n",
        "\n",
        "    encoder = keras.Model(input_layer, encoder_output, name=\"encoder\")\n",
        "\n",
        "    decoder_input = keras.layers.Input(shape=(int(hidden_dim/4),))\n",
        "    x = Dense(int(encoding_dim/4), activation=\"relu\", name=\"dec_layer1\")(decoder_input)\n",
        "    x = Dense(int(encoding_dim/2), activation=\"relu\", name=\"dec_layer2\")(x)\n",
        "    x = Dense(encoding_dim, activation=\"relu\", name=\"dec_layer3\")(x)\n",
        "    decoder_output = Dense(input_dim, activation=\"linear\", name=\"dec_layer4\")(x)\n",
        "\n",
        "    decoder = keras.Model(decoder_input, decoder_output, name=\"decoder\")\n",
        "    return encoder, decoder"
      ]
    },
    {
      "cell_type": "code",
      "execution_count": 21,
      "metadata": {
        "id": "wQysKTxeBCpO"
      },
      "outputs": [],
      "source": [
        "def run_inference_5min(test_dataset, encoder, decoder):\n",
        "    test_loss_list = []\n",
        "    for bid, x in enumerate(test_dataset):\n",
        "        #for i in range(num_file):\n",
        "            i=0 #data4\n",
        "            loss = cal_NN_loss(x[i], encoder, decoder)\n",
        "            RMSE = np.sqrt(loss.numpy())\n",
        "            test_loss_list.append(RMSE)\n",
        "    #print(np.sqrt(np.mean(test_loss_list[i])))\n",
        "    return test_loss_list"
      ]
    },
    {
      "cell_type": "code",
      "execution_count": 22,
      "metadata": {
        "id": "ZlsGGyvyBCpP"
      },
      "outputs": [],
      "source": [
        "def cal_NN_loss(in_data, encoder, decoder):\n",
        "    hidden = encoder(in_data)\n",
        "    recon = decoder(hidden)\n",
        "    loss = loss_fn(in_data, recon)\n",
        "    return loss"
      ]
    },
    {
      "cell_type": "code",
      "execution_count": 23,
      "metadata": {
        "id": "tA0ScVn0BCpP"
      },
      "outputs": [],
      "source": [
        "def RMSE_cal(model, x, y):\n",
        "    ypred = model.predict(x)\n",
        "    MSE = mean_squared_error(y, ypred)\n",
        "    RMSE = np.sqrt(MSE)\n",
        "    return RMSE"
      ]
    },
    {
      "cell_type": "code",
      "execution_count": 24,
      "metadata": {
        "id": "wvu0PMrOBCpP"
      },
      "outputs": [],
      "source": [
        "input_scaler = pretrain_scaler_name\n",
        "E_input_model_name = metatrain_encoder_model\n",
        "D_input_model_name = metatrain_finetune_decoder_model\n",
        "\n",
        "inference_dataset = config['deviceID'] +\"_Test.csv\"\n",
        "Inference_result_name = config['deviceID'] +\"_inference_result\""
      ]
    },
    {
      "cell_type": "code",
      "execution_count": 25,
      "metadata": {
        "colab": {
          "base_uri": "https://localhost:8080/",
          "height": 36
        },
        "id": "6Vz-suuiBCpP",
        "outputId": "4b551be5-026c-4408-c68b-d5c4791a6ecc"
      },
      "outputs": [
        {
          "output_type": "execute_result",
          "data": {
            "text/plain": [
              "'training_model/JNU_bearing_metatrain_encoder.h5'"
            ],
            "application/vnd.google.colaboratory.intrinsic+json": {
              "type": "string"
            }
          },
          "metadata": {},
          "execution_count": 25
        }
      ],
      "source": [
        "E_input_model_name"
      ]
    },
    {
      "cell_type": "code",
      "execution_count": 26,
      "metadata": {
        "colab": {
          "base_uri": "https://localhost:8080/",
          "height": 36
        },
        "id": "fa1Q4TBBBCpQ",
        "outputId": "051b052f-5867-4be5-b43e-2ee4d13ed86b"
      },
      "outputs": [
        {
          "output_type": "execute_result",
          "data": {
            "text/plain": [
              "'training_model/JNU_bearing_metatrain_decoder.h5'"
            ],
            "application/vnd.google.colaboratory.intrinsic+json": {
              "type": "string"
            }
          },
          "metadata": {},
          "execution_count": 26
        }
      ],
      "source": [
        "D_input_model_name"
      ]
    },
    {
      "cell_type": "code",
      "execution_count": 36,
      "metadata": {
        "id": "TDRbPFbvBCpQ"
      },
      "outputs": [],
      "source": [
        "if envs['deviceID'] == 'FF548D29':\n",
        "    # features column order of autoencoder model\n",
        "    model_features = ['X_OAVelocity', 'Y_OAVelocity', 'Z_OAVelocity',\n",
        "                    'X_Peakmg', 'Y_Peakmg', 'Z_Peakmg', 'X_RMSmg', 'Y_RMSmg', 'Z_RMSmg',\n",
        "                    'X_Kurtosis', 'Y_Kurtosis', 'Z_Kurtosis', 'X_CrestFactor',\n",
        "                    'Y_CrestFactor', 'Z_CrestFactor', 'X_Skewness', 'Y_Skewness',\n",
        "                    'Z_Skewness', 'X_Deviation', 'Y_Deviation', 'Z_Deviation',\n",
        "                    'X_Displacement', 'Y_Displacement', 'Z_Displacement']\n",
        "    # Preprocess data\n",
        "    data = data.dropna()\n",
        "    rawdata = data.copy()\n",
        "    rawdata = rawdata.drop_duplicates()\n",
        "\n",
        "    # delete outliers in 24 model feauture columns\n",
        "    for i in range(len(model_features)):\n",
        "        rawdata = delete_outlier(rawdata,model_features[i])\n",
        "\n",
        "    # save a raw data copy for further dataframe combination\n",
        "    rawdata_new = rawdata.copy()\n",
        "    rawdata_new = rawdata_new[model_features]\n",
        "\n",
        "    # Normalize data using pretrain scaler\n",
        "    Xy_drop = rawdata_new.copy()\n",
        "    norm_Xy_drop = scaler.transform(Xy_drop)\n",
        "    norm_Xy_drop_df = pd.DataFrame(norm_Xy_drop)\n",
        "\n",
        "    x_test_list = []\n",
        "    x_test_list.append(norm_Xy_drop_df)\n",
        "else:\n",
        "    # Preprocess data\n",
        "    data = data.dropna()\n",
        "    rawdata = data.copy()\n",
        "    rawdata = rawdata.drop_duplicates()\n",
        "    # save a raw data copy for further dataframe combination\n",
        "    rawdata_new = rawdata.copy()\n",
        "    # Normalize data using pretrain scaler\n",
        "    Xy_drop = rawdata_new.copy()\n",
        "    if envs['deviceID'] == 'bearing_comp':\n",
        "        Xy_drop.drop('label', axis=1, inplace=True)\n",
        "    norm_Xy_drop = scaler.transform(Xy_drop)\n",
        "    norm_Xy_drop_df = pd.DataFrame(norm_Xy_drop)\n",
        "    x_test_list = []\n",
        "    x_test_list.append(norm_Xy_drop_df)\n",
        "\n",
        "test_dataset = tf.data.Dataset.from_tensor_slices(tuple([data.to_numpy() for data in x_test_list])).batch(1)\n",
        "\n",
        "# Construct autoencoder model\n",
        "input_dim = x_test_list[0].shape[1] #num of predictor variables, \n",
        "encoder, decoder = make_encoder_decoder(input_dim)\n",
        "\n",
        "encoder.load_weights(E_input_model_name, by_name=True)\n",
        "decoder.load_weights(D_input_model_name, by_name=True)\n",
        "\n",
        "# Predict the inference dataset\n",
        "X_rmse = run_inference_5min(test_dataset,encoder,decoder)\n",
        "X_rmse_df=pd.DataFrame(X_rmse)\n",
        "X_rmse_df.columns = ['degrading_level']"
      ]
    },
    {
      "cell_type": "markdown",
      "metadata": {
        "id": "L7FK1P3vBCpQ"
      },
      "source": [
        "# Upload 7 days inferenced training data to Postgresql"
      ]
    },
    {
      "cell_type": "code",
      "execution_count": 37,
      "metadata": {
        "id": "UsYSeMb9BCpR"
      },
      "outputs": [],
      "source": [
        "def make_list_rmse(df):\n",
        "    list_rmse=[]\n",
        "    \n",
        "    # first append time-related column type\n",
        "    list_rmse.append({'name':df.columns[0],\n",
        "                      'type':'TIMESTAMPTZ'})\n",
        "    \n",
        "    # then iterate the rest of the columns type\n",
        "    for i in range(1,len(df.columns)):\n",
        "        data_type = str(df.dtypes[i]).upper()\n",
        "        if data_type == 'FLOAT64':\n",
        "            data_type = 'FLOAT'\n",
        "        elif data_type == 'INT64':\n",
        "            data_type = 'INTEGER'\n",
        "        else:\n",
        "            data_type = 'VARCHAR(64)'\n",
        "\n",
        "        list_rmse.append({'name':df.columns[i],\n",
        "                          'type':data_type})\n",
        "    \n",
        "    return list_rmse"
      ]
    },
    {
      "cell_type": "code",
      "execution_count": 38,
      "metadata": {
        "id": "sFnXLbwJBCpR"
      },
      "outputs": [],
      "source": [
        "def get_data_by_deltatime(data , deltatime):\n",
        "    #data_deltatime = data.asfreq(freq= deltatime)\n",
        "    #data_deltatime = data_deltatime.dropna()\n",
        "    \n",
        "    # save string type column \n",
        "    data_id = data['deviceId'].iloc[0]\n",
        "    \n",
        "    data.set_index(\"ts\", inplace=True)  # New DataHub format\n",
        "    data_deltatime = data.resample(rule = deltatime).mean()\n",
        "    data_deltatime = data_deltatime.dropna()\n",
        "    data_deltatime['deviceId'] = data_id\n",
        "    \n",
        "    return data_deltatime"
      ]
    },
    {
      "cell_type": "code",
      "execution_count": 39,
      "metadata": {
        "id": "aLqY54xvBCpS"
      },
      "outputs": [],
      "source": [
        "# Combine the degrading_level result with original inference dataset then save\n",
        "inference_data_raw = rawdata.copy()\n",
        "\n",
        "rawdata_reindex = inference_data_raw.reset_index()\n",
        "X_rawdata_rmse=pd.concat([rawdata_reindex, X_rmse_df], axis=1)\n",
        "# X_rawdata_rmse = X_rawdata_rmse.drop(['index'],axis=1)\n",
        "\n",
        "# sort the dataframe by ascending time order\n",
        "# X_rawdata_rmse = X_rawdata_rmse.sort_values(by='ts', ascending=True)\n",
        "# X_rawdata_rmse = X_rawdata_rmse.sort_values(by='Time', ascending=True)\n",
        "X_rawdata_rmse.reset_index(drop=True, inplace=True)\n",
        "\n",
        "# double check the column order of upload inference result\n",
        "# final_order = ['ts','X_OAVelocity', 'Y_OAVelocity', 'Z_OAVelocity', 'Temp_Value',\n",
        "#                 'X_Peakmg', 'Y_Peakmg', 'Z_Peakmg', 'X_RMSmg', 'Y_RMSmg', 'Z_RMSmg',\n",
        "#                 'X_Kurtosis', 'Y_Kurtosis', 'Z_Kurtosis', 'X_CrestFactor',\n",
        "#                 'Y_CrestFactor', 'Z_CrestFactor', 'X_Skewness', 'Y_Skewness',\n",
        "#                 'Z_Skewness', 'X_Deviation', 'Y_Deviation', 'Z_Deviation',\n",
        "#                 'X_Displacement', 'Y_Displacement', 'Z_Displacement', 'Battery_Level',\n",
        "#                 'Power_source', 'Timestamp', 'Timestamp1', 'RSSI', 'SNR', 'Device_EUI',\n",
        "#                 'Device_EUI1', 'Device_EUI2', 'Device_EUI3', 'Battery_Voltage',\n",
        "#                 'deviceId', 'degrading_level']\n",
        "\n",
        "# X_rawdata_rmse = X_rawdata_rmse[final_order]"
      ]
    },
    {
      "cell_type": "code",
      "source": [
        "X_rawdata_rmse"
      ],
      "metadata": {
        "colab": {
          "base_uri": "https://localhost:8080/",
          "height": 424
        },
        "id": "ZPf1LaUTrH2S",
        "outputId": "43bf353a-3622-4ee3-94de-f775cfe715f3"
      },
      "execution_count": 40,
      "outputs": [
        {
          "output_type": "execute_result",
          "data": {
            "text/plain": [
              "         index  0.0034583  degrading_level\n",
              "0            0  -0.000542         0.000004\n",
              "1            1  -0.032458         0.000004\n",
              "2            2  -0.011792         0.000004\n",
              "3            3   0.037875         0.000005\n",
              "4            4   0.111880         0.000005\n",
              "...        ...        ...              ...\n",
              "18098  1493257  -0.278670         0.000034\n",
              "18099  1500265   0.300880         0.000018\n",
              "18100  1501159  -0.252540         0.000029\n",
              "18101  1501218  -0.274170         0.000033\n",
              "18102  1501491   0.293670         0.000006\n",
              "\n",
              "[18103 rows x 3 columns]"
            ],
            "text/html": [
              "\n",
              "  <div id=\"df-374b6338-af02-4d97-b309-d3853289ea9e\">\n",
              "    <div class=\"colab-df-container\">\n",
              "      <div>\n",
              "<style scoped>\n",
              "    .dataframe tbody tr th:only-of-type {\n",
              "        vertical-align: middle;\n",
              "    }\n",
              "\n",
              "    .dataframe tbody tr th {\n",
              "        vertical-align: top;\n",
              "    }\n",
              "\n",
              "    .dataframe thead th {\n",
              "        text-align: right;\n",
              "    }\n",
              "</style>\n",
              "<table border=\"1\" class=\"dataframe\">\n",
              "  <thead>\n",
              "    <tr style=\"text-align: right;\">\n",
              "      <th></th>\n",
              "      <th>index</th>\n",
              "      <th>0.0034583</th>\n",
              "      <th>degrading_level</th>\n",
              "    </tr>\n",
              "  </thead>\n",
              "  <tbody>\n",
              "    <tr>\n",
              "      <th>0</th>\n",
              "      <td>0</td>\n",
              "      <td>-0.000542</td>\n",
              "      <td>0.000004</td>\n",
              "    </tr>\n",
              "    <tr>\n",
              "      <th>1</th>\n",
              "      <td>1</td>\n",
              "      <td>-0.032458</td>\n",
              "      <td>0.000004</td>\n",
              "    </tr>\n",
              "    <tr>\n",
              "      <th>2</th>\n",
              "      <td>2</td>\n",
              "      <td>-0.011792</td>\n",
              "      <td>0.000004</td>\n",
              "    </tr>\n",
              "    <tr>\n",
              "      <th>3</th>\n",
              "      <td>3</td>\n",
              "      <td>0.037875</td>\n",
              "      <td>0.000005</td>\n",
              "    </tr>\n",
              "    <tr>\n",
              "      <th>4</th>\n",
              "      <td>4</td>\n",
              "      <td>0.111880</td>\n",
              "      <td>0.000005</td>\n",
              "    </tr>\n",
              "    <tr>\n",
              "      <th>...</th>\n",
              "      <td>...</td>\n",
              "      <td>...</td>\n",
              "      <td>...</td>\n",
              "    </tr>\n",
              "    <tr>\n",
              "      <th>18098</th>\n",
              "      <td>1493257</td>\n",
              "      <td>-0.278670</td>\n",
              "      <td>0.000034</td>\n",
              "    </tr>\n",
              "    <tr>\n",
              "      <th>18099</th>\n",
              "      <td>1500265</td>\n",
              "      <td>0.300880</td>\n",
              "      <td>0.000018</td>\n",
              "    </tr>\n",
              "    <tr>\n",
              "      <th>18100</th>\n",
              "      <td>1501159</td>\n",
              "      <td>-0.252540</td>\n",
              "      <td>0.000029</td>\n",
              "    </tr>\n",
              "    <tr>\n",
              "      <th>18101</th>\n",
              "      <td>1501218</td>\n",
              "      <td>-0.274170</td>\n",
              "      <td>0.000033</td>\n",
              "    </tr>\n",
              "    <tr>\n",
              "      <th>18102</th>\n",
              "      <td>1501491</td>\n",
              "      <td>0.293670</td>\n",
              "      <td>0.000006</td>\n",
              "    </tr>\n",
              "  </tbody>\n",
              "</table>\n",
              "<p>18103 rows × 3 columns</p>\n",
              "</div>\n",
              "      <button class=\"colab-df-convert\" onclick=\"convertToInteractive('df-374b6338-af02-4d97-b309-d3853289ea9e')\"\n",
              "              title=\"Convert this dataframe to an interactive table.\"\n",
              "              style=\"display:none;\">\n",
              "        \n",
              "  <svg xmlns=\"http://www.w3.org/2000/svg\" height=\"24px\"viewBox=\"0 0 24 24\"\n",
              "       width=\"24px\">\n",
              "    <path d=\"M0 0h24v24H0V0z\" fill=\"none\"/>\n",
              "    <path d=\"M18.56 5.44l.94 2.06.94-2.06 2.06-.94-2.06-.94-.94-2.06-.94 2.06-2.06.94zm-11 1L8.5 8.5l.94-2.06 2.06-.94-2.06-.94L8.5 2.5l-.94 2.06-2.06.94zm10 10l.94 2.06.94-2.06 2.06-.94-2.06-.94-.94-2.06-.94 2.06-2.06.94z\"/><path d=\"M17.41 7.96l-1.37-1.37c-.4-.4-.92-.59-1.43-.59-.52 0-1.04.2-1.43.59L10.3 9.45l-7.72 7.72c-.78.78-.78 2.05 0 2.83L4 21.41c.39.39.9.59 1.41.59.51 0 1.02-.2 1.41-.59l7.78-7.78 2.81-2.81c.8-.78.8-2.07 0-2.86zM5.41 20L4 18.59l7.72-7.72 1.47 1.35L5.41 20z\"/>\n",
              "  </svg>\n",
              "      </button>\n",
              "      \n",
              "  <style>\n",
              "    .colab-df-container {\n",
              "      display:flex;\n",
              "      flex-wrap:wrap;\n",
              "      gap: 12px;\n",
              "    }\n",
              "\n",
              "    .colab-df-convert {\n",
              "      background-color: #E8F0FE;\n",
              "      border: none;\n",
              "      border-radius: 50%;\n",
              "      cursor: pointer;\n",
              "      display: none;\n",
              "      fill: #1967D2;\n",
              "      height: 32px;\n",
              "      padding: 0 0 0 0;\n",
              "      width: 32px;\n",
              "    }\n",
              "\n",
              "    .colab-df-convert:hover {\n",
              "      background-color: #E2EBFA;\n",
              "      box-shadow: 0px 1px 2px rgba(60, 64, 67, 0.3), 0px 1px 3px 1px rgba(60, 64, 67, 0.15);\n",
              "      fill: #174EA6;\n",
              "    }\n",
              "\n",
              "    [theme=dark] .colab-df-convert {\n",
              "      background-color: #3B4455;\n",
              "      fill: #D2E3FC;\n",
              "    }\n",
              "\n",
              "    [theme=dark] .colab-df-convert:hover {\n",
              "      background-color: #434B5C;\n",
              "      box-shadow: 0px 1px 3px 1px rgba(0, 0, 0, 0.15);\n",
              "      filter: drop-shadow(0px 1px 2px rgba(0, 0, 0, 0.3));\n",
              "      fill: #FFFFFF;\n",
              "    }\n",
              "  </style>\n",
              "\n",
              "      <script>\n",
              "        const buttonEl =\n",
              "          document.querySelector('#df-374b6338-af02-4d97-b309-d3853289ea9e button.colab-df-convert');\n",
              "        buttonEl.style.display =\n",
              "          google.colab.kernel.accessAllowed ? 'block' : 'none';\n",
              "\n",
              "        async function convertToInteractive(key) {\n",
              "          const element = document.querySelector('#df-374b6338-af02-4d97-b309-d3853289ea9e');\n",
              "          const dataTable =\n",
              "            await google.colab.kernel.invokeFunction('convertToInteractive',\n",
              "                                                     [key], {});\n",
              "          if (!dataTable) return;\n",
              "\n",
              "          const docLinkHtml = 'Like what you see? Visit the ' +\n",
              "            '<a target=\"_blank\" href=https://colab.research.google.com/notebooks/data_table.ipynb>data table notebook</a>'\n",
              "            + ' to learn more about interactive tables.';\n",
              "          element.innerHTML = '';\n",
              "          dataTable['output_type'] = 'display_data';\n",
              "          await google.colab.output.renderOutput(dataTable, element);\n",
              "          const docLink = document.createElement('div');\n",
              "          docLink.innerHTML = docLinkHtml;\n",
              "          element.appendChild(docLink);\n",
              "        }\n",
              "      </script>\n",
              "    </div>\n",
              "  </div>\n",
              "  "
            ]
          },
          "metadata": {},
          "execution_count": 40
        }
      ]
    },
    {
      "cell_type": "code",
      "source": [
        "print(X_rawdata_rmse.columns)\n",
        "# X_rawdata_rmse['DESCRIPION']"
      ],
      "metadata": {
        "colab": {
          "base_uri": "https://localhost:8080/"
        },
        "id": "IRXo8BW6sTFZ",
        "outputId": "ccde4427-cee9-421d-f772-4af64f9955b2"
      },
      "execution_count": 41,
      "outputs": [
        {
          "output_type": "stream",
          "name": "stdout",
          "text": [
            "Index(['index', '0.0034583', 'degrading_level'], dtype='object')\n"
          ]
        }
      ]
    },
    {
      "cell_type": "code",
      "source": [
        "if envs['deviceID'] == 'FF548D29':\n",
        "    check_index = ['index', 'degrading_level']\n",
        "elif envs['deviceID'] == 'bearing_comp':\n",
        "    check_index = ['label', 'degrading_level']\n",
        "elif envs['deviceID'] == 'JNU_bearing':\n",
        "    check_index = ['index', 'degrading_level']\n",
        "\n",
        "_result = X_rawdata_rmse[check_index]\n",
        "# _result.hist()\n",
        "# fig, ax = plt.subplots()\n",
        "# plt.plot(_result['label'], _result['degrading_level'])\n",
        "plt.bar(x=_result[check_index[0]], height=_result[check_index[1]])"
      ],
      "metadata": {
        "colab": {
          "base_uri": "https://localhost:8080/",
          "height": 295
        },
        "id": "2AYtvcyhD0cf",
        "outputId": "1c08f054-34ac-447c-b4b4-2e7b7c017d3f"
      },
      "execution_count": 45,
      "outputs": [
        {
          "output_type": "execute_result",
          "data": {
            "text/plain": [
              "<BarContainer object of 18103 artists>"
            ]
          },
          "metadata": {},
          "execution_count": 45
        },
        {
          "output_type": "display_data",
          "data": {
            "text/plain": [
              "<Figure size 432x288 with 1 Axes>"
            ],
            "image/png": "[encoded data removed]"
          },
          "metadata": {
            "needs_background": "light"
          }
        }
      ]
    },
    {
      "cell_type": "code",
      "source": [
        "import seaborn as sns\n",
        "# sns.pairplot(_result, hue='label', size=2.5);\n",
        "# sns.pairplot(_result, size=4);\n",
        "sns.lineplot(data=_result, \n",
        "             x=check_index[0], \n",
        "             y=check_index[1], \n",
        "             )"
      ],
      "metadata": {
        "colab": {
          "base_uri": "https://localhost:8080/",
          "height": 296
        },
        "id": "M49idfNOAWf0",
        "outputId": "06d89f0f-d166-4d61-c35a-52e210ac25d7"
      },
      "execution_count": 44,
      "outputs": [
        {
          "output_type": "execute_result",
          "data": {
            "text/plain": [
              "<matplotlib.axes._subplots.AxesSubplot at 0x7fad28f59710>"
            ]
          },
          "metadata": {},
          "execution_count": 44
        },
        {
          "output_type": "display_data",
          "data": {
            "text/plain": [
              "<Figure size 432x288 with 1 Axes>"
            ],
            "image/png": "[encoded data removed]"
          },
          "metadata": {
            "needs_background": "light"
          }
        }
      ]
    },
    {
      "cell_type": "code",
      "execution_count": null,
      "metadata": {
        "id": "A-WILy_NBCpS"
      },
      "outputs": [],
      "source": [
        "# 將數據分割成十分鐘一筆\n",
        "X_rawdata_rmse_deltatime = get_data_by_deltatime(X_rawdata_rmse ,'10min')\n",
        "X_rawdata_rmse_deltatime = X_rawdata_rmse_deltatime.reset_index()\n",
        "X_rawdata_rmse_deltatime = X_rawdata_rmse_deltatime[final_order]"
      ]
    },
    {
      "cell_type": "code",
      "execution_count": null,
      "metadata": {
        "id": "yUsdzHFbBCpS"
      },
      "outputs": [],
      "source": [
        "X_rawdata_rmse_deltatime"
      ]
    },
    {
      "cell_type": "code",
      "execution_count": null,
      "metadata": {
        "id": "evmvRaatBCpS"
      },
      "outputs": [],
      "source": [
        "# 上傳推理過後的 training data至 aifsphm.deviceID (rawdata+degrading level = 39 columns)\n",
        "# *參考* https://wise-paas.advantech.com/zh-tw/marketplace/product/advantech.aifs-phm\n",
        "'''upload_to_postgresDB(config['deviceID'] ,X_rawdata_rmse_deltatime)'''"
      ]
    },
    {
      "cell_type": "markdown",
      "metadata": {
        "id": "jfS2AdlHBCpT"
      },
      "source": [
        "# 上傳經過preprocessed之ts, Z_OAVelocity, degrading_level至aifsphm.deviceID_predict"
      ]
    },
    {
      "cell_type": "code",
      "execution_count": null,
      "metadata": {
        "id": "zjETk384BCpT"
      },
      "outputs": [],
      "source": [
        "def phm_data_cleaning(data):\n",
        "    '''1. Feature selection\n",
        "       2. Time format conversion: UTC -> Local time\n",
        "       3. Sort data by time, and remove data that overlaps in time\n",
        "       4. Remove nan value\n",
        "    '''\n",
        "    col = ['ts', 'Z_OAVelocity', 'degrading_level']\n",
        "    # data['ts'] = data['ts'] + datetime.timedelta(hours=8)\n",
        "    \n",
        "    # Sort data by time, and remove data that overlaps in time\n",
        "    data = data.sort_values(by = 'ts', ascending=True)\n",
        "    data.drop_duplicates(\"ts\", \"first\", inplace = True)\n",
        "    # Remove nan value\n",
        "    data  = data.dropna(axis = 0, how = 'any')\n",
        "    \n",
        "    return data\n",
        "\n",
        "def preprocess_historical(day_data):\n",
        "    time = []\n",
        "    rms = []\n",
        "    rmse = []\n",
        "    col = ['ts', 'Z_OAVelocity', 'degrading_level']\n",
        "    for ii in range(len(day_data)):\n",
        "        time1 = day_data[ii].iloc[0, 0]\n",
        "        rms_sort = sorted(day_data[ii].Z_OAVelocity,reverse=True)\n",
        "        rmse_sort = sorted(day_data[ii].degrading_level,reverse=True)\n",
        "        rms_max = max(rms_sort[(round(len(day_data[ii])*0.1)):])\n",
        "        rmse_max = max(rmse_sort[(round(len(day_data[ii])*0.1)):])\n",
        "        time.append(time1), rms.append(rms_max), rmse.append(rmse_max)\n",
        "    preprocess_data = pd.DataFrame([time, rms, rmse]).T\n",
        "    preprocess_data.columns = col\n",
        "    return preprocess_data"
      ]
    },
    {
      "cell_type": "code",
      "execution_count": null,
      "metadata": {
        "id": "Qdwls9CXBCpT"
      },
      "outputs": [],
      "source": [
        "data2 = phm_data_cleaning(X_rawdata_rmse_deltatime)\n",
        "traindata_day = 1\n",
        "for i in range(len(data2)-1):\n",
        "    if data2['ts'].iloc[i].date() != data2['ts'].iloc[i+1].date():\n",
        "        traindata_day = traindata_day + 1\n",
        "            \n",
        "# 創建空list, dataframe\n",
        "day_data = {}\n",
        "day_lst = {}\n",
        "for v in range(traindata_day):\n",
        "    day_data[v] = pd.DataFrame(columns=range(3))\n",
        "    day_lst[v] = []\n",
        "    \n",
        "# 每天的時間長度可能不同，因此不同天存入不同的list, dataframe\n",
        "traindata_day_index = 0\n",
        "for i in range(len(data2)-1):\n",
        "    if data2['ts'].iloc[i].date() == data2['ts'].iloc[i+1].date():\n",
        "        day_lst[traindata_day_index].append(data2.iloc[i, :])\n",
        "        day_data[traindata_day_index] = pd.DataFrame(day_lst[traindata_day_index])\n",
        "    else:\n",
        "        day_lst[traindata_day_index].append(data2.iloc[i, :])\n",
        "        day_data[traindata_day_index] = pd.DataFrame(day_lst[traindata_day_index])\n",
        "        traindata_day_index = traindata_day_index + 1\n",
        "        \n",
        "day_lst[traindata_day_index].append(data2.iloc[len(data2)-1, :])\n",
        "day_data[traindata_day_index] = pd.DataFrame(day_lst[traindata_day_index])"
      ]
    },
    {
      "cell_type": "code",
      "execution_count": null,
      "metadata": {
        "id": "SIZVwrDCBCpT"
      },
      "outputs": [],
      "source": [
        "data2['ts'].iloc[i].date()"
      ]
    },
    {
      "cell_type": "code",
      "execution_count": null,
      "metadata": {
        "id": "Ef9zYTe1BCpT"
      },
      "outputs": [],
      "source": [
        "preprocessed_df = preprocess_historical(day_data)"
      ]
    },
    {
      "cell_type": "code",
      "execution_count": null,
      "metadata": {
        "id": "ot_pHiimBCpU"
      },
      "outputs": [],
      "source": [
        "upload_preprocessed_to_postgresDB(config['deviceID'],preprocessed_df)"
      ]
    },
    {
      "cell_type": "code",
      "execution_count": null,
      "metadata": {
        "id": "M45vL_mKBCpU"
      },
      "outputs": [],
      "source": [
        ""
      ]
    }
  ],
  "metadata": {
    "colab": {
      "collapsed_sections": [],
      "name": "[advt_new_data]detect_predict_train.ipynb",
      "provenance": [],
      "include_colab_link": true
    },
    "kernelspec": {
      "display_name": "Python 3",
      "language": "python",
      "name": "python3"
    },
    "language_info": {
      "codemirror_mode": {
        "name": "ipython",
        "version": 3
      },
      "file_extension": ".py",
      "mimetype": "text/x-python",
      "name": "python",
      "nbconvert_exporter": "python",
      "pygments_lexer": "ipython3",
      "version": "3.6.9"
    },
    "accelerator": "GPU"
  },
  "nbformat": 4,
  "nbformat_minor": 0
}